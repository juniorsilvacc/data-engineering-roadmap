{
 "cells": [
  {
   "cell_type": "code",
   "execution_count": 3,
   "id": "b9ebe9be",
   "metadata": {},
   "outputs": [],
   "source": [
    "import mysql.connector\n",
    "import pandas as pd\n",
    "\n",
    "conexao = mysql.connector.connect(user='root', password='root', host='localhost', database='python')\n",
    "cursor = conexao.cursor() "
   ]
  },
  {
   "cell_type": "code",
   "execution_count": 6,
   "id": "ec2ec38d",
   "metadata": {},
   "outputs": [],
   "source": [
    "comando = \"\"\"\n",
    "    CREATE TABLE IF NOT EXISTS testpython (\n",
    "        id INT,\n",
    "        nome VARCHAR(60)\n",
    "    );\n",
    "\"\"\"\n",
    "\n",
    "cursor.execute(comando)\n",
    "conexao.commit()\n",
    "\n",
    "cursor.close()\n",
    "conexao.close()"
   ]
  }
 ],
 "metadata": {
  "kernelspec": {
   "display_name": "venv",
   "language": "python",
   "name": "python3"
  },
  "language_info": {
   "codemirror_mode": {
    "name": "ipython",
    "version": 3
   },
   "file_extension": ".py",
   "mimetype": "text/x-python",
   "name": "python",
   "nbconvert_exporter": "python",
   "pygments_lexer": "ipython3",
   "version": "3.13.3"
  }
 },
 "nbformat": 4,
 "nbformat_minor": 5
}
