{
 "cells": [
  {
   "cell_type": "code",
   "execution_count": 4,
   "id": "75119ed8",
   "metadata": {},
   "outputs": [],
   "source": [
    "import mysql.connector\n",
    "import pandas as pd\n",
    "\n",
    "conexao = mysql.connector.connect(user='root', password='root', host='localhost', database='python')\n",
    "cursor = conexao.cursor() "
   ]
  },
  {
   "cell_type": "code",
   "execution_count": 5,
   "id": "c5d973d9",
   "metadata": {},
   "outputs": [
    {
     "data": {
      "text/html": [
       "<div>\n",
       "<style scoped>\n",
       "    .dataframe tbody tr th:only-of-type {\n",
       "        vertical-align: middle;\n",
       "    }\n",
       "\n",
       "    .dataframe tbody tr th {\n",
       "        vertical-align: top;\n",
       "    }\n",
       "\n",
       "    .dataframe thead th {\n",
       "        text-align: right;\n",
       "    }\n",
       "</style>\n",
       "<table border=\"1\" class=\"dataframe\">\n",
       "  <thead>\n",
       "    <tr style=\"text-align: right;\">\n",
       "      <th></th>\n",
       "      <th>category_id</th>\n",
       "      <th>category_name</th>\n",
       "    </tr>\n",
       "  </thead>\n",
       "  <tbody>\n",
       "    <tr>\n",
       "      <th>0</th>\n",
       "      <td>1</td>\n",
       "      <td>Children Bicycles</td>\n",
       "    </tr>\n",
       "    <tr>\n",
       "      <th>1</th>\n",
       "      <td>2</td>\n",
       "      <td>Comfort Bicycles</td>\n",
       "    </tr>\n",
       "    <tr>\n",
       "      <th>2</th>\n",
       "      <td>3</td>\n",
       "      <td>Cruisers Bicycles</td>\n",
       "    </tr>\n",
       "    <tr>\n",
       "      <th>3</th>\n",
       "      <td>4</td>\n",
       "      <td>Cyclocross Bicycles</td>\n",
       "    </tr>\n",
       "    <tr>\n",
       "      <th>4</th>\n",
       "      <td>5</td>\n",
       "      <td>Electric Bikes</td>\n",
       "    </tr>\n",
       "  </tbody>\n",
       "</table>\n",
       "</div>"
      ],
      "text/plain": [
       "   category_id        category_name\n",
       "0            1    Children Bicycles\n",
       "1            2     Comfort Bicycles\n",
       "2            3    Cruisers Bicycles\n",
       "3            4  Cyclocross Bicycles\n",
       "4            5       Electric Bikes"
      ]
     },
     "execution_count": 5,
     "metadata": {},
     "output_type": "execute_result"
    }
   ],
   "source": [
    "caminho_categorias = r\"/Users/juniorsilva/develop/data/estudos-engenharia-dados/engenharia-dados-com-python-e-banco-de-dados/MySQL/4.Arquivos-CSV/categories.csv\"\n",
    "\n",
    "df_categorias = pd.read_csv(caminho_categorias, sep=',')\n",
    "df_categorias.head()"
   ]
  },
  {
   "cell_type": "code",
   "execution_count": 6,
   "id": "e493572d",
   "metadata": {},
   "outputs": [],
   "source": [
    "try:\n",
    "    # Exclui todos os dados na tabela 'categories' antes de realizar a carga dos novos dados\n",
    "    cursor.execute(\"DELETE FROM python.categories\")\n",
    "    conexao.commit()  # Confirma a exclusão dos dados\n",
    "\n",
    "    # Itera sobre as linhas do DataFrame df_categorias\n",
    "    for _, df_line in df_categorias.iterrows():\n",
    "        # Extrai o id e o nome da categoria da linha atual\n",
    "        category_id = df_line['category_id']\n",
    "        category_name = df_line['category_name']\n",
    "\n",
    "        # Verifica se o id da categoria já existe na tabela\n",
    "        cursor.execute(\"SELECT category_id FROM python.categories WHERE category_id = %s\", (category_id,))\n",
    "\n",
    "        result = cursor.fetchone() is not None # Se retornar algo, a categoria existe\n",
    "\n",
    "        if not result:\n",
    "            # Se a categoria não existir, insere a nova categoria no banco de dados\n",
    "            comando = \"\"\"\n",
    "                INSERT INTO python.categories (category_id, category_name) VALUES (%s, %s)\n",
    "            \"\"\"\n",
    "            valores = (category_id, category_name)\n",
    "            cursor.execute(comando, valores)  # Executa o comando de inserção\n",
    "        else:\n",
    "            # Caso a categoria já exista, imprime uma mensagem e ignora a inserção\n",
    "            print(f\"A categoria com ID {category_id} já existe, ignorando inserção.\")\n",
    "    \n",
    "    # Se tudo correr bem, confirma a transação, persistindo as mudanças no banco de dados\n",
    "    conexao.commit()\n",
    "\n",
    "except Exception as e:\n",
    "    # Em caso de erro, desfaz todas as operações executadas até o momento\n",
    "    conexao.rollback()\n",
    "    # Exibe a mensagem de erro para o diagnóstico\n",
    "    print(f\"Erro durante a inserção: {e}\")\n",
    "finally:\n",
    "    # Fecha o cursor para liberar o recurso\n",
    "    cursor.close()\n",
    "    # Fecha a conexão com o banco de dados\n",
    "    conexao.close()\n"
   ]
  }
 ],
 "metadata": {
  "kernelspec": {
   "display_name": "venv",
   "language": "python",
   "name": "python3"
  },
  "language_info": {
   "codemirror_mode": {
    "name": "ipython",
    "version": 3
   },
   "file_extension": ".py",
   "mimetype": "text/x-python",
   "name": "python",
   "nbconvert_exporter": "python",
   "pygments_lexer": "ipython3",
   "version": "3.13.3"
  }
 },
 "nbformat": 4,
 "nbformat_minor": 5
}
