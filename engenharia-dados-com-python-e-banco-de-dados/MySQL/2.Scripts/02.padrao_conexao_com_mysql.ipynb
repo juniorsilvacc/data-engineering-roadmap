{
 "cells": [
  {
   "cell_type": "markdown",
   "metadata": {},
   "source": [
    "##### Documentação \n",
    "Connector Python\n",
    "https://dev.mysql.com/doc/connector-python/en/connector-python-examples.html\n",
    "\n",
    "\n",
    "Conexão padrão:\n",
    "https://dev.mysql.com/doc/connector-python/en/connector-python-example-connecting.html\n",
    "\n",
    "\n",
    "Connection Arguments (Argumentos ou parametros da conexão)\n",
    "https://dev.mysql.com/doc/connector-python/en/connector-python-connectargs.html"
   ]
  },
  {
   "cell_type": "code",
   "execution_count": 2,
   "metadata": {},
   "outputs": [],
   "source": [
    "# pip install mysql-connector-python\n",
    "\n",
    "import mysql.connector\n",
    "\n",
    "conexao = mysql.connector.connect(user='root',                 # Usuario\n",
    "                              password='root',                 # Senha\n",
    "                              host='localhost',                # Servidor MySQL\n",
    "                              database='db_mysql_eng'              # Banco de dados (Schema)                              \n",
    "                              )  \n",
    "\n",
    "cursor = conexao.cursor()   # Executa comandos (query,insert,update,delete etc...) \n",
    "\n",
    "\n",
    "cursor.close()  # Fecha Cursor\n",
    "conexao.close() # Fecha conexão"
   ]
  },
  {
   "cell_type": "markdown",
   "metadata": {},
   "source": [
    "2a opção de conexão"
   ]
  },
  {
   "cell_type": "code",
   "execution_count": null,
   "metadata": {},
   "outputs": [],
   "source": [
    "import mysql.connector\n",
    "\n",
    "config = {\n",
    "  'user': 'root',\n",
    "  'password': 'root',\n",
    "  'host': 'localhost',\n",
    "  'database': 'db_mysql_eng'  \n",
    "}\n",
    "\n",
    "cnx = mysql.connector.connect(**config)\n",
    "cursor = cnx.cursor()   \n",
    "\n",
    "#Ações em banco de dados \n",
    "    \n",
    "cursor.close() \n",
    "cnx.close()"
   ]
  }
 ],
 "metadata": {
  "kernelspec": {
   "display_name": "venv",
   "language": "python",
   "name": "python3"
  },
  "language_info": {
   "codemirror_mode": {
    "name": "ipython",
    "version": 3
   },
   "file_extension": ".py",
   "mimetype": "text/x-python",
   "name": "python",
   "nbconvert_exporter": "python",
   "pygments_lexer": "ipython3",
   "version": "3.12.3"
  }
 },
 "nbformat": 4,
 "nbformat_minor": 2
}
