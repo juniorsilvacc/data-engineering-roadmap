{
 "cells": [
  {
   "cell_type": "code",
   "execution_count": 10,
   "id": "b703afcf",
   "metadata": {},
   "outputs": [],
   "source": [
    "import mysql.connector\n",
    "import pandas as pd\n",
    "\n",
    "conexao = mysql.connector.connect(user='root', password='root', host='localhost', database='python')\n",
    "cursor = conexao.cursor() "
   ]
  },
  {
   "cell_type": "code",
   "execution_count": 11,
   "id": "99247290",
   "metadata": {},
   "outputs": [
    {
     "data": {
      "text/html": [
       "<div>\n",
       "<style scoped>\n",
       "    .dataframe tbody tr th:only-of-type {\n",
       "        vertical-align: middle;\n",
       "    }\n",
       "\n",
       "    .dataframe tbody tr th {\n",
       "        vertical-align: top;\n",
       "    }\n",
       "\n",
       "    .dataframe thead th {\n",
       "        text-align: right;\n",
       "    }\n",
       "</style>\n",
       "<table border=\"1\" class=\"dataframe\">\n",
       "  <thead>\n",
       "    <tr style=\"text-align: right;\">\n",
       "      <th></th>\n",
       "      <th>category_id</th>\n",
       "      <th>category_name</th>\n",
       "    </tr>\n",
       "  </thead>\n",
       "  <tbody>\n",
       "    <tr>\n",
       "      <th>0</th>\n",
       "      <td>1</td>\n",
       "      <td>Children Bicycles</td>\n",
       "    </tr>\n",
       "    <tr>\n",
       "      <th>1</th>\n",
       "      <td>2</td>\n",
       "      <td>Comfort Bicycles</td>\n",
       "    </tr>\n",
       "    <tr>\n",
       "      <th>2</th>\n",
       "      <td>3</td>\n",
       "      <td>Cruisers Bicycles</td>\n",
       "    </tr>\n",
       "    <tr>\n",
       "      <th>3</th>\n",
       "      <td>4</td>\n",
       "      <td>Cyclocross Bicycles</td>\n",
       "    </tr>\n",
       "    <tr>\n",
       "      <th>4</th>\n",
       "      <td>5</td>\n",
       "      <td>Electric Bikes</td>\n",
       "    </tr>\n",
       "  </tbody>\n",
       "</table>\n",
       "</div>"
      ],
      "text/plain": [
       "   category_id        category_name\n",
       "0            1    Children Bicycles\n",
       "1            2     Comfort Bicycles\n",
       "2            3    Cruisers Bicycles\n",
       "3            4  Cyclocross Bicycles\n",
       "4            5       Electric Bikes"
      ]
     },
     "execution_count": 11,
     "metadata": {},
     "output_type": "execute_result"
    }
   ],
   "source": [
    "caminho_categorias = r\"/Users/juniorsilva/develop/data/estudos-engenharia-dados/engenharia-dados-com-python-e-banco-de-dados/MySQL/4.Arquivos-CSV/categories.csv\"\n",
    "\n",
    "df_categorias = pd.read_csv(caminho_categorias, sep=',')\n",
    "df_categorias.head()"
   ]
  },
  {
   "cell_type": "code",
   "execution_count": null,
   "id": "01fe7299",
   "metadata": {},
   "outputs": [],
   "source": [
    "cursor.execute(\"DELETE FROM python.categories\")\n",
    "conexao.commit()\n",
    "\n",
    "for _,df_line in df_categorias.iterrows():\n",
    "    comando = \"\"\"\n",
    "        INSERT INTO python.categories (category_id, category_name) VALUES (%s, %s)\n",
    "    \"\"\"\n",
    "    valores = (df_line['category_id'], df_line['category_name'])\n",
    "    cursor.execute(comando, valores)\n",
    "\n",
    "conexao.commit()\n",
    "\n",
    "cursor.close()\n",
    "conexao.close()"
   ]
  }
 ],
 "metadata": {
  "kernelspec": {
   "display_name": "venv",
   "language": "python",
   "name": "python3"
  },
  "language_info": {
   "codemirror_mode": {
    "name": "ipython",
    "version": 3
   },
   "file_extension": ".py",
   "mimetype": "text/x-python",
   "name": "python",
   "nbconvert_exporter": "python",
   "pygments_lexer": "ipython3",
   "version": "3.13.3"
  }
 },
 "nbformat": 4,
 "nbformat_minor": 5
}
