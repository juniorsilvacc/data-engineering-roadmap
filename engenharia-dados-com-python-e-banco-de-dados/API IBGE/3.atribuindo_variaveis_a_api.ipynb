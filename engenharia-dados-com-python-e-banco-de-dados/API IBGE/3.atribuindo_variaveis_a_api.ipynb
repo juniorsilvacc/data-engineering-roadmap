{
 "cells": [
  {
   "cell_type": "code",
   "execution_count": null,
   "id": "242c33e8",
   "metadata": {},
   "outputs": [],
   "source": [
    "https://servicodados.ibge.gov.br/api/v1/localidades/estados/{UF}"
   ]
  },
  {
   "cell_type": "code",
   "execution_count": null,
   "id": "efd17daf",
   "metadata": {},
   "outputs": [
    {
     "name": "stdout",
     "output_type": "stream",
     "text": [
      "\n",
      "Dados do estado:\n",
      "   id     estado sigla   regiao\n",
      "0  35  São Paulo    SP  Sudeste\n"
     ]
    }
   ],
   "source": [
    "import requests\n",
    "import pandas as pd\n",
    "\n",
    "def obter_dados_estados():\n",
    "    uf = input(\"Digite a sigla do estado (ex: PB, PE, RN): \").upper()\n",
    "\n",
    "    url = f\"https://servicodados.ibge.gov.br/api/v1/localidades/estados/{uf}\"\n",
    "    response = requests.get(url)\n",
    "\n",
    "    if response.status_code == 200:\n",
    "        data = response.json()\n",
    "        df = pd.json_normalize(data)\n",
    "\n",
    "        df[['id', 'nome', 'sigla', 'regiao.nome']]\n",
    "\n",
    "        colunas = ['id', 'nome', 'sigla', 'regiao.nome']\n",
    "        df_formatado = df[colunas].rename(columns={ \n",
    "                'nome': 'estado',\n",
    "                'regiao.nome': 'regiao'\n",
    "            })\n",
    "\n",
    "        print(\"\\nDados do estado:\")\n",
    "        print(df_formatado)\n",
    "    else:\n",
    "        print(\"Estado não encontrado ou error de API.\")\n",
    "\n",
    "obter_dados_estados()"
   ]
  },
  {
   "cell_type": "code",
   "execution_count": 12,
   "id": "0fa5080e",
   "metadata": {},
   "outputs": [
    {
     "name": "stdout",
     "output_type": "stream",
     "text": [
      "   id  uf            nome    regiao sigla\n",
      "0  35  SP       São Paulo   Sudeste    SE\n",
      "1  33  RJ  Rio de Janeiro   Sudeste    SE\n",
      "2  31  MG    Minas Gerais   Sudeste    SE\n",
      "3  29  BA           Bahia  Nordeste    NE\n"
     ]
    }
   ],
   "source": [
    "import requests\n",
    "import pandas as pd\n",
    "\n",
    "def obter_dados_estados(ufs):\n",
    "    dfs = []  # lista para armazenar os dataframes individuais\n",
    "\n",
    "    for uf in ufs:\n",
    "        url = f\"https://servicodados.ibge.gov.br/api/v1/localidades/estados/{uf}\"\n",
    "        response = requests.get(url)\n",
    "\n",
    "        if response.status_code == 200:\n",
    "            data = response.json()\n",
    "            df = pd.json_normalize(data)\n",
    "\n",
    "            df_formatado = df.rename(columns={\n",
    "                'id': 'id',\n",
    "                'sigla': 'uf',\n",
    "                'nome': 'nome',\n",
    "                'regiao.nome': 'regiao',\n",
    "                'regiao.sigla': 'sigla'\n",
    "            })\n",
    "\n",
    "            dfs.append(df_formatado[['id', 'uf', 'nome', 'regiao', 'sigla']])\n",
    "        else:\n",
    "            print(f\"❌ UF '{uf}' não encontrada ou erro na API.\")\n",
    "\n",
    "    if dfs:\n",
    "        resultado = pd.concat(dfs, ignore_index=True)\n",
    "        print(resultado)\n",
    "    else:\n",
    "        print(\"⚠️ Nenhum dado foi recuperado.\")\n",
    "\n",
    "# Lista de UFs que você quer buscar\n",
    "lista_ufs = ['SP', 'RJ', 'MG', 'BA']\n",
    "\n",
    "obter_dados_estados(lista_ufs)\n"
   ]
  }
 ],
 "metadata": {
  "kernelspec": {
   "display_name": "venv",
   "language": "python",
   "name": "python3"
  },
  "language_info": {
   "codemirror_mode": {
    "name": "ipython",
    "version": 3
   },
   "file_extension": ".py",
   "mimetype": "text/x-python",
   "name": "python",
   "nbconvert_exporter": "python",
   "pygments_lexer": "ipython3",
   "version": "3.13.3"
  }
 },
 "nbformat": 4,
 "nbformat_minor": 5
}
