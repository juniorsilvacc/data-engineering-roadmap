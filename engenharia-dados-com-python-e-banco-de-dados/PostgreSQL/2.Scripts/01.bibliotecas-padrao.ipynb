{
 "cells": [
  {
   "cell_type": "code",
   "execution_count": null,
   "metadata": {
    "vscode": {
     "languageId": "plaintext"
    }
   },
   "outputs": [],
   "source": [
    "\"\"\"\n",
    "source venv\\bin\\activate\n",
    "\n",
    "pip install psycopg2  # Conexão com banco de dados postgree\n",
    "pip install openpyxl  # Trabalhar com arquivo Excel\n",
    "pip install pandas    # Manipulação e análise de dados (DF)\n",
    "\n",
    "para upgrade \n",
    "pip install --upgrade pandas\n",
    "\"\"\""
   ]
  }
 ],
 "metadata": {
  "language_info": {
   "name": "python"
  }
 },
 "nbformat": 4,
 "nbformat_minor": 2
}
