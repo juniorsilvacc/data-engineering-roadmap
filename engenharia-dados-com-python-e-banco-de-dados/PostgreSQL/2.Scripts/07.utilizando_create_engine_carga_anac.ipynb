{
 "cells": [
  {
   "cell_type": "code",
   "execution_count": 60,
   "metadata": {},
   "outputs": [],
   "source": [
    "import pandas as pd\n",
    "import chardet\n",
    "\n",
    "caminho_arquivo = \"/home/juniorsilvadev/engenharia-dados/engenharia-dados-com-python-e-banco-de-dados/PostgreSQL/Arquivos JSON/V_OCORRENCIA_AMPLA.json\"\n",
    "\n",
    "with open(caminho_arquivo, \"rb\") as f:\n",
    "    raw_data = f.read(10000)\n",
    "    result = chardet.detect(raw_data)\n",
    "    encoding_detectado = result['encoding']\n",
    "\n",
    "df = pd.read_json(caminho_arquivo, encoding=encoding_detectado)"
   ]
  },
  {
   "cell_type": "code",
   "execution_count": 61,
   "metadata": {},
   "outputs": [],
   "source": [
    "df = pd.read_json(caminho_arquivo, encoding=encoding_detectado)"
   ]
  },
  {
   "cell_type": "code",
   "execution_count": 62,
   "metadata": {},
   "outputs": [],
   "source": [
    "colunas = ['Numero_da_Ocorrencia', 'Classificacao_da_Ocorrência', 'Data_da_Ocorrencia', 'Municipio', 'UF', 'Regiao', 'Nome_do_Fabricante']\n",
    "df = df[colunas]"
   ]
  },
  {
   "cell_type": "code",
   "execution_count": 63,
   "metadata": {},
   "outputs": [],
   "source": [
    "df.rename(columns={'Classificacao_da_Ocorrência': 'Classificacao_da_Ocorrencia'}, inplace=True)\n",
    "df.columns = df.columns.str.strip().str.lower() # Remover espaços extras e converter os nomes das colunas para minúscula"
   ]
  },
  {
   "cell_type": "code",
   "execution_count": 64,
   "metadata": {},
   "outputs": [
    {
     "name": "stdout",
     "output_type": "stream",
     "text": [
      "['numero_da_ocorrencia', 'classificacao_da_ocorrencia', 'data_da_ocorrencia', 'municipio', 'uf', 'regiao', 'nome_do_fabricante']\n"
     ]
    },
    {
     "data": {
      "text/html": [
       "<div>\n",
       "<style scoped>\n",
       "    .dataframe tbody tr th:only-of-type {\n",
       "        vertical-align: middle;\n",
       "    }\n",
       "\n",
       "    .dataframe tbody tr th {\n",
       "        vertical-align: top;\n",
       "    }\n",
       "\n",
       "    .dataframe thead th {\n",
       "        text-align: right;\n",
       "    }\n",
       "</style>\n",
       "<table border=\"1\" class=\"dataframe\">\n",
       "  <thead>\n",
       "    <tr style=\"text-align: right;\">\n",
       "      <th></th>\n",
       "      <th>numero_da_ocorrencia</th>\n",
       "      <th>classificacao_da_ocorrencia</th>\n",
       "      <th>data_da_ocorrencia</th>\n",
       "      <th>municipio</th>\n",
       "      <th>uf</th>\n",
       "      <th>regiao</th>\n",
       "      <th>nome_do_fabricante</th>\n",
       "    </tr>\n",
       "  </thead>\n",
       "  <tbody>\n",
       "    <tr>\n",
       "      <th>0</th>\n",
       "      <td>7762</td>\n",
       "      <td>Incidente</td>\n",
       "      <td>2018-03-21</td>\n",
       "      <td>SÃO PAULO</td>\n",
       "      <td>SP</td>\n",
       "      <td>Sudeste</td>\n",
       "      <td>AGUSTA</td>\n",
       "    </tr>\n",
       "    <tr>\n",
       "      <th>1</th>\n",
       "      <td>7759</td>\n",
       "      <td>Acidente</td>\n",
       "      <td>2018-03-14</td>\n",
       "      <td>MONTES CLAROS</td>\n",
       "      <td>MG</td>\n",
       "      <td>Sudeste</td>\n",
       "      <td>CESSNA AIRCRAFT</td>\n",
       "    </tr>\n",
       "    <tr>\n",
       "      <th>2</th>\n",
       "      <td>7758</td>\n",
       "      <td>Acidente</td>\n",
       "      <td>2018-01-26</td>\n",
       "      <td>INACIOLÂNDIA</td>\n",
       "      <td>GO</td>\n",
       "      <td>Centro-Oeste</td>\n",
       "      <td>CESSNA AIRCRAFT</td>\n",
       "    </tr>\n",
       "    <tr>\n",
       "      <th>3</th>\n",
       "      <td>7758</td>\n",
       "      <td>Acidente</td>\n",
       "      <td>2018-01-26</td>\n",
       "      <td>INACIOLÂNDIA</td>\n",
       "      <td>GO</td>\n",
       "      <td>Centro-Oeste</td>\n",
       "      <td>CESSNA AIRCRAFT</td>\n",
       "    </tr>\n",
       "    <tr>\n",
       "      <th>4</th>\n",
       "      <td>7757</td>\n",
       "      <td>Incidente Grave</td>\n",
       "      <td>2018-03-18</td>\n",
       "      <td>TORRES</td>\n",
       "      <td>RS</td>\n",
       "      <td>Sul</td>\n",
       "      <td>PIPER AIRCRAFT</td>\n",
       "    </tr>\n",
       "  </tbody>\n",
       "</table>\n",
       "</div>"
      ],
      "text/plain": [
       "   numero_da_ocorrencia classificacao_da_ocorrencia data_da_ocorrencia  \\\n",
       "0                  7762                   Incidente         2018-03-21   \n",
       "1                  7759                    Acidente         2018-03-14   \n",
       "2                  7758                    Acidente         2018-01-26   \n",
       "3                  7758                    Acidente         2018-01-26   \n",
       "4                  7757             Incidente Grave         2018-03-18   \n",
       "\n",
       "       municipio  uf        regiao nome_do_fabricante  \n",
       "0      SÃO PAULO  SP       Sudeste             AGUSTA  \n",
       "1  MONTES CLAROS  MG       Sudeste    CESSNA AIRCRAFT  \n",
       "2   INACIOLÂNDIA  GO  Centro-Oeste    CESSNA AIRCRAFT  \n",
       "3   INACIOLÂNDIA  GO  Centro-Oeste    CESSNA AIRCRAFT  \n",
       "4         TORRES  RS           Sul     PIPER AIRCRAFT  "
      ]
     },
     "execution_count": 64,
     "metadata": {},
     "output_type": "execute_result"
    }
   ],
   "source": [
    "print(df.columns.tolist())\n",
    "df.head()"
   ]
  },
  {
   "cell_type": "code",
   "execution_count": 65,
   "metadata": {},
   "outputs": [],
   "source": [
    "df['data_da_ocorrencia'] = pd.to_datetime(df['data_da_ocorrencia'])"
   ]
  },
  {
   "cell_type": "code",
   "execution_count": 66,
   "metadata": {},
   "outputs": [
    {
     "name": "stdout",
     "output_type": "stream",
     "text": [
      "2025\n"
     ]
    }
   ],
   "source": [
    "from datetime import datetime\n",
    "\n",
    "ano_atual = datetime.now().year\n",
    "print(ano_atual)"
   ]
  },
  {
   "cell_type": "code",
   "execution_count": 67,
   "metadata": {},
   "outputs": [],
   "source": [
    "df = df[df['data_da_ocorrencia'].dt.year == 2024]"
   ]
  },
  {
   "cell_type": "markdown",
   "metadata": {},
   "source": [
    "Conexão avançada com create engine"
   ]
  },
  {
   "cell_type": "code",
   "execution_count": 68,
   "metadata": {},
   "outputs": [
    {
     "name": "stdout",
     "output_type": "stream",
     "text": [
      "Conexão bem-sucedida ao PostgreSQL!\n"
     ]
    }
   ],
   "source": [
    "# pip install sqlalchemy\n",
    "# Tipos de dados: Integer, String, Date, VARCHAR\n",
    "# Conexão com PostgreSQL, MySQL, SQLite e muito mais com auto desemprenho\n",
    "\n",
    "from sqlalchemy import create_engine, Integer, String, Date, VARCHAR, text\n",
    "\n",
    "dbname   = 'anac_db'\n",
    "user     = 'postgres'\n",
    "password = 'root'\n",
    "host     = 'localhost'\n",
    "port     = '5432'\n",
    "\n",
    "conexao_str = f'postgresql://{user}:{password}@{host}:{port}/{dbname}'\n",
    "\n",
    "try:\n",
    "    engine = create_engine(conexao_str)\n",
    "    print(\"Conexão bem-sucedida ao PostgreSQL!\")\n",
    "except Exception as e:\n",
    "    print('Error ao conectar com banco de dados:', e)"
   ]
  },
  {
   "cell_type": "code",
   "execution_count": 69,
   "metadata": {},
   "outputs": [],
   "source": [
    "nome_tabela = 'anac_sqlalchemy'\n",
    "ano_2024 = 2024\n",
    "\n",
    "# Estabelece a conexão\n",
    "cursor = engine.connect()\n",
    "\n",
    "# Cria a consulta SQL como texto executável\n",
    "delete = text(f'DELETE FROM public.{nome_tabela} WHERE EXTRACT(YEAR FROM \"data_da_ocorrencia\"::DATE) = {ano_atual}')\n",
    "\n",
    "# Executa a consulta\n",
    "cursor.execute(delete)\n",
    "\n",
    "# Agora insere os dados do DataFrame na tabela\n",
    "df.to_sql(nome_tabela, engine, index=False, if_exists='append', dtype={\n",
    "    'Numero_da_Ocorrencia': Integer,\n",
    "    'Classificacao_da_Ocorrencia': VARCHAR(50),\n",
    "    'Data_da_Ocorrencia': Date,\n",
    "    'Municipio': VARCHAR(50),\n",
    "    'UF': VARCHAR(30),\n",
    "    'Regiao': VARCHAR(50),\n",
    "    'Nome_do_Fabricante': VARCHAR(50)\n",
    "})\n",
    "\n",
    "# replace - sobrescreve toda a tabela\n",
    "# append -  adiciona dados ao fim da tabela\n",
    "\n",
    "engine.dispose()\n",
    "cursor.close()"
   ]
  }
 ],
 "metadata": {
  "kernelspec": {
   "display_name": "venv",
   "language": "python",
   "name": "python3"
  },
  "language_info": {
   "codemirror_mode": {
    "name": "ipython",
    "version": 3
   },
   "file_extension": ".py",
   "mimetype": "text/x-python",
   "name": "python",
   "nbconvert_exporter": "python",
   "pygments_lexer": "ipython3",
   "version": "3.12.3"
  }
 },
 "nbformat": 4,
 "nbformat_minor": 2
}
