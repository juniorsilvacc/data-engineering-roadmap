{
 "cells": [
  {
   "cell_type": "code",
   "execution_count": 88,
   "metadata": {},
   "outputs": [],
   "source": [
    "import pandas as pd\n",
    "import chardet\n",
    "\n",
    "caminho_arquivo = \"/home/juniorsilvadev/engenharia-dados/engenharia-dados-com-python-e-banco-de-dados/PostgreSQL/Arquivos JSON/V_OCORRENCIA_AMPLA.json\"\n",
    "\n",
    "with open(caminho_arquivo, \"rb\") as f:\n",
    "    raw_data = f.read(10000)\n",
    "    result = chardet.detect(raw_data)\n",
    "    encoding_detectado = result['encoding']\n",
    "\n",
    "df = pd.read_json(caminho_arquivo, encoding=encoding_detectado)"
   ]
  },
  {
   "cell_type": "code",
   "execution_count": 89,
   "metadata": {},
   "outputs": [],
   "source": [
    "df = pd.read_json(caminho_arquivo, encoding=encoding_detectado)"
   ]
  },
  {
   "cell_type": "code",
   "execution_count": 90,
   "metadata": {},
   "outputs": [],
   "source": [
    "colunas = ['Numero_da_Ocorrencia', 'Classificacao_da_Ocorrência', 'Data_da_Ocorrencia', 'Municipio', 'UF', 'Regiao', 'Nome_do_Fabricante']\n",
    "df = df[colunas]"
   ]
  },
  {
   "cell_type": "code",
   "execution_count": 91,
   "metadata": {},
   "outputs": [],
   "source": [
    "df.rename(columns={'Classificacao_da_Ocorrência': 'Classificacao_da_Ocorrencia'}, inplace=True)\n",
    "df.columns = df.columns.str.strip().str.lower() # Remover espaços extras e converter os nomes das colunas para minúscula"
   ]
  },
  {
   "cell_type": "code",
   "execution_count": 92,
   "metadata": {},
   "outputs": [],
   "source": [
    "df['data_da_ocorrencia'] = pd.to_datetime(df['data_da_ocorrencia'])"
   ]
  },
  {
   "cell_type": "code",
   "execution_count": 93,
   "metadata": {},
   "outputs": [
    {
     "name": "stdout",
     "output_type": "stream",
     "text": [
      "2025\n"
     ]
    }
   ],
   "source": [
    "from datetime import datetime\n",
    "\n",
    "ano_atual = datetime.now().year\n",
    "print(ano_atual)"
   ]
  },
  {
   "cell_type": "code",
   "execution_count": 94,
   "metadata": {},
   "outputs": [],
   "source": [
    "df = df[df['data_da_ocorrencia'].dt.year == 2024]"
   ]
  },
  {
   "cell_type": "markdown",
   "metadata": {},
   "source": [
    "Conexão avançada com create engine"
   ]
  },
  {
   "cell_type": "code",
   "execution_count": 95,
   "metadata": {},
   "outputs": [
    {
     "name": "stdout",
     "output_type": "stream",
     "text": [
      "Conexão bem-sucedida ao PostgreSQL!\n"
     ]
    }
   ],
   "source": [
    "# pip install sqlalchemy\n",
    "# Tipos de dados: Integer, String, Date, VARCHAR\n",
    "# Conexão com PostgreSQL, MySQL, SQLite e muito mais com auto desemprenho\n",
    "\n",
    "from sqlalchemy import create_engine, Integer, String, Date, VARCHAR, text\n",
    "\n",
    "dbname   = 'anac_db'\n",
    "user     = 'postgres'\n",
    "password = 'root'\n",
    "host     = 'localhost'\n",
    "port     = '5432'\n",
    "\n",
    "conexao_str = f'postgresql://{user}:{password}@{host}:{port}/{dbname}'\n",
    "\n",
    "try:\n",
    "    engine = create_engine(conexao_str)\n",
    "    print(\"Conexão bem-sucedida ao PostgreSQL!\")\n",
    "except Exception as e:\n",
    "    print('Error ao conectar com banco de dados:', e)"
   ]
  },
  {
   "cell_type": "code",
   "execution_count": 96,
   "metadata": {},
   "outputs": [],
   "source": [
    "nome_tabela = 'anac_sqlalchemy'\n",
    "ano_2024 = 2024\n",
    "\n",
    "# Estabelece a conexão\n",
    "cursor = engine.connect()\n",
    "\n",
    "# Cria a consulta SQL como texto executável\n",
    "delete = text(f'DELETE FROM public.{nome_tabela} WHERE EXTRACT(YEAR FROM \"data_da_ocorrencia\"::DATE) = {ano_2024}')\n",
    "\n",
    "# Executa a consulta\n",
    "cursor.execute(delete)\n",
    "cursor.commit()\n",
    "\n",
    "# Agora insere os dados do DataFrame na tabela\n",
    "df.to_sql(nome_tabela, engine, index=False, if_exists='append', dtype={\n",
    "    'Numero_da_Ocorrencia': Integer,\n",
    "    'Classificacao_da_Ocorrencia': VARCHAR(50),\n",
    "    'Data_da_Ocorrencia': Date,\n",
    "    'Municipio': VARCHAR(50),\n",
    "    'UF': VARCHAR(30),\n",
    "    'Regiao': VARCHAR(50),\n",
    "    'Nome_do_Fabricante': VARCHAR(50)\n",
    "})\n",
    "\n",
    "# replace - sobrescreve toda a tabela\n",
    "# append -  adiciona dados ao fim da tabela\n",
    "\n",
    "engine.dispose()\n",
    "cursor.close()"
   ]
  }
 ],
 "metadata": {
  "kernelspec": {
   "display_name": "venv",
   "language": "python",
   "name": "python3"
  },
  "language_info": {
   "codemirror_mode": {
    "name": "ipython",
    "version": 3
   },
   "file_extension": ".py",
   "mimetype": "text/x-python",
   "name": "python",
   "nbconvert_exporter": "python",
   "pygments_lexer": "ipython3",
   "version": "3.12.3"
  }
 },
 "nbformat": 4,
 "nbformat_minor": 2
}
