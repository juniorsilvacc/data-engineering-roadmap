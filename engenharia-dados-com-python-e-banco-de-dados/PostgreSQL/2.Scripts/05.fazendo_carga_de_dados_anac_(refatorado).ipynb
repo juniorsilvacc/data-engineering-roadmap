{
 "cells": [
  {
   "cell_type": "code",
   "execution_count": null,
   "metadata": {},
   "outputs": [
    {
     "name": "stdout",
     "output_type": "stream",
     "text": [
      "Encoding detectado: UTF-8-SIG\n"
     ]
    }
   ],
   "source": [
    "import pandas as pd\n",
    "import psycopg2\n",
    "import chardet\n",
    "\n",
    "caminho_arquivo = \"/home/juniorsilvadev/engenharia-dados/engenharia-dados-com-python-e-banco-de-dados/PostgreSQL/Arquivos/V_OCORRENCIA_AMPLA.json\"\n",
    "\n",
    "with open(caminho_arquivo, \"rb\") as f:\n",
    "    raw_data = f.read(10000)\n",
    "    result = chardet.detect(raw_data)\n",
    "    encoding_detectado = result['encoding']\n",
    "\n",
    "df = pd.read_json(caminho_arquivo, encoding=encoding_detectado)"
   ]
  },
  {
   "cell_type": "code",
   "execution_count": 8,
   "metadata": {},
   "outputs": [],
   "source": [
    "colunas = ['Numero_da_Ocorrencia', 'Classificacao_da_Ocorrência', 'Data_da_Ocorrencia', 'Municipio', 'UF', 'Regiao', 'Nome_do_Fabricante']\n",
    "df = df[colunas]\n",
    "df.rename(columns={'Classificacao_da_Ocorrência': 'Classificacao_da_Ocorrencia'}, inplace=True)\n",
    "df.columns = df.columns.str.strip()"
   ]
  },
  {
   "cell_type": "code",
   "execution_count": 9,
   "metadata": {},
   "outputs": [],
   "source": [
    "dbname   = 'anac_db'\n",
    "user     = 'postgres'\n",
    "password = 'root'\n",
    "host     = 'localhost'\n",
    "port     = '5432'\n",
    "\n",
    "try:\n",
    "    conexao = psycopg2.connect(dbname=dbname,\n",
    "                            user=user,\n",
    "                            password=password,\n",
    "                            host=host,\n",
    "                            port=port)\n",
    "\n",
    "    cursor = conexao.cursor()\n",
    "    conexao.commit()\n",
    "except Exception as e:\n",
    "    print('Error ao conectar com banco de dados:', e)"
   ]
  },
  {
   "cell_type": "code",
   "execution_count": 10,
   "metadata": {},
   "outputs": [],
   "source": [
    "create_table_query = \"\"\"\n",
    "    CREATE TABLE IF NOT EXISTS anac (\n",
    "        Numero_da_Ocorrencia int,\n",
    "        Classificacao_da_Ocorrencia VARCHAR(50),\n",
    "        Data_da_Ocorrencia DATE,\n",
    "        Municipio VARCHAR(50),\n",
    "        UF VARCHAR(30),\n",
    "        Regiao VARCHAR(50),\n",
    "        Nome_do_Fabricante VARCHAR(50)\n",
    "    );\n",
    "\"\"\"\n",
    "\n",
    "try:\n",
    "    cursor.execute(create_table_query)\n",
    "    conexao.commit()\n",
    "except Exception as e:\n",
    "    print('Error ao criar a tabela', e)\n",
    "    conexao.rollback()"
   ]
  },
  {
   "cell_type": "code",
   "execution_count": 11,
   "metadata": {},
   "outputs": [],
   "source": [
    "cursor.execute(\"TRUNCATE TABLE anac\")"
   ]
  },
  {
   "cell_type": "code",
   "execution_count": null,
   "metadata": {},
   "outputs": [],
   "source": [
    "insert_query = \"\"\"\n",
    "    INSERT INTO anac (\n",
    "        Numero_da_Ocorrencia, Classificacao_da_Ocorrencia, Data_da_Ocorrencia, Municipio, UF, Regiao, Nome_do_Fabricante\n",
    "    ) VALUES (%s, %s, %s, %s, %s, %s, %s);\n",
    "\"\"\"\n",
    "\n",
    "try:\n",
    "    for index, row in df.iterrows():\n",
    "        cursor.execute(insert_query, (\n",
    "            row['Numero_da_Ocorrencia'],\n",
    "            row['Classificacao_da_Ocorrencia'],\n",
    "            row['Data_da_Ocorrencia'],\n",
    "            row['Municipio'],\n",
    "            row['UF'],\n",
    "            row['Regiao'],\n",
    "            row['Nome_do_Fabricante']\n",
    "        ))\n",
    "    \n",
    "    conexao.commit()\n",
    "    print('Carga de dados inserida com sucesso')\n",
    "except Exception as e:\n",
    "    print('Error ao inserir dados:', e)\n",
    "    conexao.rollback()\n",
    "finally:\n",
    "    cursor.close()\n",
    "    conexao.close()"
   ]
  }
 ],
 "metadata": {
  "kernelspec": {
   "display_name": "venv",
   "language": "python",
   "name": "python3"
  },
  "language_info": {
   "codemirror_mode": {
    "name": "ipython",
    "version": 3
   },
   "file_extension": ".py",
   "mimetype": "text/x-python",
   "name": "python",
   "nbconvert_exporter": "python",
   "pygments_lexer": "ipython3",
   "version": "3.12.3"
  }
 },
 "nbformat": 4,
 "nbformat_minor": 2
}
