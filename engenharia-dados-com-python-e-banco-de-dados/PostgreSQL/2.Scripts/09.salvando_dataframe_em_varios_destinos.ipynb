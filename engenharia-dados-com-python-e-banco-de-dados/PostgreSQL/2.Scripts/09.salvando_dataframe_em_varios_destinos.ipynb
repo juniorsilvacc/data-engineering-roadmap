{
 "cells": [
  {
   "cell_type": "markdown",
   "metadata": {},
   "source": [
    "Documentação (Leitura e escrita pandas)\n",
    "\n",
    "https://pandas.pydata.org/pandas-docs/stable/user_guide/io.html"
   ]
  },
  {
   "cell_type": "code",
   "execution_count": 2,
   "metadata": {},
   "outputs": [],
   "source": [
    "from sqlalchemy import create_engine\n",
    "import pandas as pd\n",
    "\n",
    "dbname   = 'anac_db'\n",
    "user     = 'postgres'\n",
    "password = 'root'\n",
    "host     = 'localhost'\n",
    "port     = '5432'\n",
    "\n",
    "conexao_str = f'postgresql://{user}:{password}@{host}:{port}/{dbname}'\n",
    "\n",
    "try:\n",
    "    engine = create_engine(conexao_str)\n",
    "except Exception as e:\n",
    "    print('Error ao conectar com banco de dados:', e)"
   ]
  },
  {
   "cell_type": "code",
   "execution_count": 3,
   "metadata": {},
   "outputs": [
    {
     "data": {
      "text/html": [
       "<div>\n",
       "<style scoped>\n",
       "    .dataframe tbody tr th:only-of-type {\n",
       "        vertical-align: middle;\n",
       "    }\n",
       "\n",
       "    .dataframe tbody tr th {\n",
       "        vertical-align: top;\n",
       "    }\n",
       "\n",
       "    .dataframe thead th {\n",
       "        text-align: right;\n",
       "    }\n",
       "</style>\n",
       "<table border=\"1\" class=\"dataframe\">\n",
       "  <thead>\n",
       "    <tr style=\"text-align: right;\">\n",
       "      <th></th>\n",
       "      <th>id</th>\n",
       "      <th>classificacao_da_ocorrencia</th>\n",
       "      <th>dt_da_ocorrencia</th>\n",
       "      <th>municipio</th>\n",
       "      <th>uf</th>\n",
       "      <th>regiao</th>\n",
       "      <th>fabricante</th>\n",
       "      <th>modelo</th>\n",
       "    </tr>\n",
       "  </thead>\n",
       "  <tbody>\n",
       "    <tr>\n",
       "      <th>0</th>\n",
       "      <td>7762</td>\n",
       "      <td>Incidente</td>\n",
       "      <td>2018-03-21</td>\n",
       "      <td>SÃO PAULO</td>\n",
       "      <td>SP</td>\n",
       "      <td>Sudeste</td>\n",
       "      <td>AGUSTA</td>\n",
       "      <td>AW109SP</td>\n",
       "    </tr>\n",
       "    <tr>\n",
       "      <th>1</th>\n",
       "      <td>7759</td>\n",
       "      <td>Acidente</td>\n",
       "      <td>2018-03-14</td>\n",
       "      <td>MONTES CLAROS</td>\n",
       "      <td>MG</td>\n",
       "      <td>Sudeste</td>\n",
       "      <td>CESSNA AIRCRAFT</td>\n",
       "      <td>A152</td>\n",
       "    </tr>\n",
       "    <tr>\n",
       "      <th>2</th>\n",
       "      <td>7758</td>\n",
       "      <td>Acidente</td>\n",
       "      <td>2018-01-26</td>\n",
       "      <td>INACIOLÂNDIA</td>\n",
       "      <td>GO</td>\n",
       "      <td>Centro-Oeste</td>\n",
       "      <td>CESSNA AIRCRAFT</td>\n",
       "      <td>T188C</td>\n",
       "    </tr>\n",
       "    <tr>\n",
       "      <th>3</th>\n",
       "      <td>7758</td>\n",
       "      <td>Acidente</td>\n",
       "      <td>2018-01-26</td>\n",
       "      <td>INACIOLÂNDIA</td>\n",
       "      <td>GO</td>\n",
       "      <td>Centro-Oeste</td>\n",
       "      <td>CESSNA AIRCRAFT</td>\n",
       "      <td>T188C</td>\n",
       "    </tr>\n",
       "    <tr>\n",
       "      <th>4</th>\n",
       "      <td>7757</td>\n",
       "      <td>Incidente Grave</td>\n",
       "      <td>2018-03-18</td>\n",
       "      <td>TORRES</td>\n",
       "      <td>RS</td>\n",
       "      <td>Sul</td>\n",
       "      <td>PIPER AIRCRAFT</td>\n",
       "      <td>PA-34-200</td>\n",
       "    </tr>\n",
       "  </tbody>\n",
       "</table>\n",
       "</div>"
      ],
      "text/plain": [
       "     id classificacao_da_ocorrencia dt_da_ocorrencia      municipio  uf  \\\n",
       "0  7762                   Incidente       2018-03-21      SÃO PAULO  SP   \n",
       "1  7759                    Acidente       2018-03-14  MONTES CLAROS  MG   \n",
       "2  7758                    Acidente       2018-01-26   INACIOLÂNDIA  GO   \n",
       "3  7758                    Acidente       2018-01-26   INACIOLÂNDIA  GO   \n",
       "4  7757             Incidente Grave       2018-03-18         TORRES  RS   \n",
       "\n",
       "         regiao       fabricante     modelo  \n",
       "0       Sudeste           AGUSTA    AW109SP  \n",
       "1       Sudeste  CESSNA AIRCRAFT       A152  \n",
       "2  Centro-Oeste  CESSNA AIRCRAFT      T188C  \n",
       "3  Centro-Oeste  CESSNA AIRCRAFT      T188C  \n",
       "4           Sul   PIPER AIRCRAFT  PA-34-200  "
      ]
     },
     "execution_count": 3,
     "metadata": {},
     "output_type": "execute_result"
    }
   ],
   "source": [
    "nome_tabela = 'anac_mapeamento'\n",
    "\n",
    "select_query_all = f\"\"\"\n",
    "    SELECT * FROM public.{nome_tabela}\n",
    "\"\"\"\n",
    "\n",
    "df = pd.read_sql_query(select_query_all, engine)\n",
    "df.head(5)"
   ]
  },
  {
   "cell_type": "markdown",
   "metadata": {},
   "source": [
    "https://jsonformatter.org/json-viewer"
   ]
  },
  {
   "cell_type": "code",
   "execution_count": null,
   "metadata": {},
   "outputs": [],
   "source": [
    "# JSON\n",
    "pasta_destino_json = \"/home/juniorsilvadev/engenharia-dados/engenharia-dados-com-python-e-banco-de-dados/PostgreSQL/Arquivos/Anac.json\"\n",
    "df.to_json(pasta_destino_json, orient=\"index\")\n",
    "\n",
    "# Orient = Orientação do formato\n",
    "# Lines = True = Separados por quebras de linha (só aceita no orint = records)\n",
    "# Tipo de de orientação = records, index, columns, values, table"
   ]
  },
  {
   "cell_type": "code",
   "execution_count": null,
   "metadata": {},
   "outputs": [],
   "source": [
    "# Excel\n",
    "pasta_destino_excel = \"/home/juniorsilvadev/engenharia-dados/engenharia-dados-com-python-e-banco-de-dados/PostgreSQL/Arquivos/Anac.xlsx\"\n",
    "df.to_excel(pasta_destino_excel, index = False, sheet_name=\"Base\")\n",
    "\n",
    "# sheet_name = Guia da planilha\n",
    "# index = Indice do python"
   ]
  },
  {
   "cell_type": "code",
   "execution_count": null,
   "metadata": {},
   "outputs": [],
   "source": [
    "# CSV\n",
    "pasta_destino_csv = \"/home/juniorsilvadev/engenharia-dados/engenharia-dados-com-python-e-banco-de-dados/PostgreSQL/Arquivos/Anac.csv\"\n",
    "df.to_csv(pasta_destino_csv, sep=',', index=False)\n",
    "\n",
    "# sep = Separador (delimitador)"
   ]
  },
  {
   "cell_type": "markdown",
   "metadata": {},
   "source": [
    "https://pandas.pydata.org/pandas-docs/version/1.1/reference/api/pandas.DataFrame.to_parquet.html\n",
    "\n",
    "https://pandas.pydata.org/docs/reference/api/pandas.DataFrame.to_parquet.html"
   ]
  },
  {
   "cell_type": "code",
   "execution_count": null,
   "metadata": {},
   "outputs": [],
   "source": [
    "# Defina o caminho do arquivo Parquet\n",
    "# %pip install pyarrow\n",
    "# %pip install fastparquet\n",
    "\n",
    "pasta_destino_parquet = \"/home/juniorsilvadev/engenharia-dados/engenharia-dados-com-python-e-banco-de-dados/PostgreSQL/Arquivos/Anac.parquet\"\n",
    "# Salve o DataFrame em um arquivo Parquet\n",
    "df.to_parquet(pasta_destino_parquet, index=False,engine='pyarrow')"
   ]
  },
  {
   "cell_type": "code",
   "execution_count": null,
   "metadata": {},
   "outputs": [],
   "source": [
    "df.head(5) "
   ]
  },
  {
   "cell_type": "code",
   "execution_count": null,
   "metadata": {},
   "outputs": [],
   "source": [
    "df.columns"
   ]
  },
  {
   "cell_type": "code",
   "execution_count": null,
   "metadata": {},
   "outputs": [],
   "source": [
    "# Especifique as colunas para particionamento\n",
    "pasta_destino_particionado = \"/home/juniorsilvadev/engenharia-dados/engenharia-dados-com-python-e-banco-de-dados/PostgreSQL/Arquivos/Anac_particonado.parquet\"\n",
    "colunas_particionamento = ['regiao', 'uf']\n",
    "# Salvando particionados\n",
    "df.to_parquet(pasta_destino_particionado, index=False,\n",
    "              partition_cols=colunas_particionamento,\n",
    "              engine='pyarrow'\n",
    "              )"
   ]
  }
 ],
 "metadata": {
  "kernelspec": {
   "display_name": "venv",
   "language": "python",
   "name": "python3"
  },
  "language_info": {
   "codemirror_mode": {
    "name": "ipython",
    "version": 3
   },
   "file_extension": ".py",
   "mimetype": "text/x-python",
   "name": "python",
   "nbconvert_exporter": "python",
   "pygments_lexer": "ipython3",
   "version": "3.12.3"
  }
 },
 "nbformat": 4,
 "nbformat_minor": 2
}
