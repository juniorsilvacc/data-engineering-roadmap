{
 "cells": [
  {
   "cell_type": "markdown",
   "metadata": {},
   "source": [
    "Documentação (Leitura e escrita pandas)\n",
    "\n",
    "https://pandas.pydata.org/pandas-docs/stable/user_guide/io.html"
   ]
  },
  {
   "cell_type": "code",
   "execution_count": null,
   "metadata": {},
   "outputs": [],
   "source": [
    "from sqlalchemy import create_engine\n",
    "import pandas as pd\n",
    "\n",
    "dbname   = 'anac_db'\n",
    "user     = 'postgres'\n",
    "password = 'root'\n",
    "host     = 'localhost'\n",
    "port     = '5432'\n",
    "\n",
    "conexao_str = f'postgresql://{user}:{password}@{host}:{port}/{dbname}'\n",
    "\n",
    "try:\n",
    "    engine = create_engine(conexao_str)\n",
    "except Exception as e:\n",
    "    print('Error ao conectar com banco de dados:', e)"
   ]
  },
  {
   "cell_type": "code",
   "execution_count": null,
   "metadata": {},
   "outputs": [],
   "source": [
    "nome_tabela = 'anac_mapeamento'\n",
    "\n",
    "select_query_all = f\"\"\"\n",
    "    SELECT * FROM public.{nome_tabela}\n",
    "\"\"\"\n",
    "\n",
    "df = pd.read_sql_query(select_query_all, engine)\n",
    "df.head(5)"
   ]
  },
  {
   "cell_type": "markdown",
   "metadata": {},
   "source": [
    "https://jsonformatter.org/json-viewer"
   ]
  },
  {
   "cell_type": "code",
   "execution_count": null,
   "metadata": {},
   "outputs": [],
   "source": [
    "# JSON\n",
    "pasta_destino_json = \"/home/juniorsilvadev/engenharia-dados/engenharia-dados-com-python-e-banco-de-dados/PostgreSQL/Arquivos/Anac.json\"\n",
    "df.to_json(pasta_destino_json, orient=\"index\")\n",
    "\n",
    "# Orient = Orientação do formato\n",
    "# Lines = True = Separados por quebras de linha (só aceita no orint = records)\n",
    "# Tipo de de orientação = records, index, columns, values, table"
   ]
  },
  {
   "cell_type": "code",
   "execution_count": null,
   "metadata": {},
   "outputs": [],
   "source": [
    "# Excel\n",
    "pasta_destino_excel = \"/home/juniorsilvadev/engenharia-dados/engenharia-dados-com-python-e-banco-de-dados/PostgreSQL/Arquivos/Anac.xlsx\"\n",
    "df.to_excel(pasta_destino_excel, index = False, sheet_name=\"Base\")\n",
    "\n",
    "# sheet_name = Guia da planilha\n",
    "# index = Indice do python"
   ]
  },
  {
   "cell_type": "code",
   "execution_count": null,
   "metadata": {},
   "outputs": [],
   "source": [
    "# CSV\n",
    "pasta_destino_csv = \"/home/juniorsilvadev/engenharia-dados/engenharia-dados-com-python-e-banco-de-dados/PostgreSQL/Arquivos/Anac.csv\"\n",
    "df.to_csv(pasta_destino_csv, sep=',', index=False)\n",
    "\n",
    "# sep = Separador (delimitador)"
   ]
  },
  {
   "cell_type": "markdown",
   "metadata": {},
   "source": [
    "https://pandas.pydata.org/pandas-docs/version/1.1/reference/api/pandas.DataFrame.to_parquet.html\n",
    "\n",
    "https://pandas.pydata.org/docs/reference/api/pandas.DataFrame.to_parquet.html"
   ]
  },
  {
   "cell_type": "code",
   "execution_count": null,
   "metadata": {},
   "outputs": [],
   "source": [
    "# Defina o caminho do arquivo Parquet\n",
    "# %pip install pyarrow\n",
    "# %pip install fastparquet\n",
    "\n",
    "pasta_destino_parquet = \"/home/juniorsilvadev/engenharia-dados/engenharia-dados-com-python-e-banco-de-dados/PostgreSQL/Arquivos/Anac.parquet\"\n",
    "# Salve o DataFrame em um arquivo Parquet\n",
    "df.to_parquet(pasta_destino_parquet, index=False,engine='pyarrow')"
   ]
  },
  {
   "cell_type": "code",
   "execution_count": null,
   "metadata": {},
   "outputs": [],
   "source": [
    "df.head(5)"
   ]
  },
  {
   "cell_type": "code",
   "execution_count": null,
   "metadata": {},
   "outputs": [],
   "source": [
    "df.columns"
   ]
  },
  {
   "cell_type": "code",
   "execution_count": null,
   "metadata": {},
   "outputs": [],
   "source": [
    "# Especifique as colunas para particionamento\n",
    "pasta_destino_particionado = \"/home/juniorsilvadev/engenharia-dados/engenharia-dados-com-python-e-banco-de-dados/PostgreSQL/Arquivos/Anac_particonado.parquet\"\n",
    "colunas_particionamento = ['regiao', 'uf']\n",
    "# Salvando particionados\n",
    "df.to_parquet(pasta_destino_particionado, index=False,\n",
    "              partition_cols=colunas_particionamento,\n",
    "              engine='pyarrow'\n",
    "              )"
   ]
  }
 ],
 "metadata": {
  "kernelspec": {
   "display_name": "venv",
   "language": "python",
   "name": "python3"
  },
  "language_info": {
   "codemirror_mode": {
    "name": "ipython",
    "version": 3
   },
   "file_extension": ".py",
   "mimetype": "text/x-python",
   "name": "python",
   "nbconvert_exporter": "python",
   "pygments_lexer": "ipython3",
   "version": "3.12.3"
  }
 },
 "nbformat": 4,
 "nbformat_minor": 2
}
