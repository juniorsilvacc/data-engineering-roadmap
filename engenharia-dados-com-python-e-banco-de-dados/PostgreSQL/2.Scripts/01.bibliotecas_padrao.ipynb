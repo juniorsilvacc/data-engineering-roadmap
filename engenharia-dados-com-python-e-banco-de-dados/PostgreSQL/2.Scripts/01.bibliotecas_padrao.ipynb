{
 "cells": [
  {
   "cell_type": "code",
   "execution_count": null,
   "metadata": {},
   "outputs": [],
   "source": [
    "\"\"\"\n",
    "source venv\\bin\\activate\n",
    "\n",
    "pip install psycopg2  # Conexão com banco de dados postgree\n",
    "pip install openpyxl  # Trabalhar com arquivo Excel\n",
    "pip install pandas    # Manipulação e análise de dados (DF)\n",
    "\n",
    "para upgrade \n",
    "pip install --upgrade pandas\n",
    "\"\"\""
   ]
  },
  {
   "cell_type": "code",
   "execution_count": null,
   "metadata": {},
   "outputs": [],
   "source": [
    "# %pip install openpyxl"
   ]
  }
 ],
 "metadata": {
  "kernelspec": {
   "display_name": "venv",
   "language": "python",
   "name": "python3"
  },
  "language_info": {
   "codemirror_mode": {
    "name": "ipython",
    "version": 3
   },
   "file_extension": ".py",
   "mimetype": "text/x-python",
   "name": "python",
   "nbconvert_exporter": "python",
   "pygments_lexer": "ipython3",
   "version": "3.12.3"
  }
 },
 "nbformat": 4,
 "nbformat_minor": 2
}
