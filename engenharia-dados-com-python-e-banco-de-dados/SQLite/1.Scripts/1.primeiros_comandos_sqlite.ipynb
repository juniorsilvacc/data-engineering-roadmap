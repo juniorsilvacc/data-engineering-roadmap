{
 "cells": [
  {
   "cell_type": "code",
   "execution_count": 3,
   "id": "0b5de64a",
   "metadata": {},
   "outputs": [
    {
     "name": "stdout",
     "output_type": "stream",
     "text": [
      "[(3, 'Camisa', 102.5)]\n"
     ]
    }
   ],
   "source": [
    "import sqlite3\n",
    "\n",
    "con = sqlite3.connect(\"tutorial.db\")\n",
    "cursor = con.cursor()\n",
    "\n",
    "cursor.execute(\n",
    "    \"\"\"\n",
    "        CREATE TABLE produtos (id, nome, valor)\n",
    "    \"\"\"\n",
    ") # Criar tabela\n",
    "\n",
    "cursor.execute (\n",
    "    \"\"\"\n",
    "        INSERT INTO  produtos (id, nome, valor) \n",
    "            VALUES\n",
    "        (3, 'Camisa', 102.50)\n",
    "    \"\"\"\n",
    ") # Inserir dadods\n",
    "\n",
    "cursor.execute(\n",
    "    \"\"\"\n",
    "        SELECT * FROM produtos\n",
    "    \"\"\"\n",
    ") # Consultas\n",
    "\n",
    "print(cursor.fetchall())\n",
    "\n",
    "con.commit()\n",
    "con.close()"
   ]
  }
 ],
 "metadata": {
  "kernelspec": {
   "display_name": "venv",
   "language": "python",
   "name": "python3"
  },
  "language_info": {
   "codemirror_mode": {
    "name": "ipython",
    "version": 3
   },
   "file_extension": ".py",
   "mimetype": "text/x-python",
   "name": "python",
   "nbconvert_exporter": "python",
   "pygments_lexer": "ipython3",
   "version": "3.13.3"
  }
 },
 "nbformat": 4,
 "nbformat_minor": 5
}
