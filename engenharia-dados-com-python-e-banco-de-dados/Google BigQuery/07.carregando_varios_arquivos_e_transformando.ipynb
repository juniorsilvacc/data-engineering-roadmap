{
 "cells": [
  {
   "cell_type": "code",
   "execution_count": 80,
   "id": "3d7d0920",
   "metadata": {},
   "outputs": [],
   "source": [
    "import pandas as pd\n",
    "from google.cloud import bigquery\n",
    "from google.oauth2 import service_account\n",
    "from pandas_gbq import to_gbq"
   ]
  },
  {
   "cell_type": "code",
   "execution_count": 81,
   "id": "f710521b",
   "metadata": {},
   "outputs": [],
   "source": [
    "# Carregue suas credenciais\n",
    "credencial = service_account.Credentials.from_service_account_file(\n",
    "    \"/Users/juniorsilva/Downloads/python-curso-459117-fc7b944c47c6.json\", scopes=['https://www.googleapis.com/auth/bigquery'])"
   ]
  },
  {
   "cell_type": "code",
   "execution_count": 82,
   "id": "e89a23e8",
   "metadata": {},
   "outputs": [],
   "source": [
    "# Nome do projeto e dataset\n",
    "projeto = 'python-curso-459117'\n",
    "dataset = 'Ecommerce'"
   ]
  },
  {
   "cell_type": "code",
   "execution_count": 83,
   "id": "65992dac",
   "metadata": {},
   "outputs": [],
   "source": [
    "# Mapear arquivos com nome da tabela\n",
    "arquivos = {\n",
    "    'produto': '/Users/juniorsilva/develop/data/estudos-engenharia-dados/engenharia-dados-com-python-e-banco-de-dados/Google BigQuery/Arquivos/Produto.xlsx',\n",
    "    'ordens': '/Users/juniorsilva/develop/data/estudos-engenharia-dados/engenharia-dados-com-python-e-banco-de-dados/Google BigQuery/Arquivos/Ordens.xlsx',\n",
    "    'items': '/Users/juniorsilva/develop/data/estudos-engenharia-dados/engenharia-dados-com-python-e-banco-de-dados/Google BigQuery/Arquivos/items.xlsx',\n",
    "    'categoria': '/Users/juniorsilva/develop/data/estudos-engenharia-dados/engenharia-dados-com-python-e-banco-de-dados/Google BigQuery/Arquivos/Categoria.xlsx',\n",
    "    'clientes': '/Users/juniorsilva/develop/data/estudos-engenharia-dados/engenharia-dados-com-python-e-banco-de-dados/Google BigQuery/Arquivos/Clientes.csv'\n",
    "}"
   ]
  },
  {
   "cell_type": "code",
   "execution_count": 84,
   "id": "1737db53",
   "metadata": {},
   "outputs": [
    {
     "name": "stdout",
     "output_type": "stream",
     "text": [
      "Tabela: produto - Colunas: ['ID', 'Name', 'Price', 'Id_Category']\n",
      "Tabela: ordens - Colunas: ['id', 'created_at', 'customer_id', 'status']\n",
      "Tabela: items - Colunas: ['id', 'order_id', 'product_id', 'quantity', 'total_price']\n",
      "Tabela: categoria - Colunas: ['id', 'name']\n",
      "Tabela: clientes - Colunas: ['id', 'created_at', 'first_name', 'last_name', 'email', 'cell_phone', 'country', 'state', 'street', 'number', 'additionals']\n"
     ]
    }
   ],
   "source": [
    "for tabela, caminho in arquivos.items():\n",
    "    if caminho.endswith('.csv'):\n",
    "        df = pd.read_csv(caminho)\n",
    "    elif caminho.endswith('.xlsx'):\n",
    "        df = pd.read_excel(caminho)\n",
    "    else:\n",
    "        print(f'Formato não suportado da tabela {tabela}')\n",
    "        continue\n",
    "\n",
    "    #print(df.head)\n",
    "    print(f\"Tabela: {tabela} - Colunas:\",df.columns.tolist())\n"
   ]
  },
  {
   "cell_type": "code",
   "execution_count": 85,
   "id": "5482de24",
   "metadata": {},
   "outputs": [],
   "source": [
    "# Função para padronizar os nomes das colunas para minúsculas e com underscores\n",
    "def padronizar_colunas(df):\n",
    "    df.columns = [col.lower().replace(' ', '_') for col in df.columns] # Converter todas as colunas para minúsculas e substituir espaços por underscores\n",
    "    return df"
   ]
  },
  {
   "cell_type": "code",
   "execution_count": 86,
   "id": "37d766d2",
   "metadata": {},
   "outputs": [],
   "source": [
    "# Função para transformação de Produto\n",
    "def transformar_produto(df):\n",
    "    df['price'] = df['price'].astype(float) # Garantir que 'price' seja float\n",
    "    df['id_category'] = df['id_category'].astype(int) # Garantir que 'id_category' seja inteiro\n",
    "    df['name'] = df['name'].str.strip().str.title()  # Tornar o 'name' mais uniforme\n",
    "    return df\n",
    "\n",
    "# Função para transformação de Ordens\n",
    "def transformar_ordens(df):\n",
    "    df['created_at'] = pd.to_datetime(df['created_at'])\n",
    "    df['customer_id'] = df['customer_id'].astype(int)  # Garantir que 'customer_id' seja int\n",
    "    return df\n",
    "\n",
    "# Função para transformação de Items\n",
    "def transformar_items(df):\n",
    "    df['order_id'] = df['order_id'].astype(int)  # Garantir que 'order_id' seja int\n",
    "    df['product_id'] = df['product_id'].astype(int)  # Garantir que 'product_id' seja int\n",
    "    df['quantity'] = df['quantity'].astype(int)  # Garantir que 'quantity' seja int\n",
    "    df['total_price'] = df['total_price'].astype(float)  # Garantir que 'total_price' seja float\n",
    "    return df\n",
    "\n",
    "# Função para transformação de Categoria\n",
    "def transformar_categoria(df):\n",
    "    df['name'] = df['name'].str.strip() # Remove espaços em branco do início e fim de cada string\n",
    "    return df\n",
    "\n",
    "# Função para transformação de Clientes\n",
    "def transformar_clientes(df):\n",
    "    df['first_name'] = df['first_name'].str.strip().str.title() # Garantir que 'first_name' não tenha espaços e a primeira letra seja maiuscula\n",
    "    df['last_name'] = df['last_name'].str.strip().str.title() # Garantir que 'last_name' não tenha espaços e a primeira letra seja maiuscula\n",
    "    df['email'] = df['email'].fillna('Não informado').astype(str).str.lower()  # Padronizar 'email' para minúsculo\n",
    "    df['email'] = df['email'].replace('não informado', 'Não informado')\n",
    "    df['number'] = df['number'].astype(float) # Garantir que 'number' seja float\n",
    "\n",
    "    # Tratar valores ausentes (NaN) em algumas colunas opcionais\n",
    "    colunas_opcionais = ['cell_phone', 'country', 'state', 'street', 'number', 'additionals']\n",
    "    for coluna in colunas_opcionais:\n",
    "        if coluna in df.columns:\n",
    "            df[coluna] = df[coluna].fillna('Não informado')  # Garante que toda coluna que for NaN seja substituido\n",
    "    return df"
   ]
  },
  {
   "cell_type": "code",
   "execution_count": null,
   "id": "936a14e6",
   "metadata": {},
   "outputs": [],
   "source": [
    "# Função para carregar e enviar com chamada de transformação\n",
    "def carregar_e_enviar(tabela, caminho, projeto, dataset, credencial, if_exists='replace'):\n",
    "    print(f'Carregando: {tabela}')\n",
    "    \n",
    "    if caminho.endswith('.csv'):\n",
    "        df = pd.read_csv(caminho, sep=',')  # Define o separador aqui\n",
    "    elif caminho.endswith('.xlsx'):\n",
    "        df = pd.read_excel(caminho)\n",
    "    else:\n",
    "        raise ValueError(f'Formato não suportado: {caminho}')\n",
    "    \n",
    "    df = padronizar_colunas(df)\n",
    "\n",
    "    # Aplica transformação específica por nome da tabela\n",
    "    if tabela == 'produto':\n",
    "        df = transformar_produto(df)\n",
    "    elif tabela == 'ordens':\n",
    "        df = transformar_ordens(df)\n",
    "    elif tabela == 'items':\n",
    "        df = transformar_items(df)\n",
    "    elif tabela == 'categoria':\n",
    "        df = transformar_categoria(df)\n",
    "    elif tabela == 'clientes':\n",
    "        df = transformar_clientes(df)\n",
    "\n",
    "    destino = f'{projeto}.{dataset}.{tabela}'\n",
    "    print(f'Enviando para BigQuery: {destino}')\n",
    "    \n",
    "    df.to_gbq(destination_table=destino,\n",
    "              project_id=projeto,\n",
    "              if_exists=if_exists,\n",
    "              credentials=credencial)"
   ]
  },
  {
   "cell_type": "code",
   "execution_count": 88,
   "id": "0c5d708b",
   "metadata": {},
   "outputs": [
    {
     "name": "stdout",
     "output_type": "stream",
     "text": [
      "Carregando: produto\n",
      "Enviando para BigQuery: python-curso-459117.Ecommerce.produto\n"
     ]
    },
    {
     "name": "stderr",
     "output_type": "stream",
     "text": [
      "/var/folders/3r/bw0_ywj11pb_yrqsny5pgw480000gn/T/ipykernel_9387/1586387839.py:29: FutureWarning: to_gbq is deprecated and will be removed in a future version. Please use pandas_gbq.to_gbq instead: https://pandas-gbq.readthedocs.io/en/latest/api.html#pandas_gbq.to_gbq\n",
      "  df.to_gbq(destination_table=destino,\n"
     ]
    },
    {
     "name": "stdout",
     "output_type": "stream",
     "text": [
      "Carregando: ordens\n",
      "Enviando para BigQuery: python-curso-459117.Ecommerce.ordens\n"
     ]
    },
    {
     "name": "stderr",
     "output_type": "stream",
     "text": [
      "/var/folders/3r/bw0_ywj11pb_yrqsny5pgw480000gn/T/ipykernel_9387/1586387839.py:29: FutureWarning: to_gbq is deprecated and will be removed in a future version. Please use pandas_gbq.to_gbq instead: https://pandas-gbq.readthedocs.io/en/latest/api.html#pandas_gbq.to_gbq\n",
      "  df.to_gbq(destination_table=destino,\n"
     ]
    },
    {
     "name": "stdout",
     "output_type": "stream",
     "text": [
      "Carregando: items\n",
      "Enviando para BigQuery: python-curso-459117.Ecommerce.items\n"
     ]
    },
    {
     "name": "stderr",
     "output_type": "stream",
     "text": [
      "/var/folders/3r/bw0_ywj11pb_yrqsny5pgw480000gn/T/ipykernel_9387/1586387839.py:29: FutureWarning: to_gbq is deprecated and will be removed in a future version. Please use pandas_gbq.to_gbq instead: https://pandas-gbq.readthedocs.io/en/latest/api.html#pandas_gbq.to_gbq\n",
      "  df.to_gbq(destination_table=destino,\n"
     ]
    },
    {
     "name": "stdout",
     "output_type": "stream",
     "text": [
      "Carregando: categoria\n",
      "Enviando para BigQuery: python-curso-459117.Ecommerce.categoria\n"
     ]
    },
    {
     "name": "stderr",
     "output_type": "stream",
     "text": [
      "/var/folders/3r/bw0_ywj11pb_yrqsny5pgw480000gn/T/ipykernel_9387/1586387839.py:29: FutureWarning: to_gbq is deprecated and will be removed in a future version. Please use pandas_gbq.to_gbq instead: https://pandas-gbq.readthedocs.io/en/latest/api.html#pandas_gbq.to_gbq\n",
      "  df.to_gbq(destination_table=destino,\n"
     ]
    },
    {
     "name": "stdout",
     "output_type": "stream",
     "text": [
      "Carregando: clientes\n",
      "Enviando para BigQuery: python-curso-459117.Ecommerce.clientes\n"
     ]
    },
    {
     "name": "stderr",
     "output_type": "stream",
     "text": [
      "/var/folders/3r/bw0_ywj11pb_yrqsny5pgw480000gn/T/ipykernel_9387/1586387839.py:29: FutureWarning: to_gbq is deprecated and will be removed in a future version. Please use pandas_gbq.to_gbq instead: https://pandas-gbq.readthedocs.io/en/latest/api.html#pandas_gbq.to_gbq\n",
      "  df.to_gbq(destination_table=destino,\n"
     ]
    }
   ],
   "source": [
    "for tabela, caminho in arquivos.items():\n",
    "    carregar_e_enviar(tabela, caminho, projeto, dataset, credencial)"
   ]
  }
 ],
 "metadata": {
  "kernelspec": {
   "display_name": "venv",
   "language": "python",
   "name": "python3"
  },
  "language_info": {
   "codemirror_mode": {
    "name": "ipython",
    "version": 3
   },
   "file_extension": ".py",
   "mimetype": "text/x-python",
   "name": "python",
   "nbconvert_exporter": "python",
   "pygments_lexer": "ipython3",
   "version": "3.13.3"
  }
 },
 "nbformat": 4,
 "nbformat_minor": 5
}
