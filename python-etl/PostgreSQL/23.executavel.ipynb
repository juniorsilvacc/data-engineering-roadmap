{
 "cells": [
  {
   "cell_type": "markdown",
   "metadata": {},
   "source": [
    "pip install pyinstaller                      # - caso nao tenha instalado \n",
    "pip install --upgrade pyinstaller            #instalar com upgrade atualização\n",
    "\n",
    " \n",
    "pip install --trusted-host pypi.org --trusted-host files.pythonhosted.org pyinstaller   -- se der erro ssl\n",
    "\n",
    "\n",
    "Modo oculto no windows (noconsole) adicionar isso antes do nome do arquivo\n",
    "\n",
    "pyinstaller --onefile --noconsole \"C:\\Users\\junior\\OneDrive\\Área de Trabalho\\Aula Python\\Banco de Dados\\Arquivos Formato PY\\Carga Tabela Categoria.py\"\n",
    "\n",
    "\n",
    "\n",
    "\n",
    "\n",
    "\n",
    "inserir via interface grafica\n",
    "pip install auto-py-to-exe\n",
    "pip install -U auto-py-to-exe  -  inserir para upgrade\n",
    "auto-py-to-exe   - digitar no prompt comando"
   ]
  }
 ],
 "metadata": {
  "language_info": {
   "name": "python"
  }
 },
 "nbformat": 4,
 "nbformat_minor": 2
}
