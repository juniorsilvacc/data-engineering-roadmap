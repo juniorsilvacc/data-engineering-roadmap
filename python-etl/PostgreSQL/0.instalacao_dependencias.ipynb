{
 "cells": [
  {
   "cell_type": "code",
   "execution_count": null,
   "metadata": {},
   "outputs": [],
   "source": [
    "# Dependencias necessárias\n",
    "# pip install pandas numpy nbformat openpyxl ipykernel plotly\n",
    "\n",
    "# Conexão com banco de dados PostgreSQL\n",
    "# pip install psycopg2\n",
    "\n",
    "# Permitirá que você use a função create_engine, para utilizar na conexão postgresql e usar para ler ou escrever dados.\n",
    "# pip install sqlalchemy\n"
   ]
  }
 ],
 "metadata": {
  "language_info": {
   "name": "python"
  }
 },
 "nbformat": 4,
 "nbformat_minor": 2
}
