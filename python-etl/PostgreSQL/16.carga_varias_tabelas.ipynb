{
 "cells": [
  {
   "cell_type": "code",
   "execution_count": 1,
   "metadata": {},
   "outputs": [],
   "source": [
    "import pandas as pd\n",
    "import psycopg2"
   ]
  },
  {
   "cell_type": "code",
   "execution_count": 2,
   "metadata": {},
   "outputs": [
    {
     "name": "stdout",
     "output_type": "stream",
     "text": [
      "Conexão bem-sucedida ao PostgreSQL!\n"
     ]
    }
   ],
   "source": [
    "server = 'localhost'\n",
    "database = 'python_etl_varias_bases'\n",
    "user = 'postgres'\n",
    "password = 'root'\n",
    "\n",
    "connection_string = f\"dbname={database} user={user} password={password} host={server}\"\n",
    "\n",
    "try:\n",
    "    conn = psycopg2.connect(connection_string)\n",
    "    print(\"Conexão bem-sucedida ao PostgreSQL!\")\n",
    "    \n",
    "    cursor = conn.cursor()\n",
    "except Exception as e:\n",
    "    print(\"Erro ao conectar ao PostgreSQL:\", e)"
   ]
  },
  {
   "cell_type": "code",
   "execution_count": 3,
   "metadata": {},
   "outputs": [],
   "source": [
    "clientes = pd.read_csv(\"/home/juniorsilvadev/engenharia-dados/python-etl/Arquivos Excel/arquivos_csv/Clientes.csv\", delimiter=',')\n",
    "produtos = pd.read_excel(\"/home/juniorsilvadev/engenharia-dados/python-etl/Arquivos Excel/arquivos_excel/Produto.xlsx\")\n",
    "categorias = pd.read_excel(\"/home/juniorsilvadev/engenharia-dados/python-etl/Arquivos Excel/arquivos_excel/Categoria.xlsx\")\n",
    "ordens = pd.read_excel(\"/home/juniorsilvadev/engenharia-dados/python-etl/Arquivos Excel/arquivos_excel/Ordens.xlsx\")\n",
    "items = pd.read_excel(\"/home/juniorsilvadev/engenharia-dados/python-etl/Arquivos Excel/arquivos_excel/items.xlsx\")"
   ]
  },
  {
   "cell_type": "code",
   "execution_count": null,
   "metadata": {},
   "outputs": [],
   "source": [
    "produtos = produtos.rename(columns={\n",
    "    'ID': 'id',\n",
    "    'Price': 'price',\n",
    "    'Id_Category': 'id_category',\n",
    "    'Name': 'name'\n",
    "})"
   ]
  },
  {
   "cell_type": "code",
   "execution_count": null,
   "metadata": {},
   "outputs": [],
   "source": [
    "dados = {\n",
    "    'ordens': ordens,\n",
    "    'clientes': clientes,\n",
    "}\n",
    "\n",
    "transform_for_data_hour = ['ordens', 'clientes']\n",
    "\n",
    "for table_name in transform_for_data_hour:\n",
    "    table = dados[table_name]\n",
    "    table['created_at'] = pd.to_datetime(table['created_at'])\n",
    "    print(f\"Coluna 'created_at' da tabela '{table_name}' convertida com sucesso!\")"
   ]
  },
  {
   "cell_type": "code",
   "execution_count": null,
   "metadata": {},
   "outputs": [],
   "source": [
    "clientes['email'] = clientes['email'].fillna('Sem registro')\n",
    "clientes['street'] = clientes['street'].fillna('Sem infor')\n",
    "clientes['number'] = clientes['number'].fillna('Sem número')\n",
    "clientes['additionals'] = clientes['additionals'].fillna('Sem infor')\n",
    "\n",
    "produtos = produtos.drop_duplicates(subset=['id'])"
   ]
  },
  {
   "cell_type": "code",
   "execution_count": null,
   "metadata": {},
   "outputs": [],
   "source": [
    "create_tables_queries = \"\"\"\n",
    "    CREATE TABLE IF NOT EXISTS produtos (\n",
    "        id SERIAL PRIMARY KEY,\n",
    "        name VARCHAR(255),\n",
    "        price NUMERIC(10, 2),\n",
    "        id_category INTEGER\n",
    "    );\n",
    "\n",
    "    CREATE TABLE IF NOT EXISTS categorias (\n",
    "        id SERIAL PRIMARY KEY,\n",
    "        name VARCHAR(255)\n",
    "    );\n",
    "    \n",
    "    CREATE TABLE IF NOT EXISTS items (\n",
    "        id SERIAL PRIMARY KEY,\n",
    "        order_id INTEGER,\n",
    "        product_id INTEGER,\n",
    "        quantity INTEGER,\n",
    "        total_price NUMERIC(10, 2)\n",
    "    );\n",
    "    \n",
    "    CREATE TABLE IF NOT EXISTS ordens (\n",
    "        id SERIAL PRIMARY KEY,\n",
    "        created_at TIMESTAMP,\n",
    "        customer_id INTEGER,\n",
    "        status VARCHAR(255)\n",
    "    );\n",
    "    \n",
    "    CREATE TABLE IF NOT EXISTS clientes (\n",
    "        id SERIAL PRIMARY KEY,\n",
    "        created_at TIMESTAMP,\n",
    "        first_name VARCHAR(255),\n",
    "        last_name VARCHAR(255),\n",
    "        email VARCHAR(255),\n",
    "        cell_phone VARCHAR(255),\n",
    "        country VARCHAR(255),\n",
    "        state VARCHAR(255),\n",
    "        street VARCHAR(255),\n",
    "        number VARCHAR(255),\n",
    "        additionals VARCHAR(255)\n",
    "    );\n",
    "\"\"\"\n",
    "\n",
    "try:\n",
    "    cursor.execute(create_tables_queries)\n",
    "    conn.commit()\n",
    "    print(\"Tabelas criadas com sucesso!\")\n",
    "except Exception as e:\n",
    "    print(\"Erro ao criar a tabelas:\", e)\n",
    "    conn.rollback()"
   ]
  },
  {
   "cell_type": "code",
   "execution_count": null,
   "metadata": {},
   "outputs": [],
   "source": [
    "tables_to_truncate = ['produtos', 'categorias', 'items', 'ordens', 'clientes']\n",
    "\n",
    "for table in tables_to_truncate:\n",
    "    truncate_query = f\"TRUNCATE TABLE {table};\"\n",
    "    cursor.execute(truncate_query)\n",
    "conn.commit()"
   ]
  },
  {
   "cell_type": "code",
   "execution_count": null,
   "metadata": {},
   "outputs": [],
   "source": [
    "insert_query = \"\"\"\n",
    "    INSERT INTO categorias (id, name) VALUES (%s, %s)\n",
    "\"\"\"\n",
    "\n",
    "try:\n",
    "    for index, row in categorias.iterrows():\n",
    "        cursor.execute(insert_query, (\n",
    "            row['id'], \n",
    "            row['name']\n",
    "        ))\n",
    "    \n",
    "    conn.commit()\n",
    "    print(\"Dados inseridos com sucesso!\")\n",
    "except Exception as e:\n",
    "    print(\"Erro ao inserir dados:\", e)\n",
    "    conn.rollback()"
   ]
  },
  {
   "cell_type": "code",
   "execution_count": null,
   "metadata": {},
   "outputs": [],
   "source": [
    "insert_query = \"\"\"\n",
    "    INSERT INTO items (id, order_id, product_id, quantity, total_price) VALUES (%s, %s, %s, %s, %s)\n",
    "\"\"\"\n",
    "\n",
    "try:    \n",
    "    for index, row in items.iterrows():\n",
    "        cursor.execute(insert_query, (\n",
    "            int(row['id']), \n",
    "            int(row['order_id']), \n",
    "            int(row['product_id']), \n",
    "            int(row['quantity']), \n",
    "            float(row['total_price'])\n",
    "        ))\n",
    "    \n",
    "    conn.commit()\n",
    "    print(\"Dados inseridos com sucesso!\")\n",
    "except Exception as e:\n",
    "    print(\"Erro ao inserir dados:\", e)\n",
    "    conn.rollback()"
   ]
  },
  {
   "cell_type": "code",
   "execution_count": null,
   "metadata": {},
   "outputs": [],
   "source": [
    "insert_query = \"\"\"\n",
    "    INSERT INTO ordens (id, created_at, customer_id, status) VALUES (%s, %s, %s, %s)\n",
    "\"\"\"\n",
    "\n",
    "try:\n",
    "    for index, row in ordens.iterrows():\n",
    "        cursor.execute(insert_query, (\n",
    "            row['id'], \n",
    "            row['created_at'], \n",
    "            row['customer_id'], \n",
    "            row['status']\n",
    "        ))\n",
    "    \n",
    "    conn.commit()\n",
    "    print(\"Dados inseridos com sucesso!\")\n",
    "except Exception as e:\n",
    "    print(\"Erro ao inserir dados:\", e)\n",
    "    conn.rollback()"
   ]
  },
  {
   "cell_type": "code",
   "execution_count": null,
   "metadata": {},
   "outputs": [],
   "source": [
    "insert_query = \"\"\"\n",
    "    INSERT INTO clientes (id, created_at, first_name, last_name, email, cell_phone, country, state, street, number, additionals) \n",
    "    VALUES (%s, %s, %s, %s, %s, %s, %s, %s, %s, %s, %s)\n",
    "\"\"\"\n",
    "\n",
    "try:\n",
    "    for index, row in clientes.iterrows():\n",
    "        cursor.execute(insert_query, (\n",
    "            row['id'], \n",
    "            row['created_at'],\n",
    "            row['first_name'],\n",
    "            row['last_name'],\n",
    "            str(row['email']),\n",
    "            row['cell_phone'],\n",
    "            str(row['country']),\n",
    "            str(row['state']),\n",
    "            str(row['street']),\n",
    "            str(row['number']),\n",
    "            str(row['additionals']),\n",
    "        ))\n",
    "    \n",
    "    conn.commit()\n",
    "    print(\"Dados inseridos com sucesso!\")\n",
    "except Exception as e:\n",
    "    print(\"Erro ao inserir dados:\", e)\n",
    "    conn.rollback()"
   ]
  },
  {
   "cell_type": "code",
   "execution_count": null,
   "metadata": {},
   "outputs": [],
   "source": [
    "insert_query = \"\"\"\n",
    "    INSERT INTO produtos (id, name, price, id_category) VALUES (%s, %s, %s, %s)\n",
    "\"\"\"\n",
    "\n",
    "try:\n",
    "    for index, row in produtos.iterrows():\n",
    "        cursor.execute(insert_query, (\n",
    "            row['id'], \n",
    "            row['name'],\n",
    "            row['price'],\n",
    "            row['id_category'],\n",
    "        ))\n",
    "    \n",
    "    conn.commit()\n",
    "    print(\"Dados inseridos com sucesso!\")\n",
    "except Exception as e:\n",
    "    print(\"Erro ao inserir dados:\", e)\n",
    "    conn.rollback()"
   ]
  },
  {
   "cell_type": "code",
   "execution_count": null,
   "metadata": {},
   "outputs": [],
   "source": [
    "# Fechar conexão e cursor\n",
    "cursor.close()\n",
    "conn.close()"
   ]
  }
 ],
 "metadata": {
  "kernelspec": {
   "display_name": ".venv",
   "language": "python",
   "name": "python3"
  },
  "language_info": {
   "codemirror_mode": {
    "name": "ipython",
    "version": 3
   },
   "file_extension": ".py",
   "mimetype": "text/x-python",
   "name": "python",
   "nbconvert_exporter": "python",
   "pygments_lexer": "ipython3",
   "version": "3.12.3"
  }
 },
 "nbformat": 4,
 "nbformat_minor": 2
}
