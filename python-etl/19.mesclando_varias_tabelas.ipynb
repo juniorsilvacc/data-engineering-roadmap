{
 "cells": [
  {
   "cell_type": "code",
   "execution_count": 38,
   "metadata": {},
   "outputs": [],
   "source": [
    "import pandas as pd\n",
    "import psycopg2"
   ]
  },
  {
   "cell_type": "code",
   "execution_count": 39,
   "metadata": {},
   "outputs": [
    {
     "name": "stdout",
     "output_type": "stream",
     "text": [
      "Conexão bem-sucedida ao PostgreSQL!\n"
     ]
    }
   ],
   "source": [
    "server = 'localhost'\n",
    "database = 'python_etl_varias_bases'\n",
    "user = 'postgres'\n",
    "password = 'root'\n",
    "\n",
    "connection_string = f\"dbname={database} user={user} password={password} host={server}\"\n",
    "\n",
    "try:\n",
    "    conn = psycopg2.connect(connection_string)\n",
    "    print(\"Conexão bem-sucedida ao PostgreSQL!\")\n",
    "    \n",
    "    cursor = conn.cursor()\n",
    "except Exception as e:\n",
    "    print(\"Erro ao conectar ao PostgreSQL:\", e)"
   ]
  },
  {
   "cell_type": "code",
   "execution_count": 40,
   "metadata": {},
   "outputs": [],
   "source": [
    "clientes = pd.read_csv(\"/home/juniorsilvadev/engenharia-dados/python-etl/Origem/Origem/arquivos_csv/Clientes.csv\", delimiter=',')\n",
    "produtos = pd.read_excel(\"/home/juniorsilvadev/engenharia-dados/python-etl/Origem/Origem/arquivos_excel/Produto.xlsx\")\n",
    "categorias = pd.read_excel(\"/home/juniorsilvadev/engenharia-dados/python-etl/Origem/Origem/arquivos_excel/Categoria.xlsx\")\n",
    "ordens = pd.read_excel(\"/home/juniorsilvadev/engenharia-dados/python-etl/Origem/Origem/arquivos_excel/Ordens.xlsx\")\n",
    "items = pd.read_excel(\"/home/juniorsilvadev/engenharia-dados/python-etl/Origem/Origem/arquivos_excel/items.xlsx\")"
   ]
  },
  {
   "cell_type": "code",
   "execution_count": 41,
   "metadata": {},
   "outputs": [],
   "source": [
    "t1 = pd.merge(ordens, clientes, left_on=\"customer_id\", right_on=\"id\", how=\"left\")\n",
    "# A tabela a \"esquerda\" é ordens e nela existe a coluna customer_id\n",
    "# A tabela a \"direita\" é clientes e nela eu devo ligar com o id\n",
    "\n",
    "# left_on       Chave da tabela a esqueda\n",
    "# right_on      Chave da tabela a direita\n",
    "# how           Tipo de join\n",
    "\n",
    "# Tipos de Join\n",
    "# left -> Todos dados da tabela a esquerda (Garante que todos os \"A\" apareçam, mesmo que não tenham pedido \"B\").\n",
    "# right -> Todos dados da tabela a direita (Garante que todos os pedidos \"A\" apareçam, mesmo que não tenham \"B\" associados).\n",
    "# inner -> Retorna dados apenas quando as duas tabelas tem chaves (Retorna apenas os registros que existem tanto em \"A\" quanto em \"B\").\n",
    "# outer -> Retorna todos os registros de ambas as tabelas (Garante que todos os \"A\" e todos os \"B\" apareçam, independentemente de haver)."
   ]
  },
  {
   "cell_type": "code",
   "execution_count": 42,
   "metadata": {},
   "outputs": [
    {
     "data": {
      "text/html": [
       "<div>\n",
       "<style scoped>\n",
       "    .dataframe tbody tr th:only-of-type {\n",
       "        vertical-align: middle;\n",
       "    }\n",
       "\n",
       "    .dataframe tbody tr th {\n",
       "        vertical-align: top;\n",
       "    }\n",
       "\n",
       "    .dataframe thead th {\n",
       "        text-align: right;\n",
       "    }\n",
       "</style>\n",
       "<table border=\"1\" class=\"dataframe\">\n",
       "  <thead>\n",
       "    <tr style=\"text-align: right;\">\n",
       "      <th></th>\n",
       "      <th>id_x</th>\n",
       "      <th>first_name</th>\n",
       "      <th>cell_phone</th>\n",
       "      <th>created_at_x</th>\n",
       "    </tr>\n",
       "  </thead>\n",
       "  <tbody>\n",
       "    <tr>\n",
       "      <th>0</th>\n",
       "      <td>0</td>\n",
       "      <td>Daniel</td>\n",
       "      <td>9 4761-6557</td>\n",
       "      <td>2019-08-28 03:36:31</td>\n",
       "    </tr>\n",
       "    <tr>\n",
       "      <th>1</th>\n",
       "      <td>1</td>\n",
       "      <td>Everton</td>\n",
       "      <td>9 2553-4087</td>\n",
       "      <td>2019-08-16 20:21:30</td>\n",
       "    </tr>\n",
       "    <tr>\n",
       "      <th>2</th>\n",
       "      <td>2</td>\n",
       "      <td>Eloá</td>\n",
       "      <td>9 3982-5948</td>\n",
       "      <td>2019-07-11 11:00:06</td>\n",
       "    </tr>\n",
       "    <tr>\n",
       "      <th>3</th>\n",
       "      <td>3</td>\n",
       "      <td>Beatriz</td>\n",
       "      <td>9 4435-2960</td>\n",
       "      <td>2019-08-27 21:04:41</td>\n",
       "    </tr>\n",
       "    <tr>\n",
       "      <th>4</th>\n",
       "      <td>4</td>\n",
       "      <td>Caíque</td>\n",
       "      <td>9 8818-5886</td>\n",
       "      <td>2019-11-03 19:58:37</td>\n",
       "    </tr>\n",
       "  </tbody>\n",
       "</table>\n",
       "</div>"
      ],
      "text/plain": [
       "   id_x first_name   cell_phone        created_at_x\n",
       "0     0     Daniel  9 4761-6557 2019-08-28 03:36:31\n",
       "1     1    Everton  9 2553-4087 2019-08-16 20:21:30\n",
       "2     2       Eloá  9 3982-5948 2019-07-11 11:00:06\n",
       "3     3    Beatriz  9 4435-2960 2019-08-27 21:04:41\n",
       "4     4     Caíque  9 8818-5886 2019-11-03 19:58:37"
      ]
     },
     "execution_count": 42,
     "metadata": {},
     "output_type": "execute_result"
    }
   ],
   "source": [
    "t1 = t1[['id_x', 'first_name', 'cell_phone', 'created_at_x']]\n",
    "t1.head(5)"
   ]
  },
  {
   "cell_type": "code",
   "execution_count": 43,
   "metadata": {},
   "outputs": [
    {
     "data": {
      "text/html": [
       "<div>\n",
       "<style scoped>\n",
       "    .dataframe tbody tr th:only-of-type {\n",
       "        vertical-align: middle;\n",
       "    }\n",
       "\n",
       "    .dataframe tbody tr th {\n",
       "        vertical-align: top;\n",
       "    }\n",
       "\n",
       "    .dataframe thead th {\n",
       "        text-align: right;\n",
       "    }\n",
       "</style>\n",
       "<table border=\"1\" class=\"dataframe\">\n",
       "  <thead>\n",
       "    <tr style=\"text-align: right;\">\n",
       "      <th></th>\n",
       "      <th>id</th>\n",
       "      <th>Name</th>\n",
       "      <th>Id_Category</th>\n",
       "    </tr>\n",
       "  </thead>\n",
       "  <tbody>\n",
       "    <tr>\n",
       "      <th>0</th>\n",
       "      <td>0</td>\n",
       "      <td>Impressora</td>\n",
       "      <td>5</td>\n",
       "    </tr>\n",
       "    <tr>\n",
       "      <th>1</th>\n",
       "      <td>1</td>\n",
       "      <td>HD Externo</td>\n",
       "      <td>5</td>\n",
       "    </tr>\n",
       "    <tr>\n",
       "      <th>2</th>\n",
       "      <td>2</td>\n",
       "      <td>PC</td>\n",
       "      <td>7</td>\n",
       "    </tr>\n",
       "    <tr>\n",
       "      <th>3</th>\n",
       "      <td>3</td>\n",
       "      <td>Notebook</td>\n",
       "      <td>7</td>\n",
       "    </tr>\n",
       "    <tr>\n",
       "      <th>4</th>\n",
       "      <td>4</td>\n",
       "      <td>Impressora</td>\n",
       "      <td>5</td>\n",
       "    </tr>\n",
       "  </tbody>\n",
       "</table>\n",
       "</div>"
      ],
      "text/plain": [
       "   id        Name  Id_Category\n",
       "0   0  Impressora            5\n",
       "1   1  HD Externo            5\n",
       "2   2          PC            7\n",
       "3   3    Notebook            7\n",
       "4   4  Impressora            5"
      ]
     },
     "execution_count": 43,
     "metadata": {},
     "output_type": "execute_result"
    }
   ],
   "source": [
    "t2 = pd.merge(items, produtos, left_on=\"product_id\", right_on=\"ID\", how=\"left\")\n",
    "t2 = t2[['id', 'Name', 'Id_Category']]\n",
    "t2.head(5)"
   ]
  },
  {
   "cell_type": "code",
   "execution_count": 53,
   "metadata": {},
   "outputs": [
    {
     "data": {
      "text/html": [
       "<div>\n",
       "<style scoped>\n",
       "    .dataframe tbody tr th:only-of-type {\n",
       "        vertical-align: middle;\n",
       "    }\n",
       "\n",
       "    .dataframe tbody tr th {\n",
       "        vertical-align: top;\n",
       "    }\n",
       "\n",
       "    .dataframe thead th {\n",
       "        text-align: right;\n",
       "    }\n",
       "</style>\n",
       "<table border=\"1\" class=\"dataframe\">\n",
       "  <thead>\n",
       "    <tr style=\"text-align: right;\">\n",
       "      <th></th>\n",
       "      <th>id</th>\n",
       "      <th>Nome Produto</th>\n",
       "      <th>Categoria</th>\n",
       "    </tr>\n",
       "  </thead>\n",
       "  <tbody>\n",
       "    <tr>\n",
       "      <th>0</th>\n",
       "      <td>0</td>\n",
       "      <td>Impressora</td>\n",
       "      <td>Informática</td>\n",
       "    </tr>\n",
       "    <tr>\n",
       "      <th>1</th>\n",
       "      <td>1</td>\n",
       "      <td>HD Externo</td>\n",
       "      <td>Informática</td>\n",
       "    </tr>\n",
       "    <tr>\n",
       "      <th>2</th>\n",
       "      <td>2</td>\n",
       "      <td>PC</td>\n",
       "      <td>Eletrônicos</td>\n",
       "    </tr>\n",
       "    <tr>\n",
       "      <th>3</th>\n",
       "      <td>3</td>\n",
       "      <td>Notebook</td>\n",
       "      <td>Eletrônicos</td>\n",
       "    </tr>\n",
       "    <tr>\n",
       "      <th>4</th>\n",
       "      <td>4</td>\n",
       "      <td>Impressora</td>\n",
       "      <td>Informática</td>\n",
       "    </tr>\n",
       "  </tbody>\n",
       "</table>\n",
       "</div>"
      ],
      "text/plain": [
       "   id Nome Produto    Categoria\n",
       "0   0   Impressora  Informática\n",
       "1   1   HD Externo  Informática\n",
       "2   2           PC  Eletrônicos\n",
       "3   3     Notebook  Eletrônicos\n",
       "4   4   Impressora  Informática"
      ]
     },
     "execution_count": 53,
     "metadata": {},
     "output_type": "execute_result"
    }
   ],
   "source": [
    "categorias_produtos = pd.merge(t2, categorias, left_on=\"Id_Category\", right_on=\"id\", how=\"left\")\n",
    "\n",
    "categorias_produtos = categorias_produtos.rename(columns={'id_x': 'id', 'Name': 'Nome Produto', 'name': 'Categoria'})\n",
    "\n",
    "categorias_produtos = categorias_produtos[[\"id\", \"Nome Produto\", \"Categoria\"]]\n",
    "\n",
    "categorias_produtos.head(5)"
   ]
  }
 ],
 "metadata": {
  "kernelspec": {
   "display_name": "venv",
   "language": "python",
   "name": "python3"
  },
  "language_info": {
   "codemirror_mode": {
    "name": "ipython",
    "version": 3
   },
   "file_extension": ".py",
   "mimetype": "text/x-python",
   "name": "python",
   "nbconvert_exporter": "python",
   "pygments_lexer": "ipython3",
   "version": "3.12.3"
  }
 },
 "nbformat": 4,
 "nbformat_minor": 2
}
