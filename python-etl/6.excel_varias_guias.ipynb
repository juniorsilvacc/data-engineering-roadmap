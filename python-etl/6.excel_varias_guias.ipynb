{
 "cells": [
  {
   "cell_type": "code",
   "execution_count": 5,
   "metadata": {},
   "outputs": [],
   "source": [
    "import pandas as pd"
   ]
  },
  {
   "cell_type": "code",
   "execution_count": null,
   "metadata": {},
   "outputs": [],
   "source": [
    "df = pd.read_excel(\"/home/juniorsilvadev/engenharia-dados/python-etl/Origem/Origem/arquivos_excel/Caquinha.xlsx\")\n",
    "display(df)"
   ]
  },
  {
   "cell_type": "code",
   "execution_count": null,
   "metadata": {},
   "outputs": [],
   "source": [
    "# sheet_name -> Nome da planilha\n",
    "# skiprows -> Pular linha\n",
    "panilha02 = pd.read_excel(\"/home/juniorsilvadev/engenharia-dados/python-etl/Origem/Origem/arquivos_excel/Caquinha.xlsx\", sheet_name='Planilha2', skiprows=3)\n",
    "display(panilha02)"
   ]
  },
  {
   "cell_type": "code",
   "execution_count": null,
   "metadata": {},
   "outputs": [],
   "source": [
    "# usecols -> Escolher coluna especifica\n",
    "# nrows -> Definicar até onde quer selecionar\n",
    "panilha03_1 = pd.read_excel(\"/home/juniorsilvadev/engenharia-dados/python-etl/Origem/Origem/arquivos_excel/Caquinha.xlsx\", sheet_name='Planilha3', usecols='A:B')\n",
    "panilha03_2 = pd.read_excel(\"/home/juniorsilvadev/engenharia-dados/python-etl/Origem/Origem/arquivos_excel/Caquinha.xlsx\", sheet_name='Planilha3', usecols=[5,6])\n",
    "display(panilha03_1, panilha03_2)"
   ]
  },
  {
   "cell_type": "code",
   "execution_count": null,
   "metadata": {},
   "outputs": [],
   "source": [
    "panilha04 = pd.read_excel(\"/home/juniorsilvadev/engenharia-dados/python-etl/Origem/Origem/arquivos_excel/Caquinha.xlsx\", sheet_name='Planilha4', usecols='G:H', skiprows=7)\n",
    "display(panilha04)"
   ]
  },
  {
   "cell_type": "code",
   "execution_count": null,
   "metadata": {},
   "outputs": [],
   "source": [
    "panilha05_vendedor = pd.read_excel(\"/home/juniorsilvadev/engenharia-dados/python-etl/Origem/Origem/arquivos_excel/Caquinha.xlsx\", sheet_name='Planilha5', usecols='A:B', nrows=11)\n",
    "panilha05_loja = pd.read_excel(\"/home/juniorsilvadev/engenharia-dados/python-etl/Origem/Origem/arquivos_excel/Caquinha.xlsx\", sheet_name='Planilha5', usecols='A:B', skiprows=13)\n",
    "display(panilha05_vendedor, panilha05_loja)"
   ]
  }
 ],
 "metadata": {
  "kernelspec": {
   "display_name": "venv",
   "language": "python",
   "name": "python3"
  },
  "language_info": {
   "codemirror_mode": {
    "name": "ipython",
    "version": 3
   },
   "file_extension": ".py",
   "mimetype": "text/x-python",
   "name": "python",
   "nbconvert_exporter": "python",
   "pygments_lexer": "ipython3",
   "version": "3.12.3"
  }
 },
 "nbformat": 4,
 "nbformat_minor": 2
}
