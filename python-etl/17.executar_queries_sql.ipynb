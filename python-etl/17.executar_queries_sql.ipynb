{
 "cells": [
  {
   "cell_type": "code",
   "execution_count": 3,
   "metadata": {},
   "outputs": [],
   "source": [
    "import pandas as pd\n",
    "import psycopg2\n",
    "from sqlalchemy import create_engine\n",
    "\n",
    "# O erro ocorre porque o pd.read_sql do Pandas não suporta diretamente objetos de conexão do psycopg2"
   ]
  },
  {
   "cell_type": "code",
   "execution_count": 4,
   "metadata": {},
   "outputs": [
    {
     "name": "stdout",
     "output_type": "stream",
     "text": [
      "Conexão bem-sucedida ao PostgreSQL!\n"
     ]
    }
   ],
   "source": [
    "server = 'localhost'\n",
    "database = 'python_etl_varias_bases'\n",
    "user = 'postgres'\n",
    "password = 'root'\n",
    "\n",
    "try:\n",
    "    engine = create_engine(f'postgresql://{user}:{password}@{server}/{database}')\n",
    "    print(\"Conexão bem-sucedida ao PostgreSQL!\")\n",
    "except Exception as e:\n",
    "    print(\"Erro ao conectar ao PostgreSQL:\", e)"
   ]
  },
  {
   "cell_type": "code",
   "execution_count": 5,
   "metadata": {},
   "outputs": [
    {
     "data": {
      "text/html": [
       "<div>\n",
       "<style scoped>\n",
       "    .dataframe tbody tr th:only-of-type {\n",
       "        vertical-align: middle;\n",
       "    }\n",
       "\n",
       "    .dataframe tbody tr th {\n",
       "        vertical-align: top;\n",
       "    }\n",
       "\n",
       "    .dataframe thead th {\n",
       "        text-align: right;\n",
       "    }\n",
       "</style>\n",
       "<table border=\"1\" class=\"dataframe\">\n",
       "  <thead>\n",
       "    <tr style=\"text-align: right;\">\n",
       "      <th></th>\n",
       "      <th>id</th>\n",
       "      <th>name</th>\n",
       "    </tr>\n",
       "  </thead>\n",
       "  <tbody>\n",
       "  </tbody>\n",
       "</table>\n",
       "</div>"
      ],
      "text/plain": [
       "Empty DataFrame\n",
       "Columns: [id, name]\n",
       "Index: []"
      ]
     },
     "execution_count": 5,
     "metadata": {},
     "output_type": "execute_result"
    }
   ],
   "source": [
    "query = 'SELECT * FROM categorias'\n",
    "categoria = pd.read_sql(query, engine)\n",
    "categoria.head(10)"
   ]
  },
  {
   "cell_type": "code",
   "execution_count": 6,
   "metadata": {},
   "outputs": [
    {
     "data": {
      "text/html": [
       "<div>\n",
       "<style scoped>\n",
       "    .dataframe tbody tr th:only-of-type {\n",
       "        vertical-align: middle;\n",
       "    }\n",
       "\n",
       "    .dataframe tbody tr th {\n",
       "        vertical-align: top;\n",
       "    }\n",
       "\n",
       "    .dataframe thead th {\n",
       "        text-align: right;\n",
       "    }\n",
       "</style>\n",
       "<table border=\"1\" class=\"dataframe\">\n",
       "  <thead>\n",
       "    <tr style=\"text-align: right;\">\n",
       "      <th></th>\n",
       "      <th>id</th>\n",
       "      <th>created_at</th>\n",
       "      <th>first_name</th>\n",
       "      <th>last_name</th>\n",
       "      <th>email</th>\n",
       "      <th>cell_phone</th>\n",
       "      <th>country</th>\n",
       "      <th>state</th>\n",
       "      <th>street</th>\n",
       "      <th>number</th>\n",
       "      <th>additionals</th>\n",
       "    </tr>\n",
       "  </thead>\n",
       "  <tbody>\n",
       "    <tr>\n",
       "      <th>0</th>\n",
       "      <td>16</td>\n",
       "      <td>2017-12-12 21:29:54</td>\n",
       "      <td>Laura</td>\n",
       "      <td>Santos</td>\n",
       "      <td>laura@exemplo.com</td>\n",
       "      <td>9 7802-6152</td>\n",
       "      <td>Brasil</td>\n",
       "      <td>Maranhão</td>\n",
       "      <td>Rua 57 do Estado Maranhão</td>\n",
       "      <td>213.0</td>\n",
       "      <td>Sem infor</td>\n",
       "    </tr>\n",
       "    <tr>\n",
       "      <th>1</th>\n",
       "      <td>22</td>\n",
       "      <td>2018-04-18 22:43:29</td>\n",
       "      <td>Heitor</td>\n",
       "      <td>Pereira</td>\n",
       "      <td>Sem registro</td>\n",
       "      <td>9 4839-8118</td>\n",
       "      <td>Brasil</td>\n",
       "      <td>Maranhão</td>\n",
       "      <td>Avenida 84 do Estado Maranhão</td>\n",
       "      <td>948.0</td>\n",
       "      <td>Sem infor</td>\n",
       "    </tr>\n",
       "    <tr>\n",
       "      <th>2</th>\n",
       "      <td>52</td>\n",
       "      <td>2017-12-04 17:42:34</td>\n",
       "      <td>Bruno</td>\n",
       "      <td>Anjos</td>\n",
       "      <td>bruno@teste.com</td>\n",
       "      <td>9 3004-3740</td>\n",
       "      <td>Brasil</td>\n",
       "      <td>Goiás</td>\n",
       "      <td>Rua 53 do Estado Goiás</td>\n",
       "      <td>825.0</td>\n",
       "      <td>Sem infor</td>\n",
       "    </tr>\n",
       "    <tr>\n",
       "      <th>3</th>\n",
       "      <td>57</td>\n",
       "      <td>2018-08-23 03:31:05</td>\n",
       "      <td>Stephanie</td>\n",
       "      <td>Barboza</td>\n",
       "      <td>stephanie@meu_email.com</td>\n",
       "      <td>9 1168-6722</td>\n",
       "      <td>Brasil</td>\n",
       "      <td>Maranhão</td>\n",
       "      <td>Avenida 25 do Estado Maranhão</td>\n",
       "      <td>795.0</td>\n",
       "      <td>Sem infor</td>\n",
       "    </tr>\n",
       "  </tbody>\n",
       "</table>\n",
       "</div>"
      ],
      "text/plain": [
       "   id          created_at first_name last_name                    email  \\\n",
       "0  16 2017-12-12 21:29:54      Laura    Santos        laura@exemplo.com   \n",
       "1  22 2018-04-18 22:43:29     Heitor   Pereira             Sem registro   \n",
       "2  52 2017-12-04 17:42:34      Bruno     Anjos          bruno@teste.com   \n",
       "3  57 2018-08-23 03:31:05  Stephanie   Barboza  stephanie@meu_email.com   \n",
       "\n",
       "    cell_phone country     state                         street number  \\\n",
       "0  9 7802-6152  Brasil  Maranhão      Rua 57 do Estado Maranhão  213.0   \n",
       "1  9 4839-8118  Brasil  Maranhão  Avenida 84 do Estado Maranhão  948.0   \n",
       "2  9 3004-3740  Brasil     Goiás         Rua 53 do Estado Goiás  825.0   \n",
       "3  9 1168-6722  Brasil  Maranhão  Avenida 25 do Estado Maranhão  795.0   \n",
       "\n",
       "  additionals  \n",
       "0   Sem infor  \n",
       "1   Sem infor  \n",
       "2   Sem infor  \n",
       "3   Sem infor  "
      ]
     },
     "execution_count": 6,
     "metadata": {},
     "output_type": "execute_result"
    }
   ],
   "source": [
    "query = \"\"\"\n",
    "    SELECT * FROM clientes WHERE \n",
    "    state in ('Acre', 'Mato_Grosso', 'Goiás', 'Maranhão')  \n",
    "        AND \n",
    "    first_name in ('Stephanie', 'Laura', 'Heitor', 'Bruno')\n",
    "\"\"\"\n",
    "states = pd.read_sql(query, engine)\n",
    "states.head(10)"
   ]
  }
 ],
 "metadata": {
  "kernelspec": {
   "display_name": "venv",
   "language": "python",
   "name": "python3"
  },
  "language_info": {
   "codemirror_mode": {
    "name": "ipython",
    "version": 3
   },
   "file_extension": ".py",
   "mimetype": "text/x-python",
   "name": "python",
   "nbconvert_exporter": "python",
   "pygments_lexer": "ipython3",
   "version": "3.12.3"
  }
 },
 "nbformat": 4,
 "nbformat_minor": 2
}
