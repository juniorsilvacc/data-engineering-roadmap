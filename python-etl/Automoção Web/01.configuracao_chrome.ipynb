{
 "cells": [
  {
   "cell_type": "code",
   "execution_count": 1,
   "metadata": {},
   "outputs": [
    {
     "ename": "ModuleNotFoundError",
     "evalue": "No module named 'chromedriver_autoinstaller'",
     "output_type": "error",
     "traceback": [
      "\u001b[31m---------------------------------------------------------------------------\u001b[39m",
      "\u001b[31mModuleNotFoundError\u001b[39m                       Traceback (most recent call last)",
      "\u001b[36mCell\u001b[39m\u001b[36m \u001b[39m\u001b[32mIn[1]\u001b[39m\u001b[32m, line 4\u001b[39m\n\u001b[32m      1\u001b[39m \u001b[38;5;66;03m# pip install chromedriver-autoinstaller\u001b[39;00m\n\u001b[32m      3\u001b[39m \u001b[38;5;28;01mfrom\u001b[39;00m\u001b[38;5;250m \u001b[39m\u001b[34;01mselenium\u001b[39;00m\u001b[38;5;250m \u001b[39m\u001b[38;5;28;01mimport\u001b[39;00m webdriver\n\u001b[32m----> \u001b[39m\u001b[32m4\u001b[39m \u001b[38;5;28;01mimport\u001b[39;00m\u001b[38;5;250m \u001b[39m\u001b[34;01mchromedriver_autoinstaller\u001b[39;00m\n\u001b[32m      6\u001b[39m \u001b[38;5;66;03m# Instalação automática do ChromeDriver\u001b[39;00m\n\u001b[32m      7\u001b[39m chromedriver_autoinstaller.install()\n",
      "\u001b[31mModuleNotFoundError\u001b[39m: No module named 'chromedriver_autoinstaller'"
     ]
    }
   ],
   "source": [
    "# pip install chromedriver-autoinstaller\n",
    "\n",
    "from selenium import webdriver\n",
    "import chromedriver_autoinstaller\n",
    "\n",
    "# Instalação automática do ChromeDriver\n",
    "chromedriver_autoinstaller.install()\n",
    "\n",
    "# Inicializar o navegador Chrome\n",
    "navegador = webdriver.Chrome()\n",
    "\n",
    "# Exemplo: abrindo páginas web\n",
    "link = \"http://www.google.com.br\"\n",
    "navegador.get(link)"
   ]
  }
 ],
 "metadata": {
  "kernelspec": {
   "display_name": ".venv",
   "language": "python",
   "name": "python3"
  },
  "language_info": {
   "codemirror_mode": {
    "name": "ipython",
    "version": 3
   },
   "file_extension": ".py",
   "mimetype": "text/x-python",
   "name": "python",
   "nbconvert_exporter": "python",
   "pygments_lexer": "ipython3",
   "version": "3.12.3"
  }
 },
 "nbformat": 4,
 "nbformat_minor": 2
}
