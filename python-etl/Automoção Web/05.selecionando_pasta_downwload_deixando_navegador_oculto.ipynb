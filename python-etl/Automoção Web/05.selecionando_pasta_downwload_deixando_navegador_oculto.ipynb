{
 "cells": [
  {
   "cell_type": "code",
   "execution_count": null,
   "metadata": {},
   "outputs": [],
   "source": [
    "from selenium import webdriver\n",
    "from selenium.webdriver.chrome.service import Service as ChromeService\n",
    "from selenium.webdriver.chrome.options import Options as ChromeOptions\n",
    "from selenium.webdriver.common.by import By \n",
    "from time import sleep\n",
    "\n",
    "# Configurar o caminho para o ChromeDriver na pasta de rede comando do google web\n",
    "chrome_driver = r\"C:\\Users\\junio\\Downloads\\chromedriver_win32\\chromedriver.exe\"\n",
    "\n",
    "# Configurar as preferências do Chrome para salvar automaticamente os downloads na pasta de destino\n",
    "pasta_destino = r\"C:\\Users\\junio\\OneDrive\\Documentos\\Dpersonalizado\"\n",
    "\n",
    "preferencias = {\n",
    "    \"download.default_directory\": pasta_destino\n",
    "}\n",
    "\n",
    "# Configurar as opções do Chrome\n",
    "options = ChromeOptions()\n",
    "options.add_experimental_option(\"prefs\", preferencias)  # adicinar preferencias \n",
    "options.headless = True                                 # (False mostrar navegador) (True Não mostrar o navegador)\n",
    "\n",
    "# Configurar serviço do ChromeDriver\n",
    "chrome_service = ChromeService(executable_path=chrome_driver)\n",
    "\n",
    "# Instanciar o navegador Chrome passando o Service e as opções\n",
    "navegador = webdriver.Chrome(service=chrome_service, options=options)\n",
    "\n",
    "# Agora o Chrome será iniciado a partir do executável do Chrome Portable e controlado pelo ChromeDriver.\n",
    "link = \"https://rpachallenge.com/\"\n",
    "navegador.get(link)"
   ]
  },
  {
   "cell_type": "code",
   "execution_count": null,
   "metadata": {},
   "outputs": [],
   "source": [
    "sleep(5)\n",
    "\n",
    "baixar = navegador.find_element(by= By.XPATH, value='/html/body/app-root/div[2]/app-rpa1/div/div[1]/div[6]/a')\n",
    "baixar.click()"
   ]
  }
 ],
 "metadata": {
  "language_info": {
   "name": "python"
  }
 },
 "nbformat": 4,
 "nbformat_minor": 2
}
