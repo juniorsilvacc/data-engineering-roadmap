{
 "cells": [
  {
   "cell_type": "code",
   "execution_count": null,
   "metadata": {},
   "outputs": [],
   "source": [
    "from selenium import webdriver\n",
    "import chromedriver_autoinstaller\n",
    "\n",
    "from selenium.webdriver.common.by import By \n",
    "from time import sleep\n",
    "from selenium.webdriver.common.keys import Keys\n",
    "\n",
    "# Instalação automática do ChromeDriver (comunicação entre cod e navegador)\n",
    "chromedriver_autoinstaller.install()\n",
    "\n",
    "# Inicializar o navegador Chrome\n",
    "navegador = webdriver.Chrome()"
   ]
  },
  {
   "cell_type": "code",
   "execution_count": null,
   "metadata": {},
   "outputs": [],
   "source": [
    "link = \"https://rpachallenge.com/\"\n",
    "navegador.get(link)"
   ]
  },
  {
   "cell_type": "code",
   "execution_count": null,
   "metadata": {},
   "outputs": [],
   "source": [
    "sleep(5) # tempo de espera da pagina"
   ]
  },
  {
   "cell_type": "markdown",
   "metadata": {},
   "source": [
    "Identificação dos elementos na página web(html)"
   ]
  },
  {
   "cell_type": "code",
   "execution_count": null,
   "metadata": {},
   "outputs": [],
   "source": [
    "# name=\"labelPhone\"\n",
    "# id=\"KqwVq\"\n",
    "# xpath = //*[@id=\"KqwVq\"]\n",
    "# full xpath = /html/body/app-root/div[2]/app-rpa1/div/div[2]/form/div/div[1]/rpa1-field/div/input"
   ]
  },
  {
   "cell_type": "code",
   "execution_count": null,
   "metadata": {},
   "outputs": [],
   "source": [
    "empresa = navegador.find_element(by= By.ID, value=\"aG0qp\").send_keys(\"Teste\")"
   ]
  },
  {
   "cell_type": "code",
   "execution_count": null,
   "metadata": {},
   "outputs": [],
   "source": [
    "papelcompania = navegador.find_element(by= By.XPATH, value='//*[@id=\"FqJk1\"]')\n",
    "papelcompania.send_keys(\"Industrial\")"
   ]
  },
  {
   "cell_type": "code",
   "execution_count": null,
   "metadata": {},
   "outputs": [],
   "source": [
    "sobrenome = navegador.find_element(by= By.XPATH, value='//*[@id=\"MX8pg\"]')\n",
    "sobrenome.send_keys(\"Alves\")"
   ]
  },
  {
   "cell_type": "code",
   "execution_count": null,
   "metadata": {},
   "outputs": [],
   "source": [
    "enviar = navegador.find_element(by= By.XPATH, value='/html/body/app-root/div[2]/app-rpa1/div/div[2]/form/input')\n",
    "enviar.click()"
   ]
  },
  {
   "cell_type": "code",
   "execution_count": null,
   "metadata": {},
   "outputs": [],
   "source": [
    "sleep(5) # tempo de espera da pagina\n",
    "navegador.quit()"
   ]
  }
 ],
 "metadata": {
  "language_info": {
   "name": "python"
  }
 },
 "nbformat": 4,
 "nbformat_minor": 2
}
