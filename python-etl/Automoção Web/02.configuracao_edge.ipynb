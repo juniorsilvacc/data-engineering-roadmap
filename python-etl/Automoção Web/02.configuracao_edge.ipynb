{
 "cells": [
  {
   "cell_type": "code",
   "execution_count": null,
   "metadata": {},
   "outputs": [],
   "source": [
    "from selenium import webdriver\n",
    "\n",
    "# Caminho para o EdgeDriver\n",
    "edge_driver_path = \"/mnt/c/Users/junio/Downloads/WebDriver/msedgedriver.exe\"\n",
    "\n",
    "driver = webdriver.Edge(edge_driver_path)\n",
    "\n",
    "driver.get(\"http://www.google.com.br\")\n"
   ]
  }
 ],
 "metadata": {
  "kernelspec": {
   "display_name": ".venv",
   "language": "python",
   "name": "python3"
  },
  "language_info": {
   "codemirror_mode": {
    "name": "ipython",
    "version": 3
   },
   "file_extension": ".py",
   "mimetype": "text/x-python",
   "name": "python",
   "nbconvert_exporter": "python",
   "pygments_lexer": "ipython3",
   "version": "3.12.3"
  }
 },
 "nbformat": 4,
 "nbformat_minor": 2
}
