{
 "cells": [
  {
   "cell_type": "code",
   "execution_count": 247,
   "metadata": {},
   "outputs": [],
   "source": [
    "# pip install psycopg2\n",
    "\n",
    "import pandas as pd\n",
    "import psycopg2"
   ]
  },
  {
   "cell_type": "markdown",
   "metadata": {},
   "source": [
    "Conexão com o servidor"
   ]
  },
  {
   "cell_type": "code",
   "execution_count": 248,
   "metadata": {},
   "outputs": [
    {
     "name": "stdout",
     "output_type": "stream",
     "text": [
      "Conexão bem-sucedida ao PostgreSQL!\n"
     ]
    }
   ],
   "source": [
    "server = 'localhost'\n",
    "database = 'python_etl'\n",
    "user = 'postgres'\n",
    "password = 'root'\n",
    "\n",
    "connection_string = f\"dbname={database} user={user} password={password} host={server}\"\n",
    "\n",
    "try:\n",
    "    conn = psycopg2.connect(connection_string)\n",
    "    print(\"Conexão bem-sucedida ao PostgreSQL!\")\n",
    "except Exception as e:\n",
    "    print(\"Erro ao conectar ao PostgreSQL:\", e)"
   ]
  },
  {
   "cell_type": "code",
   "execution_count": 249,
   "metadata": {},
   "outputs": [
    {
     "data": {
      "text/html": [
       "<div>\n",
       "<style scoped>\n",
       "    .dataframe tbody tr th:only-of-type {\n",
       "        vertical-align: middle;\n",
       "    }\n",
       "\n",
       "    .dataframe tbody tr th {\n",
       "        vertical-align: top;\n",
       "    }\n",
       "\n",
       "    .dataframe thead th {\n",
       "        text-align: right;\n",
       "    }\n",
       "</style>\n",
       "<table border=\"1\" class=\"dataframe\">\n",
       "  <thead>\n",
       "    <tr style=\"text-align: right;\">\n",
       "      <th></th>\n",
       "      <th>ID</th>\n",
       "      <th>Name</th>\n",
       "      <th>Price</th>\n",
       "      <th>Id_Category</th>\n",
       "    </tr>\n",
       "  </thead>\n",
       "  <tbody>\n",
       "    <tr>\n",
       "      <th>0</th>\n",
       "      <td>0</td>\n",
       "      <td>Sapato vermelho</td>\n",
       "      <td>96</td>\n",
       "      <td>0</td>\n",
       "    </tr>\n",
       "    <tr>\n",
       "      <th>1</th>\n",
       "      <td>1</td>\n",
       "      <td>Bolsa mais que Velha</td>\n",
       "      <td>8000</td>\n",
       "      <td>0</td>\n",
       "    </tr>\n",
       "    <tr>\n",
       "      <th>2</th>\n",
       "      <td>2</td>\n",
       "      <td>Calça RASGADA</td>\n",
       "      <td>75</td>\n",
       "      <td>0</td>\n",
       "    </tr>\n",
       "    <tr>\n",
       "      <th>3</th>\n",
       "      <td>3</td>\n",
       "      <td>Camisa apertadinha</td>\n",
       "      <td>170</td>\n",
       "      <td>0</td>\n",
       "    </tr>\n",
       "    <tr>\n",
       "      <th>4</th>\n",
       "      <td>4</td>\n",
       "      <td>Vestido Super curto</td>\n",
       "      <td>57</td>\n",
       "      <td>0</td>\n",
       "    </tr>\n",
       "  </tbody>\n",
       "</table>\n",
       "</div>"
      ],
      "text/plain": [
       "   ID                  Name  Price  Id_Category\n",
       "0   0       Sapato vermelho     96            0\n",
       "1   1  Bolsa mais que Velha   8000            0\n",
       "2   2         Calça RASGADA     75            0\n",
       "3   3    Camisa apertadinha    170            0\n",
       "4   4   Vestido Super curto     57            0"
      ]
     },
     "execution_count": 249,
     "metadata": {},
     "output_type": "execute_result"
    }
   ],
   "source": [
    "dados = pd.read_excel(\"/home/juniorsilvadev/engenharia-dados/python-etl/Origem/Origem/arquivos_excel/Produto.xlsx\")\n",
    "dados.head(5)"
   ]
  },
  {
   "cell_type": "code",
   "execution_count": 250,
   "metadata": {},
   "outputs": [
    {
     "name": "stdout",
     "output_type": "stream",
     "text": [
      "ID              int64\n",
      "Name           object\n",
      "Price           int64\n",
      "Id_Category     int64\n",
      "dtype: object\n"
     ]
    }
   ],
   "source": [
    "# Verificar os tipos de dados\n",
    "print(dados.dtypes)"
   ]
  },
  {
   "cell_type": "code",
   "execution_count": 251,
   "metadata": {},
   "outputs": [
    {
     "data": {
      "text/plain": [
       "Index(['ID', 'Name', 'Price', 'Id_Category'], dtype='object')"
      ]
     },
     "execution_count": 251,
     "metadata": {},
     "output_type": "execute_result"
    }
   ],
   "source": [
    "# Verificar os nomes das colunas\n",
    "dados.columns"
   ]
  },
  {
   "cell_type": "code",
   "execution_count": 252,
   "metadata": {},
   "outputs": [
    {
     "data": {
      "text/plain": [
       "'Index([ID, Name, Price, Id_Category], dtype=object)'"
      ]
     },
     "execution_count": 252,
     "metadata": {},
     "output_type": "execute_result"
    }
   ],
   "source": [
    "str(dados.columns).replace(\"'\", \"\")"
   ]
  },
  {
   "cell_type": "code",
   "execution_count": 253,
   "metadata": {},
   "outputs": [],
   "source": [
    "# Converter tipos de dados (se necessário)\n",
    "dados['ID'] = dados['ID'].astype(int)\n",
    "dados['Price'] = dados['Price'].astype(float)\n",
    "dados['Id_Category'] = dados['Id_Category'].astype(int)"
   ]
  },
  {
   "cell_type": "code",
   "execution_count": 254,
   "metadata": {},
   "outputs": [
    {
     "name": "stdout",
     "output_type": "stream",
     "text": [
      "   id                  name   price  id_category\n",
      "0   0       Sapato vermelho    96.0            0\n",
      "1   1  Bolsa mais que Velha  8000.0            0\n",
      "2   2         Calça RASGADA    75.0            0\n",
      "3   3    Camisa apertadinha   170.0            0\n",
      "4   4   Vestido Super curto    57.0            0\n"
     ]
    }
   ],
   "source": [
    "# Renomear as colunas para nomes mais consistentes\n",
    "dados = dados.rename(columns={\n",
    "    'ID': 'id',\n",
    "    'Price': 'price',\n",
    "    'Id_Category': 'id_category',\n",
    "    'Name': 'name'\n",
    "})\n",
    "\n",
    "print(dados.head())"
   ]
  },
  {
   "cell_type": "code",
   "execution_count": 255,
   "metadata": {},
   "outputs": [],
   "source": [
    "# Remover registros nulos\n",
    "dados = dados.dropna()\n",
    "\n",
    "# Remover duplicatas pelo ID\n",
    "dados = dados.drop_duplicates(subset=['id'])"
   ]
  },
  {
   "cell_type": "code",
   "execution_count": 256,
   "metadata": {},
   "outputs": [
    {
     "name": "stdout",
     "output_type": "stream",
     "text": [
      "Tabela 'produtos' criada ou já existente.\n"
     ]
    }
   ],
   "source": [
    "# Criar tabela se caso não existir\n",
    "create_table_query = \"\"\"\n",
    "CREATE TABLE IF NOT EXISTS produtos (\n",
    "    id SERIAL PRIMARY KEY,\n",
    "    name VARCHAR(255),\n",
    "    price NUMERIC(10, 2),\n",
    "    id_category INTEGER\n",
    ");\n",
    "\"\"\"\n",
    "\n",
    "# Reinicie a conexão, se necessário\n",
    "conn.close()\n",
    "conn = psycopg2.connect(connection_string)\n",
    "\n",
    "try:\n",
    "    cursor = conn.cursor() # Continuar com o cursor\n",
    "    cursor.execute(create_table_query)\n",
    "    conn.commit() # Commit após inserir todos os dados\n",
    "    \n",
    "    print(\"Tabela 'produtos' criada ou já existente.\")\n",
    "except Exception as e:\n",
    "    print(\"Erro ao criar a tabela:\", e)\n",
    "    conn.rollback()"
   ]
  },
  {
   "cell_type": "code",
   "execution_count": 257,
   "metadata": {},
   "outputs": [],
   "source": [
    "# Executar sessão de apagar dados\n",
    "cursor.execute('TRUNCATE TABLE produtos')"
   ]
  },
  {
   "cell_type": "code",
   "execution_count": 258,
   "metadata": {},
   "outputs": [],
   "source": [
    "# Executar sessão de inserção dados na tabela\n",
    "insert_query = \"\"\"\n",
    "INSERT INTO produtos (\n",
    "    id, \n",
    "    name, \n",
    "    price, \n",
    "    id_category) VALUES (%s, %s, %s, %s)\n",
    "\"\"\""
   ]
  },
  {
   "cell_type": "code",
   "execution_count": 259,
   "metadata": {},
   "outputs": [
    {
     "name": "stdout",
     "output_type": "stream",
     "text": [
      "Dados inseridos com sucesso!\n"
     ]
    }
   ],
   "source": [
    "try:\n",
    "    # Verifique se a conexão está aberta\n",
    "    if conn.closed:\n",
    "        conn = psycopg2.connect(connection_string)\n",
    "        \n",
    "    cursor = conn.cursor() # Continuar com o cursor\n",
    "    \n",
    "    # Preparar os dados como uma lista de tuplas\n",
    "    data_to_insert = [\n",
    "        (row['id'], row['name'], row['price'], row['id_category'])\n",
    "        for index, row in dados.iterrows()\n",
    "    ]\n",
    "    \n",
    "    # Inserir os dados em massa\n",
    "    cursor.executemany(insert_query, data_to_insert) \n",
    "\n",
    "    conn.commit() # Commit após inserir todos os dados\n",
    "    print(\"Dados inseridos com sucesso!\")\n",
    "except Exception as e:\n",
    "    print(\"Erro ao inserir dados:\", e)\n",
    "    conn.rollback()  # Reverter alterações em caso de erro\n",
    "finally:\n",
    "    cursor.close() # Fecha o cursor\n",
    "    conn.close() # Fecha a conexão"
   ]
  }
 ],
 "metadata": {
  "kernelspec": {
   "display_name": "venv",
   "language": "python",
   "name": "python3"
  },
  "language_info": {
   "codemirror_mode": {
    "name": "ipython",
    "version": 3
   },
   "file_extension": ".py",
   "mimetype": "text/x-python",
   "name": "python",
   "nbconvert_exporter": "python",
   "pygments_lexer": "ipython3",
   "version": "3.12.3"
  }
 },
 "nbformat": 4,
 "nbformat_minor": 2
}
