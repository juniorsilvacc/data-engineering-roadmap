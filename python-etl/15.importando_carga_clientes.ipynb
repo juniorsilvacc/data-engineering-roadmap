{
 "cells": [
  {
   "cell_type": "code",
   "execution_count": 40,
   "metadata": {},
   "outputs": [],
   "source": [
    "import pandas as pd\n",
    "import psycopg2"
   ]
  },
  {
   "cell_type": "code",
   "execution_count": 41,
   "metadata": {},
   "outputs": [
    {
     "name": "stdout",
     "output_type": "stream",
     "text": [
      "Conexão bem-sucedida ao PostgreSQL!\n"
     ]
    }
   ],
   "source": [
    "server = 'localhost'\n",
    "database = 'python_etl'\n",
    "user = 'postgres'\n",
    "password = 'root'\n",
    "\n",
    "connection_string = f\"dbname={database} user={user} password={password} host={server}\"\n",
    "\n",
    "try:\n",
    "    conn = psycopg2.connect(connection_string)\n",
    "    print(\"Conexão bem-sucedida ao PostgreSQL!\")\n",
    "    \n",
    "    cursor = conn.cursor()\n",
    "except Exception as e:\n",
    "    print(\"Erro ao conectar ao PostgreSQL:\", e)"
   ]
  },
  {
   "cell_type": "code",
   "execution_count": 42,
   "metadata": {},
   "outputs": [],
   "source": [
    "dados = pd.read_csv(\"/home/juniorsilvadev/engenharia-dados/03-python-etl-do-basico-ao-avancado/Origem/Origem/arquivos_csv/Clientes.csv\", delimiter=',')"
   ]
  },
  {
   "cell_type": "code",
   "execution_count": 43,
   "metadata": {},
   "outputs": [],
   "source": [
    "# Converter a coluna 'created_at' para data e hora\n",
    "dados['created_at'] = pd.to_datetime(dados['created_at'])\n",
    "\n",
    "dados['email'] = dados['email'].fillna('Sem registro')\n",
    "dados['street'] = dados['street'].fillna('Sem infor')\n",
    "dados['number'] = dados['number'].fillna('Sem número')\n",
    "dados['additionals'] = dados['additionals'].fillna('Sem infor')"
   ]
  },
  {
   "cell_type": "code",
   "execution_count": 44,
   "metadata": {},
   "outputs": [
    {
     "data": {
      "text/plain": [
       "'Index([id, created_at, first_name, last_name, email, cell_phone,\\n       country, state, street, number, additionals],\\n      dtype=object)'"
      ]
     },
     "execution_count": 44,
     "metadata": {},
     "output_type": "execute_result"
    }
   ],
   "source": [
    "str(dados.columns).replace(\"'\", \"\")"
   ]
  },
  {
   "cell_type": "code",
   "execution_count": 45,
   "metadata": {},
   "outputs": [
    {
     "name": "stdout",
     "output_type": "stream",
     "text": [
      "Tabela 'ordens' criada com sucesso!\n"
     ]
    }
   ],
   "source": [
    "create_table_query = \"\"\"\n",
    "CREATE TABLE IF NOT EXISTS clientes (\n",
    "    id SERIAL PRIMARY KEY,\n",
    "    created_at TIMESTAMP,\n",
    "    first_name VARCHAR(255),\n",
    "    last_name VARCHAR(255),\n",
    "    email VARCHAR(255),\n",
    "    cell_phone VARCHAR(255),\n",
    "    country VARCHAR(255),\n",
    "    state VARCHAR(255),\n",
    "    street VARCHAR(255),\n",
    "    number VARCHAR(255),\n",
    "    additionals VARCHAR(255)\n",
    ");\n",
    "\"\"\"\n",
    "\n",
    "try:\n",
    "    cursor.execute(create_table_query)\n",
    "    conn.commit()\n",
    "    print(\"Tabela 'ordens' criada com sucesso!\")\n",
    "except Exception as e:\n",
    "    print(\"Erro ao criar a tabela 'categorias':\", e)\n",
    "    conn.rollback()"
   ]
  },
  {
   "cell_type": "code",
   "execution_count": 46,
   "metadata": {},
   "outputs": [],
   "source": [
    "cursor.execute(\"TRUNCATE TABLE clientes\")"
   ]
  },
  {
   "cell_type": "code",
   "execution_count": 47,
   "metadata": {},
   "outputs": [
    {
     "name": "stdout",
     "output_type": "stream",
     "text": [
      "Dados inseridos com sucesso!\n"
     ]
    }
   ],
   "source": [
    "insert_query = \"\"\"\n",
    "INSERT INTO clientes (id, created_at, first_name, last_name, email, cell_phone, country, state, street, number, additionals) \n",
    "VALUES (%s, %s, %s, %s, %s, %s, %s, %s, %s, %s, %s)\n",
    "\"\"\"\n",
    "\n",
    "try:\n",
    "    for index, row in dados.iterrows():\n",
    "        cursor.execute(insert_query, (\n",
    "            row['id'], \n",
    "            row['created_at'],\n",
    "            row['first_name'],\n",
    "            row['last_name'],\n",
    "            str(row['email']),\n",
    "            row['cell_phone'],\n",
    "            str(row['country']),\n",
    "            str(row['state']),\n",
    "            str(row['street']),\n",
    "            str(row['number']),\n",
    "            str(row['additionals']),\n",
    "        ))\n",
    "    \n",
    "    conn.commit()\n",
    "    print(\"Dados inseridos com sucesso!\")\n",
    "except Exception as e:\n",
    "    print(\"Erro ao inserir dados:\", e)\n",
    "    conn.rollback()\n",
    "finally:\n",
    "    cursor.close()\n",
    "    conn.close()"
   ]
  }
 ],
 "metadata": {
  "kernelspec": {
   "display_name": "venv",
   "language": "python",
   "name": "python3"
  },
  "language_info": {
   "codemirror_mode": {
    "name": "ipython",
    "version": 3
   },
   "file_extension": ".py",
   "mimetype": "text/x-python",
   "name": "python",
   "nbconvert_exporter": "python",
   "pygments_lexer": "ipython3",
   "version": "3.12.3"
  }
 },
 "nbformat": 4,
 "nbformat_minor": 2
}
