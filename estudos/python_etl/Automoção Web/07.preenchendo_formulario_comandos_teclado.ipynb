{
 "cells": [
  {
   "cell_type": "code",
   "execution_count": null,
   "metadata": {},
   "outputs": [],
   "source": [
    "\n",
    "from selenium import webdriver\n",
    "import chromedriver_autoinstaller\n",
    "from selenium.webdriver.common.by import By \n",
    "from time import sleep\n",
    "from selenium.webdriver.common.keys import Keys\n",
    "\n",
    "chromedriver_autoinstaller.install()# Instalação automática do ChromeDriver (commicação entre cod e navegador)\n",
    "\n",
    "from selenium.webdriver.common.action_chains import ActionChains # Ações de teclados no navegador\n",
    "import time                                                      # Data e Hora\n",
    "from datetime import datetime, timedelta                         # Calculo de diferença (data anterior)"
   ]
  },
  {
   "cell_type": "code",
   "execution_count": null,
   "metadata": {},
   "outputs": [],
   "source": [
    "# Inicializar o navegador Chrome\n",
    "navegador = webdriver.Chrome()\n",
    "Link = \"https://forms.gle/Qh3AzrNZTYrRYWQ79\"\n",
    "navegador.get(Link)"
   ]
  },
  {
   "cell_type": "code",
   "execution_count": null,
   "metadata": {},
   "outputs": [],
   "source": [
    "sleep(2)\n",
    "\n",
    "filtro1 =navegador.find_element(by=By.XPATH, value='//*[@id=\"i5\"]/div[3]/div').click()"
   ]
  },
  {
   "cell_type": "code",
   "execution_count": null,
   "metadata": {},
   "outputs": [],
   "source": [
    "acao = ActionChains(navegador)  # Ativar ações do teclado"
   ]
  },
  {
   "cell_type": "code",
   "execution_count": null,
   "metadata": {},
   "outputs": [],
   "source": [
    "# Pressiona a seta para baixo duas vezes para selecionar uma opção \n",
    "# Move o foco 2 vezes\n",
    "for x in range(2):\n",
    "    acao.send_keys(Keys.ARROW_DOWN).perform()\n",
    "    sleep(0.5)  # Pequena pausa entre cada movimentação\n",
    "\n",
    "# Pressiona ENTER para confirmar a seleção\n",
    "acao.send_keys(Keys.ENTER).perform()"
   ]
  },
  {
   "cell_type": "code",
   "execution_count": null,
   "metadata": {},
   "outputs": [],
   "source": [
    "filtro2= navegador.find_element(by=By.XPATH, value='//*[@id=\"mG61Hd\"]/div[2]/div/div[2]/div[2]/div/div/div[2]/div[1]/div[1]/label/div/div[2]/div/span').click()"
   ]
  },
  {
   "cell_type": "code",
   "execution_count": null,
   "metadata": {},
   "outputs": [],
   "source": [
    "# Pressiona a seta para baixo duas vezes para selecionar uma opção\n",
    "# Move o foco 3 vezes \n",
    "for y in range(3): \n",
    "    acao.send_keys(Keys.TAB).perform()\n",
    "    \n",
    "acao.send_keys(Keys.SPACE).perform() # Seleciona a opção atual\n",
    "\n",
    "acao.send_keys(Keys.TAB).perform()\n",
    "acao.send_keys(Keys.SPACE).perform() # Seleciona a próxima opção"
   ]
  },
  {
   "cell_type": "code",
   "execution_count": null,
   "metadata": {},
   "outputs": [],
   "source": [
    "dataAtualCompleto = datetime.now() # Formato americado banco de dados\n",
    "print(dataAtualCompleto)"
   ]
  },
  {
   "cell_type": "code",
   "execution_count": null,
   "metadata": {},
   "outputs": [],
   "source": [
    "dataAtualAmericado = datetime.now().strftime(\"%Y-%m-%d\") # Somente a data americado banco de dados\n",
    "print(dataAtualAmericado)"
   ]
  },
  {
   "cell_type": "code",
   "execution_count": null,
   "metadata": {},
   "outputs": [],
   "source": [
    "dataAtualPtBr = datetime.now().strftime(\"%d/%m/%Y\") # Data atual\n",
    "print(dataAtualPtBr) "
   ]
  },
  {
   "cell_type": "code",
   "execution_count": null,
   "metadata": {},
   "outputs": [],
   "source": [
    "dataFim = datetime.now().strftime(\"%d/%m/%Y\")\n",
    "dataInicio = (datetime.now() - timedelta(days=60)).strftime(\"%d/%m/%Y\") # DataAtual - 60 dias \n",
    "print(dataFim)\n",
    "print(dataInicio)"
   ]
  },
  {
   "cell_type": "code",
   "execution_count": null,
   "metadata": {},
   "outputs": [],
   "source": [
    "dataInicioFormulario = navegador.find_element(by=By.XPATH, value='//*[@id=\"mG61Hd\"]/div[2]/div/div[2]/div[3]/div/div/div[2]/div/div[1]/div/div[1]/input')\n",
    "dataInicioFormulario.send_keys(dataInicio)"
   ]
  },
  {
   "cell_type": "code",
   "execution_count": null,
   "metadata": {},
   "outputs": [],
   "source": [
    "dataFinalFormulario = navegador.find_element(by=By.XPATH, value='//*[@id=\"mG61Hd\"]/div[2]/div/div[2]/div[4]/div/div/div[2]/div/div[1]/div/div[1]/input')\n",
    "dataFinalFormulario.send_keys(dataFim)"
   ]
  },
  {
   "cell_type": "code",
   "execution_count": null,
   "metadata": {},
   "outputs": [],
   "source": [
    "op3 = navegador.find_element(by=By.XPATH, value='//*[@id=\"mG61Hd\"]/div[2]/div/div[2]/div[5]/div/div/div[2]/div/div[1]/div/div[2]/label[1]').click()"
   ]
  },
  {
   "cell_type": "code",
   "execution_count": null,
   "metadata": {},
   "outputs": [],
   "source": [
    "acao.send_keys(Keys.SPACE).perform()\n",
    "acao.send_keys(Keys.TAB).perform()\n",
    "acao.send_keys(Keys.TAB).perform()\n",
    "acao.send_keys(Keys.SPACE).perform()"
   ]
  },
  {
   "cell_type": "code",
   "execution_count": null,
   "metadata": {},
   "outputs": [],
   "source": [
    "for opTab in range(5):\n",
    "    acao.send_keys(Keys.TAB).perform()\n",
    "acao.send_keys(Keys.SPACE).perform()"
   ]
  },
  {
   "cell_type": "code",
   "execution_count": null,
   "metadata": {},
   "outputs": [],
   "source": [
    "for opTabn in range(7):\n",
    "    acao.send_keys(Keys.TAB).perform()\n",
    "acao.send_keys(Keys.SPACE).perform()"
   ]
  },
  {
   "cell_type": "code",
   "execution_count": null,
   "metadata": {},
   "outputs": [],
   "source": [
    "op4 = navegador.find_element(by=By.XPATH, value='//*[@id=\"mG61Hd\"]/div[2]/div/div[2]/div[6]/div/div/div[2]/div/div[1]/div[1]/div[1]/span').click()\n",
    "\n",
    "sleep(3)\n",
    "for cv in range(3):\n",
    "    acao.send_keys(Keys.ARROW_DOWN).perform()\n",
    "\n",
    "sleep(2)\n",
    "acao.send_keys(Keys.ENTER).perform()\n"
   ]
  },
  {
   "cell_type": "code",
   "execution_count": null,
   "metadata": {},
   "outputs": [],
   "source": [
    "# Mudar para a nova guia\n",
    "navegador.switch_to.window(navegador.window_handles[-1])"
   ]
  }
 ],
 "metadata": {
  "language_info": {
   "name": "python"
  }
 },
 "nbformat": 4,
 "nbformat_minor": 2
}
