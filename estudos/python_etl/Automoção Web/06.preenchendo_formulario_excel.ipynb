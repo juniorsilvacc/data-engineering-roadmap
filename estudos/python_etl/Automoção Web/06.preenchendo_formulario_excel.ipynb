{
 "cells": [
  {
   "cell_type": "code",
   "execution_count": null,
   "metadata": {},
   "outputs": [],
   "source": [
    "from selenium import webdriver\n",
    "import chromedriver_autoinstaller\n",
    "from selenium.webdriver.common.by import By \n",
    "from time import sleep\n",
    "from selenium.webdriver.common.keys import Keys\n",
    "\n",
    "# Instalação automática do ChromeDriver (commicação entre cod e navegador)\n",
    "chromedriver_autoinstaller.install()"
   ]
  },
  {
   "cell_type": "code",
   "execution_count": null,
   "metadata": {},
   "outputs": [],
   "source": [
    "# Inicializar o navegador Chrome\n",
    "navegador = webdriver.Chrome()\n",
    "link = \"https://forms.gle/sG2dD6N6cgGyqKso7\"\n",
    "navegador.get(link)"
   ]
  },
  {
   "cell_type": "code",
   "execution_count": null,
   "metadata": {},
   "outputs": [],
   "source": [
    "import pandas as pd"
   ]
  },
  {
   "cell_type": "code",
   "execution_count": null,
   "metadata": {},
   "outputs": [],
   "source": [
    "Clientes = pd.read_excel(r\"C:\\Users\\junio\\OneDrive\\Área de Trabalho\\Python - arquivos\\Arquivos\\Origem\\Web\\Clientes.xlsx\")\n",
    "Clientes.head(5)"
   ]
  },
  {
   "cell_type": "code",
   "execution_count": null,
   "metadata": {},
   "outputs": [],
   "source": [
    "\n",
    "for index, row in Clientes.iterrows():  # index = indice identifica cada linha do nosso DF row = linha de cada passo \n",
    "    NomeOrigem =        row['Nome']\n",
    "    SobrenomeOrigem =   row['Sobrenome']\n",
    "    emailOrigem =       row['email']\n",
    "    CelularOrigem =     row['Celular']\n",
    "    EstadoOrigem =      row['Estado']\n",
    "    RuaOrigem =         row['Rua']\n",
    "    numeroOrigem =      row['numero']\n",
    "    additionalsOrigem = row['additionals']\n",
    "    \n",
    "    # Prenchimento automatico\n",
    "    sleep(3)\n",
    "    nome =      navegador.find_element(by= By.XPATH,value='//*[@id=\"mG61Hd\"]/div[2]/div/div[2]/div[1]/div/div/div[2]/div/div[1]/div/div[1]/input').send_keys(NomeOrigem)\n",
    "    Sobrenome = navegador.find_element(by= By.XPATH,value='//*[@id=\"mG61Hd\"]/div[2]/div/div[2]/div[2]/div/div/div[2]/div/div[1]/div/div[1]/input').send_keys(SobrenomeOrigem)\n",
    "    Email =     navegador.find_element(by= By.XPATH,value='//*[@id=\"mG61Hd\"]/div[2]/div/div[2]/div[3]/div/div/div[2]/div/div[1]/div/div[1]/input').send_keys(emailOrigem)\n",
    "    Celular =   navegador.find_element(by= By.XPATH,value='//*[@id=\"mG61Hd\"]/div[2]/div/div[2]/div[4]/div/div/div[2]/div/div[1]/div/div[1]/input').send_keys(CelularOrigem)\n",
    "    Estado =    navegador.find_element(by= By.XPATH,value='//*[@id=\"mG61Hd\"]/div[2]/div/div[2]/div[5]/div/div/div[2]/div/div[1]/div/div[1]/input').send_keys(EstadoOrigem)\n",
    "    Rua =       navegador.find_element(by= By.XPATH,value='//*[@id=\"mG61Hd\"]/div[2]/div/div[2]/div[6]/div/div/div[2]/div/div[1]/div/div[1]/input').send_keys(RuaOrigem)\n",
    "    numero =    navegador.find_element(by= By.XPATH,value='//*[@id=\"mG61Hd\"]/div[2]/div/div[2]/div[7]/div/div/div[2]/div/div[1]/div/div[1]/input').send_keys(str(numeroOrigem))\n",
    "    Adicional = navegador.find_element(by= By.XPATH,value='//*[@id=\"mG61Hd\"]/div[2]/div/div[2]/div[8]/div/div/div[2]/div/div[1]/div/div[1]/input').send_keys(additionalsOrigem)\n",
    "    Enviar =    navegador.find_element(by= By.XPATH,value='//*[@id=\"mG61Hd\"]/div[2]/div/div[3]/div[1]/div[1]/div/span/span').click()\n",
    "    sleep(2)\n",
    "    navegador.get(link)\n",
    "    \n",
    "navegador.quit()"
   ]
  }
 ],
 "metadata": {
  "language_info": {
   "name": "python"
  }
 },
 "nbformat": 4,
 "nbformat_minor": 2
}
