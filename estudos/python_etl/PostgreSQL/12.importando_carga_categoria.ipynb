{
 "cells": [
  {
   "cell_type": "code",
   "execution_count": 3,
   "metadata": {},
   "outputs": [],
   "source": [
    "import pandas as pd\n",
    "import psycopg2"
   ]
  },
  {
   "cell_type": "code",
   "execution_count": 4,
   "metadata": {},
   "outputs": [
    {
     "name": "stdout",
     "output_type": "stream",
     "text": [
      "Conexão bem-sucedida ao PostgreSQL!\n"
     ]
    }
   ],
   "source": [
    "server = 'localhost'\n",
    "database = 'python_etl'\n",
    "user = 'postgres'\n",
    "password = 'root'\n",
    "\n",
    "connection_string = f\"dbname={database} user={user} password={password} host={server}\"\n",
    "\n",
    "try:\n",
    "    conn = psycopg2.connect(connection_string)\n",
    "    print(\"Conexão bem-sucedida ao PostgreSQL!\")\n",
    "    \n",
    "    cursor = conn.cursor()\n",
    "except Exception as e:\n",
    "    print(\"Erro ao conectar ao PostgreSQL:\", e)"
   ]
  },
  {
   "cell_type": "code",
   "execution_count": 5,
   "metadata": {},
   "outputs": [],
   "source": [
    "dados = pd.read_excel(\"/home/juniorsilvadev/engenharia-dados/python-etl/Arquivos Excel/arquivos_excel/Categoria.xlsx\")"
   ]
  },
  {
   "cell_type": "code",
   "execution_count": 6,
   "metadata": {},
   "outputs": [
    {
     "data": {
      "text/plain": [
       "'Index([id, name], dtype=object)'"
      ]
     },
     "execution_count": 6,
     "metadata": {},
     "output_type": "execute_result"
    }
   ],
   "source": [
    "str(dados.columns).replace(\"'\", \"\")"
   ]
  },
  {
   "cell_type": "code",
   "execution_count": 7,
   "metadata": {},
   "outputs": [
    {
     "name": "stdout",
     "output_type": "stream",
     "text": [
      "Tabela 'categorias' criada com sucesso!\n"
     ]
    }
   ],
   "source": [
    "create_table_query = \"\"\"\n",
    "CREATE TABLE IF NOT EXISTS categorias (\n",
    "    id SERIAL PRIMARY KEY,\n",
    "    name VARCHAR(255)\n",
    ");\n",
    "\"\"\"\n",
    "\n",
    "try:\n",
    "    cursor.execute(create_table_query)\n",
    "    conn.commit()\n",
    "    print(\"Tabela 'categorias' criada com sucesso!\")\n",
    "except Exception as e:\n",
    "    print(\"Erro ao criar a tabela 'categorias':\", e)\n",
    "    conn.rollback()"
   ]
  },
  {
   "cell_type": "code",
   "execution_count": 8,
   "metadata": {},
   "outputs": [],
   "source": [
    "cursor.execute(\"TRUNCATE TABLE categorias\")"
   ]
  },
  {
   "cell_type": "code",
   "execution_count": 9,
   "metadata": {},
   "outputs": [
    {
     "name": "stdout",
     "output_type": "stream",
     "text": [
      "Dados inseridos com sucesso!\n"
     ]
    }
   ],
   "source": [
    "insert_query = \"\"\"\n",
    "INSERT INTO categorias (id, name) \n",
    "VALUES (%s, %s)\n",
    "\"\"\"\n",
    "\n",
    "try:\n",
    "    for index, row in dados.iterrows():\n",
    "        cursor.execute(insert_query, (row['id'], row['name']))\n",
    "    \n",
    "    conn.commit()\n",
    "    print(\"Dados inseridos com sucesso!\")\n",
    "except Exception as e:\n",
    "    print(\"Erro ao inserir dados:\", e)\n",
    "    conn.rollback()\n",
    "finally:\n",
    "    cursor.close()\n",
    "    conn.close()"
   ]
  }
 ],
 "metadata": {
  "kernelspec": {
   "display_name": ".venv",
   "language": "python",
   "name": "python3"
  },
  "language_info": {
   "codemirror_mode": {
    "name": "ipython",
    "version": 3
   },
   "file_extension": ".py",
   "mimetype": "text/x-python",
   "name": "python",
   "nbconvert_exporter": "python",
   "pygments_lexer": "ipython3",
   "version": "3.12.3"
  }
 },
 "nbformat": 4,
 "nbformat_minor": 2
}
