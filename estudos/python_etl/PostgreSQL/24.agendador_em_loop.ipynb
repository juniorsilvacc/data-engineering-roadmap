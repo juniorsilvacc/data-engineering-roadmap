{
 "cells": [
  {
   "cell_type": "code",
   "execution_count": null,
   "metadata": {},
   "outputs": [],
   "source": [
    "# pip install schedule\n",
    "# pip install -- upgrade schedule"
   ]
  },
  {
   "cell_type": "code",
   "execution_count": null,
   "metadata": {},
   "outputs": [],
   "source": [
    "import schedule  # Importa agendamento de tarefas\n",
    "import time  # Importa a biblioteca 'time' para pausas de tempo\n",
    "\n",
    "\n",
    "def job():                      # def = uma função depois de o nome dessa função\n",
    "    print(\"estou funcionando\")  # Imprime uma mensagem indicando (Trocar pelo seu script)\n",
    "    \n",
    "# Agendando tarefas com diferentes intervalos e horários\n",
    "schedule.every(10).minutes.do(job)                              # Executa a cada 10 minutos\n",
    "schedule.every().hour.do(job)                                   # Executa a cada hora\n",
    "schedule.every().day.at(\"10:30\").do(job)                        # Executa diariamente às 10:30\n",
    "schedule.every().monday.do(job)                                 # Executa toda segunda-feira\n",
    "schedule.every().wednesday.at(\"13:15\").do(job)                  # Executa toda quarta-feira às 13:15\n",
    "schedule.every().day.at(\"12:42\", \"Europe/Amsterdam\").do(job)    # Executa diariamente às 12:42 (usando fuso horário Europe/Amsterdam)\n",
    "schedule.every().day.at(\"12:42\").do(job)                        # Executa diariamente às 12:42 (usando fuso horário Seu PC)\n",
    "schedule.every().minute.at(\":17\").do(job)                       # Executa' a cada minuto quando o segundo é 17\n",
    "\n",
    "# Executar as tarefas agendadas em um loop contínuo\n",
    "\n",
    "while True: # loop contínuo\n",
    "    schedule.run_pending()  # Executa tarefas agendadas que estão prontas para serem executadas\n",
    "    time.sleep(1)  # Pausa por 1 segundo antes de verificar novamente as tarefas agendadas(em segundos )\n"
   ]
  },
  {
   "cell_type": "code",
   "execution_count": null,
   "metadata": {},
   "outputs": [],
   "source": [
    "schedule.clear()  # limpar todas as jobs\n",
    "## intenroperno CMD ou Terminal \n",
    "# Ctrl + \\\n",
    "# Ctrl + C"
   ]
  },
  {
   "cell_type": "markdown",
   "metadata": {},
   "source": [
    "Exemplo Prático"
   ]
  },
  {
   "cell_type": "code",
   "execution_count": null,
   "metadata": {},
   "outputs": [],
   "source": [
    "import schedule  \n",
    "import time  \n",
    "\n",
    "def job():                      # def = uma função depois de o nome dessa função\n",
    "    print(\"Estou funcionando teste Final\")  # Colar meu script dando a identação (Tab)\n",
    "    \n",
    "    \n",
    "schedule.every(1).seconds.do(job)  # Executa a cada 1 segundo\n",
    "\n",
    "while True: # loop contínuo\n",
    "    schedule.run_pending()  # Executa tarefas agendadas que estão prontas para serem executadas\n",
    "    time.sleep(1)  # Pausa por 1 segundo antes de verificar novamente as tarefas agendadas     \n",
    "    "
   ]
  },
  {
   "cell_type": "code",
   "execution_count": null,
   "metadata": {},
   "outputs": [],
   "source": [
    "schedule.clear()  # limpar todas as jobs"
   ]
  },
  {
   "cell_type": "markdown",
   "metadata": {},
   "source": [
    "Exemplo"
   ]
  },
  {
   "cell_type": "code",
   "execution_count": null,
   "metadata": {},
   "outputs": [
    {
     "name": "stdout",
     "output_type": "stream",
     "text": [
      "Conexão bem-sucedida ao PostgreSQL!\n",
      "Carga concluída com sucesso!\n",
      "Conexão bem-sucedida ao PostgreSQL!\n",
      "Erro ao carregar os dados: there is no unique or exclusion constraint matching the ON CONFLICT specification\n",
      "\n",
      "Conexão bem-sucedida ao PostgreSQL!\n",
      "Carga concluída com sucesso!\n",
      "Conexão bem-sucedida ao PostgreSQL!\n",
      "Carga concluída com sucesso!\n",
      "Conexão bem-sucedida ao PostgreSQL!\n",
      "Carga concluída com sucesso!\n",
      "Conexão bem-sucedida ao PostgreSQL!\n",
      "Erro ao carregar os dados: there is no unique or exclusion constraint matching the ON CONFLICT specification\n",
      "\n",
      "Conexão bem-sucedida ao PostgreSQL!\n",
      "Carga concluída com sucesso!\n"
     ]
    },
    {
     "ename": "KeyboardInterrupt",
     "evalue": "",
     "output_type": "error",
     "traceback": [
      "\u001b[31m---------------------------------------------------------------------------\u001b[39m",
      "\u001b[31mKeyboardInterrupt\u001b[39m                         Traceback (most recent call last)",
      "\u001b[36mCell\u001b[39m\u001b[36m \u001b[39m\u001b[32mIn[4]\u001b[39m\u001b[32m, line 53\u001b[39m\n\u001b[32m     51\u001b[39m \u001b[38;5;28;01mwhile\u001b[39;00m \u001b[38;5;28;01mTrue\u001b[39;00m:\n\u001b[32m     52\u001b[39m     schedule.run_pending()  \u001b[38;5;66;03m# Executa tarefas agendadas que estão prontas para serem executadas\u001b[39;00m\n\u001b[32m---> \u001b[39m\u001b[32m53\u001b[39m     \u001b[43mtime\u001b[49m\u001b[43m.\u001b[49m\u001b[43msleep\u001b[49m\u001b[43m(\u001b[49m\u001b[32;43m1\u001b[39;49m\u001b[43m)\u001b[49m\n",
      "\u001b[31mKeyboardInterrupt\u001b[39m: "
     ]
    }
   ],
   "source": [
    "import schedule  \n",
    "import time  \n",
    "import pandas as pd\n",
    "import psycopg2\n",
    "\n",
    "def job():\n",
    "    server = 'localhost'\n",
    "    database = 'python_etl'\n",
    "    user = 'postgres'\n",
    "    password = 'root'\n",
    "\n",
    "    connection_string = f\"dbname={database} user={user} password={password} host={server}\"\n",
    "    \n",
    "    try:\n",
    "        conn = psycopg2.connect(connection_string)\n",
    "        cursor = conn.cursor()\n",
    "        \n",
    "        print(\"Conexão bem-sucedida ao PostgreSQL!\")\n",
    "    except Exception as e:\n",
    "        print(\"Erro ao conectar ao PostgreSQL:\", e)\n",
    "        return\n",
    "        \n",
    "    # -----------------------------\n",
    "\n",
    "    try:\n",
    "        # Carrega os dados do Excel\n",
    "        dados = pd.read_excel(\"/home/juniorsilvadev/engenharia-dados/python-etl/Arquivos Excel/arquivos_excel/Categoria.xlsx\")\n",
    "        \n",
    "        # Garante que as colunas são minúsculas e sem espaços extras\n",
    "        dados.columns = dados.columns.str.strip().str.lower()\n",
    "        \n",
    "        if 'id' not in dados.columns or 'name' not in dados.columns:\n",
    "            print(\"Erro: As colunas esperadas não foram encontradas no arquivo\")\n",
    "            return\n",
    "\n",
    "        # faz carga no banco de dados\n",
    "        for index, row in dados.iterrows():\n",
    "            cursor.execute(\"INSERT INTO categorias (id, name) VALUES (%s, %s)\", (row['id'], row['name']))\n",
    "            \n",
    "        conn.commit()\n",
    "        print(\"Carga concluída com sucesso!\")\n",
    "        \n",
    "    except Exception as e:\n",
    "        print(\"Erro ao carregar os dados:\", e)\n",
    "    finally:\n",
    "        cursor.close()\n",
    "        conn.close()\n",
    "\n",
    "\n",
    "schedule.every(10).seconds.do(job) # Agendar a função para rodar a cada 10 segundos (PARA TESTE)\n",
    "\n",
    "while True:\n",
    "    schedule.run_pending() # Executa tarefas agendadas que estão prontas para serem executadas\n",
    "    time.sleep(1)"
   ]
  }
 ],
 "metadata": {
  "kernelspec": {
   "display_name": ".venv",
   "language": "python",
   "name": "python3"
  },
  "language_info": {
   "codemirror_mode": {
    "name": "ipython",
    "version": 3
   },
   "file_extension": ".py",
   "mimetype": "text/x-python",
   "name": "python",
   "nbconvert_exporter": "python",
   "pygments_lexer": "ipython3",
   "version": "3.12.3"
  }
 },
 "nbformat": 4,
 "nbformat_minor": 2
}
