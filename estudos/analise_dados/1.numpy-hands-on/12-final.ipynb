{
 "cells": [
  {
   "cell_type": "code",
   "execution_count": 2,
   "id": "7a395c56",
   "metadata": {},
   "outputs": [],
   "source": [
    "import numpy as np"
   ]
  },
  {
   "cell_type": "code",
   "execution_count": null,
   "id": "4e778cc0",
   "metadata": {},
   "outputs": [],
   "source": [
    "# Criando os Dados\n",
    "nomes = np.array(['Alice', 'Bob', 'Sam', 'Jean', 'Castiel'])\n",
    "notas_matematicas = np.array([55, 67, 78, 90, 42])\n",
    "notas_fisica = np.array([89, 77, 60, 45, 70])"
   ]
  },
  {
   "cell_type": "code",
   "execution_count": null,
   "id": "3539a3ce",
   "metadata": {},
   "outputs": [
    {
     "data": {
      "text/plain": [
       "array([72. , 72. , 69. , 67.5, 56. ])"
      ]
     },
     "execution_count": 4,
     "metadata": {},
     "output_type": "execute_result"
    }
   ],
   "source": [
    "# Calculando média das notas\n",
    "media = np.mean(np.column_stack((notas_matematicas, notas_fisica)), axis=1)\n",
    "media"
   ]
  },
  {
   "cell_type": "code",
   "execution_count": 6,
   "id": "362aafc2",
   "metadata": {},
   "outputs": [
    {
     "data": {
      "text/plain": [
       "(array([0, 1]),)"
      ]
     },
     "execution_count": 6,
     "metadata": {},
     "output_type": "execute_result"
    }
   ],
   "source": [
    "# Identificando alunos aprovados\n",
    "alunos_aprovados = np.where(media > 70)\n",
    "alunos_aprovados"
   ]
  },
  {
   "cell_type": "code",
   "execution_count": null,
   "id": "98428367",
   "metadata": {},
   "outputs": [
    {
     "data": {
      "text/plain": [
       "array([['Alice', '55', '89', '72.0'],\n",
       "       ['Bob', '67', '77', '72.0'],\n",
       "       ['Sam', '78', '60', '69.0'],\n",
       "       ['Jean', '90', '45', '67.5'],\n",
       "       ['Castiel', '42', '70', '56.0']], dtype='<U32')"
      ]
     },
     "execution_count": 7,
     "metadata": {},
     "output_type": "execute_result"
    }
   ],
   "source": [
    "# Organizando os dados em uma tabela\n",
    "dados_tabela = np.column_stack((nomes, notas_matematicas, notas_fisica, media))\n",
    "dados_tabela"
   ]
  },
  {
   "cell_type": "code",
   "execution_count": null,
   "id": "fa4366ae",
   "metadata": {},
   "outputs": [
    {
     "name": "stdout",
     "output_type": "stream",
     "text": [
      "Alice - Média 72.00\n",
      "Bob - Média 72.00\n"
     ]
    }
   ],
   "source": [
    "# Exibindo alunos aprovados\n",
    "for i in alunos_aprovados[0]:\n",
    "    print(f'{dados_tabela[i][0]} - Média {media[i]:.2f}')"
   ]
  },
  {
   "cell_type": "code",
   "execution_count": null,
   "id": "7483fc75",
   "metadata": {},
   "outputs": [
    {
     "name": "stdout",
     "output_type": "stream",
     "text": [
      "Grupo 1\n",
      "Grupo 2\n",
      "Grupo 3\n"
     ]
    }
   ],
   "source": [
    "# Dividindo alunos em grupos\n",
    "grupos = np.array_split(nomes, 3)\n",
    "for i, value in enumerate(grupos):\n",
    "    print(f'Grupo {i+1}: {value}')"
   ]
  }
 ],
 "metadata": {
  "kernelspec": {
   "display_name": "Python (venv)",
   "language": "python",
   "name": "venv"
  },
  "language_info": {
   "codemirror_mode": {
    "name": "ipython",
    "version": 3
   },
   "file_extension": ".py",
   "mimetype": "text/x-python",
   "name": "python",
   "nbconvert_exporter": "python",
   "pygments_lexer": "ipython3",
   "version": "3.12.3"
  }
 },
 "nbformat": 4,
 "nbformat_minor": 5
}
