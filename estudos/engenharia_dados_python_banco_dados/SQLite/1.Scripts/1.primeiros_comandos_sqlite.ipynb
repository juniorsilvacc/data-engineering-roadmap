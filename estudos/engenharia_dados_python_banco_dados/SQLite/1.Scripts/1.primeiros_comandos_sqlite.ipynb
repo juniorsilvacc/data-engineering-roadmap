{
 "cells": [
  {
   "cell_type": "code",
   "execution_count": 3,
   "id": "0b5de64a",
   "metadata": {},
   "outputs": [
    {
     "name": "stdout",
     "output_type": "stream",
     "text": [
      "[(3, 'Camisa', 102.5)]\n"
     ]
    }
   ],
   "source": [
    "import sqlite3\n",
    "\n",
    "con = sqlite3.connect(\"tutorial.db\")\n",
    "cursor = con.cursor()\n",
    "\n",
    "cursor.execute(\n",
    "    \"\"\"\n",
    "        CREATE TABLE produtos (id, nome, valor)\n",
    "    \"\"\"\n",
    ") # Criar tabela\n",
    "\n",
    "cursor.execute (\n",
    "    \"\"\"\n",
    "        INSERT INTO  produtos (id, nome, valor) \n",
    "            VALUES\n",
    "        (3, 'Camisa', 102.50)\n",
    "    \"\"\"\n",
    ") # Inserir dadods\n",
    "\n",
    "cursor.execute(\n",
    "    \"\"\"\n",
    "        SELECT * FROM produtos\n",
    "    \"\"\"\n",
    ") # Consultas\n",
    "\n",
    "print(cursor.fetchall())\n",
    "\n",
    "con.commit()\n",
    "con.close()"
   ]
  },
  {
   "cell_type": "code",
   "execution_count": null,
   "id": "5e96fc34",
   "metadata": {},
   "outputs": [
    {
     "data": {
      "text/html": [
       "<div>\n",
       "<style scoped>\n",
       "    .dataframe tbody tr th:only-of-type {\n",
       "        vertical-align: middle;\n",
       "    }\n",
       "\n",
       "    .dataframe tbody tr th {\n",
       "        vertical-align: top;\n",
       "    }\n",
       "\n",
       "    .dataframe thead th {\n",
       "        text-align: right;\n",
       "    }\n",
       "</style>\n",
       "<table border=\"1\" class=\"dataframe\">\n",
       "  <thead>\n",
       "    <tr style=\"text-align: right;\">\n",
       "      <th></th>\n",
       "      <th>id</th>\n",
       "      <th>nome</th>\n",
       "      <th>valor</th>\n",
       "    </tr>\n",
       "  </thead>\n",
       "  <tbody>\n",
       "    <tr>\n",
       "      <th>0</th>\n",
       "      <td>3</td>\n",
       "      <td>Camisa</td>\n",
       "      <td>102.5</td>\n",
       "    </tr>\n",
       "  </tbody>\n",
       "</table>\n",
       "</div>"
      ],
      "text/plain": [
       "   id    nome  valor\n",
       "0   3  Camisa  102.5"
      ]
     },
     "execution_count": 5,
     "metadata": {},
     "output_type": "execute_result"
    }
   ],
   "source": [
    "import sqlite3\n",
    "import pandas as pd\n",
    "\n",
    "con = sqlite3.connect(\"tutorial.db\")\n",
    "\n",
    "query = \"\"\"\n",
    "        SELECT * FROM produtos\n",
    "    \"\"\"\n",
    "\n",
    "df = pd.read_sql(query, con)\n",
    "\n",
    "con.close()\n",
    "df.head()"
   ]
  }
 ],
 "metadata": {
  "kernelspec": {
   "display_name": "venv",
   "language": "python",
   "name": "python3"
  },
  "language_info": {
   "codemirror_mode": {
    "name": "ipython",
    "version": 3
   },
   "file_extension": ".py",
   "mimetype": "text/x-python",
   "name": "python",
   "nbconvert_exporter": "python",
   "pygments_lexer": "ipython3",
   "version": "3.13.3"
  }
 },
 "nbformat": 4,
 "nbformat_minor": 5
}
