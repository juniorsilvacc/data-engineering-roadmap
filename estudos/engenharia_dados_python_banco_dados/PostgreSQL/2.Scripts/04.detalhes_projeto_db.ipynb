{
 "cells": [
  {
   "cell_type": "markdown",
   "metadata": {},
   "source": [
    "Projeto inserindo dados Json da Anac em banco postgree\n",
    "\n",
    "Passos do projeto:\n",
    "\n",
    "1°: importar json como DF \n",
    "\n",
    "2°: Tratar os dados levar apenas colunas [\"Numero_da_Ocorrencia\", \"Classificacao_da_Ocorrência\", \"Data_da_Ocorrencia\",\"Municipio\",\"UF\",\"Regiao\",\"Nome_do_Fabricante\"]\n",
    "\n",
    "3°: Tirar acento de nomes de colunas\n",
    "\n",
    "4°: Criar Banco de Dados e Tabela \n",
    "\n",
    "5°: Configurar a conexão \n",
    "\n",
    "6°: Enviar dados para o Postgree\n",
    "\n",
    "7°: Criar um Delete da tabela para nao ter histórico , mantendo em banco sempre os dados mais rescentes \n",
    "\n",
    "8°: Refaturar código (apagar o que nao vai usar)\n",
    "\n",
    "9°: Nas Aulas estamos treinando com arquivo script estensão Ipynb (notebook)  vamos salvar como extensão PY"
   ]
  }
 ],
 "metadata": {
  "language_info": {
   "name": "python"
  }
 },
 "nbformat": 4,
 "nbformat_minor": 2
}
