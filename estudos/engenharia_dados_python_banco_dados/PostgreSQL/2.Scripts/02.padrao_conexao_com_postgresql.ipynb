{
 "cells": [
  {
   "cell_type": "markdown",
   "metadata": {},
   "source": [
    "##### Documentação \n",
    "https://www.psycopg.org/docs/\n",
    "\n",
    "https://www.postgresql.org/docs/current/plpython.html"
   ]
  },
  {
   "cell_type": "code",
   "execution_count": null,
   "metadata": {},
   "outputs": [
    {
     "name": "stdout",
     "output_type": "stream",
     "text": [
      "Conexão bem-sucedida ao PostgreSQL!\n"
     ]
    }
   ],
   "source": [
    "import psycopg2\n",
    "\n",
    "# Parâmetros de conexão\n",
    "dbname   = 'postgres'\n",
    "user     = 'postgres'\n",
    "password = 'root'\n",
    "host     = 'localhost'\n",
    "port     = '5432'\n",
    "\n",
    "try:\n",
    "    # Criar uma conexão\n",
    "    conn = psycopg2.connect(dbname=dbname,\n",
    "                            user=user,\n",
    "                            password=password,\n",
    "                            host=host,\n",
    "                            port=port)\n",
    "\n",
    "    cur = conn.cursor() # Criar um cursor deixa manipular os dados\n",
    "    print(\"Conexão bem-sucedida ao PostgreSQL!\")\n",
    "    \n",
    "    conn.commit() # Validar alterações que agente fez e subir para o banco de dados \n",
    "except Exception as e:\n",
    "    print('Error ao conectar com banco de dados:', e)\n",
    "    \n",
    "# Fechar o cursor e a conexão\n",
    "cur.close()\n",
    "conn.close()"
   ]
  }
 ],
 "metadata": {
  "kernelspec": {
   "display_name": "venv",
   "language": "python",
   "name": "python3"
  },
  "language_info": {
   "codemirror_mode": {
    "name": "ipython",
    "version": 3
   },
   "file_extension": ".py",
   "mimetype": "text/x-python",
   "name": "python",
   "nbconvert_exporter": "python",
   "pygments_lexer": "ipython3",
   "version": "3.12.3"
  }
 },
 "nbformat": 4,
 "nbformat_minor": 2
}
