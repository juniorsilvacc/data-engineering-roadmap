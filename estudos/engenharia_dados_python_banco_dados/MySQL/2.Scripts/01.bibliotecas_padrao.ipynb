{
 "cells": [
  {
   "cell_type": "markdown",
   "metadata": {},
   "source": [
    "Ducumentação\n",
    "\n",
    "https://dev.mysql.com/doc/connector-python/en/connector-python-installation.html"
   ]
  },
  {
   "cell_type": "code",
   "execution_count": null,
   "metadata": {},
   "outputs": [],
   "source": [
    "\"\"\"\n",
    "source venv\\bin\\activate\n",
    "\n",
    "pip install mysql-connector-python              # Conexão com banco de dados MySQL\n",
    "pip install mysql-connector-python --upgrade    # upgrade\n",
    "pip install openpyxl                            # Trabalhar com arquivo Excel\n",
    "pip install pandas                              # Manipulação e análise de dados (DF)\n",
    "\n",
    "para upgrade \n",
    "pip install --upgrade pandas\n",
    "\"\"\""
   ]
  }
 ],
 "metadata": {
  "language_info": {
   "name": "python"
  }
 },
 "nbformat": 4,
 "nbformat_minor": 2
}
