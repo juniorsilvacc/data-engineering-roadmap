{
 "cells": [
  {
   "cell_type": "code",
   "execution_count": null,
   "id": "969a6a3d",
   "metadata": {},
   "outputs": [],
   "source": [
    "import mysql.connector\n",
    "import pandas as pd\n",
    "\n",
    "def carga_categorias(df_categorias):\n",
    "    conexao = mysql.connector.connect(user='root', password='root', host='localhost', database='python')\n",
    "    cursor = conexao.cursor()\n",
    "\n",
    "    try:\n",
    "        cursor.execute(\"DELETE FROM python.categories\")\n",
    "        conexao.commit()\n",
    "\n",
    "        for _, df_line in df_categorias.iterrows():\n",
    "            category_id = df_line['category_id']\n",
    "            category_name = df_line['category_name']\n",
    "\n",
    "            cursor.execute(\"SELECT category_id FROM python.categories WHERE category_id = %s\", (category_id,))\n",
    "            result = cursor.fetchone() is not None\n",
    "\n",
    "            if not result:\n",
    "                comando = \"\"\"\n",
    "                    INSERT INTO python.categories (category_id, category_name) VALUES (%s, %s)\n",
    "                \"\"\"\n",
    "                valores = (category_id, category_name)\n",
    "                cursor.execute(comando, valores)\n",
    "            else:\n",
    "                print(f\"A categoria com ID {category_id} já existe, ignorando inserção.\")\n",
    "        \n",
    "        conexao.commit()\n",
    "\n",
    "    except Exception as e:\n",
    "        conexao.rollback()\n",
    "        print(f\"Erro durante a inserção: {e}\")\n",
    "    finally:\n",
    "        cursor.close()\n",
    "        conexao.close()\n",
    "\n",
    "df_categorias = pd.read_csv('/Users/juniorsilva/develop/data/estudos-engenharia-dados/engenharia-dados-com-python-e-banco-de-dados/MySQL/4.Arquivos-CSV/categories.csv', sep=',')\n",
    "\n",
    "# Chamar função\n",
    "carga_categorias(df_categorias)"
   ]
  }
 ],
 "metadata": {
  "kernelspec": {
   "display_name": "venv",
   "language": "python",
   "name": "python3"
  },
  "language_info": {
   "codemirror_mode": {
    "name": "ipython",
    "version": 3
   },
   "file_extension": ".py",
   "mimetype": "text/x-python",
   "name": "python",
   "nbconvert_exporter": "python",
   "pygments_lexer": "ipython3",
   "version": "3.13.3"
  }
 },
 "nbformat": 4,
 "nbformat_minor": 5
}
