{
 "cells": [
  {
   "cell_type": "code",
   "execution_count": 8,
   "id": "6e9b7e16",
   "metadata": {},
   "outputs": [],
   "source": [
    "#pip install  google-cloud-bigquery\n",
    "#pip install --upgrade google-cloud-bigquery\n",
    "#pip install  pandas_gbq\n",
    "#pip install  pandas\n",
    "\n",
    "#pip install pandas pandas_gbq"
   ]
  },
  {
   "cell_type": "code",
   "execution_count": 9,
   "id": "3d7d0920",
   "metadata": {},
   "outputs": [],
   "source": [
    "import pandas as pd\n",
    "from google.cloud import bigquery\n",
    "from google.oauth2 import service_account\n",
    "from pandas_gbq import to_gbq"
   ]
  },
  {
   "cell_type": "code",
   "execution_count": 10,
   "id": "f710521b",
   "metadata": {},
   "outputs": [],
   "source": [
    "# Carregue suas credenciais\n",
    "credencial = service_account.Credentials.from_service_account_file(\n",
    "    \"/Users/juniorsilva/Downloads/python-curso-459117-fc7b944c47c6.json\", scopes=['https://www.googleapis.com/auth/bigquery'])"
   ]
  },
  {
   "cell_type": "code",
   "execution_count": 11,
   "id": "a7133c65",
   "metadata": {},
   "outputs": [
    {
     "data": {
      "text/html": [
       "<div>\n",
       "<style scoped>\n",
       "    .dataframe tbody tr th:only-of-type {\n",
       "        vertical-align: middle;\n",
       "    }\n",
       "\n",
       "    .dataframe tbody tr th {\n",
       "        vertical-align: top;\n",
       "    }\n",
       "\n",
       "    .dataframe thead th {\n",
       "        text-align: right;\n",
       "    }\n",
       "</style>\n",
       "<table border=\"1\" class=\"dataframe\">\n",
       "  <thead>\n",
       "    <tr style=\"text-align: right;\">\n",
       "      <th></th>\n",
       "      <th>ID</th>\n",
       "      <th>Name</th>\n",
       "      <th>Price</th>\n",
       "      <th>Id_Category</th>\n",
       "    </tr>\n",
       "  </thead>\n",
       "  <tbody>\n",
       "    <tr>\n",
       "      <th>0</th>\n",
       "      <td>0</td>\n",
       "      <td>Sapato vermelho</td>\n",
       "      <td>96</td>\n",
       "      <td>0</td>\n",
       "    </tr>\n",
       "    <tr>\n",
       "      <th>1</th>\n",
       "      <td>1</td>\n",
       "      <td>Bolsa mais que Velha</td>\n",
       "      <td>8000</td>\n",
       "      <td>0</td>\n",
       "    </tr>\n",
       "    <tr>\n",
       "      <th>2</th>\n",
       "      <td>2</td>\n",
       "      <td>Calça RASGADA</td>\n",
       "      <td>75</td>\n",
       "      <td>0</td>\n",
       "    </tr>\n",
       "    <tr>\n",
       "      <th>3</th>\n",
       "      <td>3</td>\n",
       "      <td>Camisa apertadinha</td>\n",
       "      <td>170</td>\n",
       "      <td>0</td>\n",
       "    </tr>\n",
       "    <tr>\n",
       "      <th>4</th>\n",
       "      <td>4</td>\n",
       "      <td>Vestido Super curto</td>\n",
       "      <td>57</td>\n",
       "      <td>0</td>\n",
       "    </tr>\n",
       "  </tbody>\n",
       "</table>\n",
       "</div>"
      ],
      "text/plain": [
       "   ID                  Name  Price  Id_Category\n",
       "0   0       Sapato vermelho     96            0\n",
       "1   1  Bolsa mais que Velha   8000            0\n",
       "2   2         Calça RASGADA     75            0\n",
       "3   3    Camisa apertadinha    170            0\n",
       "4   4   Vestido Super curto     57            0"
      ]
     },
     "execution_count": 11,
     "metadata": {},
     "output_type": "execute_result"
    }
   ],
   "source": [
    "df = pd.read_excel(\"/Users/juniorsilva/develop/data/estudos-engenharia-dados/python-etl/Arquivos Excel/arquivos_excel/Produto.xlsx\")\n",
    "df.head(5)"
   ]
  },
  {
   "cell_type": "code",
   "execution_count": null,
   "id": "748b489f",
   "metadata": {},
   "outputs": [
    {
     "name": "stderr",
     "output_type": "stream",
     "text": [
      "/var/folders/3r/bw0_ywj11pb_yrqsny5pgw480000gn/T/ipykernel_23479/1718594391.py:1: FutureWarning: to_gbq is deprecated and will be removed in a future version. Please use pandas_gbq.to_gbq instead: https://pandas-gbq.readthedocs.io/en/latest/api.html#pandas_gbq.to_gbq\n",
      "  df.to_gbq(destination_table='python-curso-459117.AulaPython.Produto',\n"
     ]
    }
   ],
   "source": [
    "df.to_gbq(destination_table='python-curso-459117.AulaPython.Produto', # caminho completo do dataset + nome da tabela\n",
    "          project_id='python-curso-459117',\n",
    "          if_exists='replace',\n",
    "          credentials=credencial)\n",
    "\n",
    "# replace = substituir a antiga base de dados pela nova\n",
    "# append = adiciona dados no final da tabela existente"
   ]
  }
 ],
 "metadata": {
  "kernelspec": {
   "display_name": "venv",
   "language": "python",
   "name": "python3"
  },
  "language_info": {
   "codemirror_mode": {
    "name": "ipython",
    "version": 3
   },
   "file_extension": ".py",
   "mimetype": "text/x-python",
   "name": "python",
   "nbconvert_exporter": "python",
   "pygments_lexer": "ipython3",
   "version": "3.13.3"
  }
 },
 "nbformat": 4,
 "nbformat_minor": 5
}
