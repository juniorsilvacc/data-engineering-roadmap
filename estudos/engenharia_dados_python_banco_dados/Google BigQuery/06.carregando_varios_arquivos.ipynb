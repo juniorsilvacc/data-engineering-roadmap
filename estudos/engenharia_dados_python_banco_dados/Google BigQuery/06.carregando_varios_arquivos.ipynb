{
 "cells": [
  {
   "cell_type": "code",
   "execution_count": 10,
   "id": "3d7d0920",
   "metadata": {},
   "outputs": [],
   "source": [
    "import pandas as pd\n",
    "from google.cloud import bigquery\n",
    "from google.oauth2 import service_account\n",
    "from pandas_gbq import to_gbq"
   ]
  },
  {
   "cell_type": "code",
   "execution_count": 12,
   "id": "f710521b",
   "metadata": {},
   "outputs": [],
   "source": [
    "# Carregue suas credenciais\n",
    "credencial = service_account.Credentials.from_service_account_file(\n",
    "    \"/Users/juniorsilva/Downloads/python-curso-459117-fc7b944c47c6.json\", scopes=['https://www.googleapis.com/auth/bigquery'])"
   ]
  },
  {
   "cell_type": "code",
   "execution_count": 13,
   "id": "e89a23e8",
   "metadata": {},
   "outputs": [],
   "source": [
    "# Nome do projeto e dataset\n",
    "projeto = 'python-curso-459117'\n",
    "dataset = 'Ecommerce'"
   ]
  },
  {
   "cell_type": "code",
   "execution_count": 14,
   "id": "65992dac",
   "metadata": {},
   "outputs": [],
   "source": [
    "# Mapear arquivos com nome da tabela\n",
    "arquivos = {\n",
    "    'Produto': '/Users/juniorsilva/develop/data/estudos-engenharia-dados/engenharia-dados-com-python-e-banco-de-dados/Google BigQuery/Arquivos/Produto.xlsx',\n",
    "    'Ordens': '/Users/juniorsilva/develop/data/estudos-engenharia-dados/engenharia-dados-com-python-e-banco-de-dados/Google BigQuery/Arquivos/Ordens.xlsx',\n",
    "    'Items': '/Users/juniorsilva/develop/data/estudos-engenharia-dados/engenharia-dados-com-python-e-banco-de-dados/Google BigQuery/Arquivos/items.xlsx',\n",
    "    'Categoria': '/Users/juniorsilva/develop/data/estudos-engenharia-dados/engenharia-dados-com-python-e-banco-de-dados/Google BigQuery/Arquivos/Categoria.xlsx',\n",
    "    'Clientes': '/Users/juniorsilva/develop/data/estudos-engenharia-dados/engenharia-dados-com-python-e-banco-de-dados/Google BigQuery/Arquivos/Clientes.csv'\n",
    "}"
   ]
  },
  {
   "cell_type": "code",
   "execution_count": null,
   "id": "40262f4d",
   "metadata": {},
   "outputs": [
    {
     "name": "stdout",
     "output_type": "stream",
     "text": [
      "--- Produto ---\n",
      "   ID                  Name  Price  Id_Category\n",
      "0   0       Sapato vermelho     96            0\n",
      "1   1  Bolsa mais que Velha   8000            0\n",
      "2   2         Calça RASGADA     75            0\n",
      "3   3    Camisa apertadinha    170            0\n",
      "4   4   Vestido Super curto     57            0\n",
      "\n",
      "\n",
      "--- Ordens ---\n",
      "   id          created_at  customer_id              status\n",
      "0   0 2019-08-28 03:36:31           91            entregue\n",
      "1   1 2019-08-16 20:21:30            7            entregue\n",
      "2   2 2019-07-11 11:00:06           26  pagamento_pendente\n",
      "3   3 2019-08-27 21:04:41           92  pagamento_pendente\n",
      "4   4 2019-11-03 19:58:37           63    entrega_pendente\n",
      "\n",
      "\n",
      "--- Items ---\n",
      "   id  order_id  product_id  quantity  total_price\n",
      "0   0      7019          28         1          186\n",
      "1   1      8827          29         1          110\n",
      "2   2      3863          38         1          385\n",
      "3   3      5002          37         1          493\n",
      "4   4      6337          28         1          186\n",
      "\n",
      "\n",
      "--- Categoria ---\n",
      "   id                     name\n",
      "0   0        Moda e Acessórios\n",
      "1   1  Cosméticos e Perfumaria\n",
      "2   2         Eletrodomésticos\n",
      "3   3                   Livros\n",
      "4   4                Celulares\n",
      "\n",
      "\n",
      "--- Clientes ---\n",
      "   id           created_at first_name last_name                email  \\\n",
      "0   0  2017-11-01 14:45:41      Marta     Jesus                  NaN   \n",
      "1   1  2017-10-16 00:50:39      Luana   Almeida                  NaN   \n",
      "2   2  2018-06-16 17:51:29      Frida    Mendes  frida@meu_email.com   \n",
      "3   3  2018-01-17 03:02:58    Daniela   Avelino  daniela@exemplo.com   \n",
      "4   4  2018-08-06 07:24:16    Romário  Teixeira                  NaN   \n",
      "\n",
      "    cell_phone country              state  \\\n",
      "0  9 9102-7834  Brasil               Acre   \n",
      "1  9 7328-8718  Brasil  Rio Grande do Sul   \n",
      "2  9 5906-7552  Brasil          São Paulo   \n",
      "3  9 4642-9486  Brasil        Mato Grosso   \n",
      "4  9 3093-6522  Brasil              Bahia   \n",
      "\n",
      "                                   street  number  additionals  \n",
      "0                                     NaN     NaN  Conjunto 16  \n",
      "1  Avenida 56 do Estado Rio Grande do Sul   989.0  Conjunto 17  \n",
      "2          Avenida 59 do Estado São Paulo   534.0          NaN  \n",
      "3                                     NaN     NaN          NaN  \n",
      "4                Praça 56 do Estado Bahia   191.0      Apto 12  \n",
      "\n",
      "\n"
     ]
    }
   ],
   "source": [
    "for tabela, caminho in arquivos.items():\n",
    "\t\tprint(f'--- {tabela} ---')\n",
    "\t\t\n",
    "\t\tif caminho.endswith('.csv'):\n",
    "\t\t\tdf = pd.read_csv(caminho)\n",
    "\t\telif caminho.endswith('.xlsx'):\n",
    "\t\t\tdf = pd.read_excel(caminho)\n",
    "\t\telse:\n",
    "\t\t\tprint(f'Formato não suportado: {caminho}')\n",
    "\t\t\tcontinue\n",
    "\n",
    "\t\tprint(df.head())\n",
    "\t\tprint('\\n')"
   ]
  },
  {
   "cell_type": "code",
   "execution_count": null,
   "id": "936a14e6",
   "metadata": {},
   "outputs": [],
   "source": [
    "# Função para carregar e enviar\n",
    "def carregar_e_enviar(tabela, caminho, projeto, dataset, credencial, if_exists='replace'):\n",
    "    print(f'Carregando: {tabela}')\n",
    "    \n",
    "    if caminho.endswith('.csv'):\n",
    "        df = pd.read_csv(caminho)\n",
    "    elif caminho.endswith('.xlsx'):\n",
    "        df = pd.read_excel(caminho)\n",
    "    else:\n",
    "        raise ValueError(f'Formato não suportado: {caminho}')\n",
    "    \n",
    "    destino = f'{projeto}.{dataset}.{tabela}'\n",
    "    print(f'Enviando para BigQuery: {destino}')\n",
    "    \n",
    "    df.to_gbq(destination_table=destino,\n",
    "              project_id=projeto,\n",
    "              if_exists=if_exists,\n",
    "              credentials=credencial)"
   ]
  },
  {
   "cell_type": "code",
   "execution_count": 18,
   "id": "0c5d708b",
   "metadata": {},
   "outputs": [
    {
     "name": "stdout",
     "output_type": "stream",
     "text": [
      "Carregando: Produto\n",
      "Enviando para BigQuery: python-curso-459117.Ecommerce.Produto\n"
     ]
    },
    {
     "name": "stderr",
     "output_type": "stream",
     "text": [
      "/var/folders/3r/bw0_ywj11pb_yrqsny5pgw480000gn/T/ipykernel_3679/406121237.py:16: FutureWarning: to_gbq is deprecated and will be removed in a future version. Please use pandas_gbq.to_gbq instead: https://pandas-gbq.readthedocs.io/en/latest/api.html#pandas_gbq.to_gbq\n",
      "  df.to_gbq(destination_table=destino,\n"
     ]
    },
    {
     "name": "stdout",
     "output_type": "stream",
     "text": [
      "Carregando: Ordens\n",
      "Enviando para BigQuery: python-curso-459117.Ecommerce.Ordens\n"
     ]
    },
    {
     "name": "stderr",
     "output_type": "stream",
     "text": [
      "/var/folders/3r/bw0_ywj11pb_yrqsny5pgw480000gn/T/ipykernel_3679/406121237.py:16: FutureWarning: to_gbq is deprecated and will be removed in a future version. Please use pandas_gbq.to_gbq instead: https://pandas-gbq.readthedocs.io/en/latest/api.html#pandas_gbq.to_gbq\n",
      "  df.to_gbq(destination_table=destino,\n"
     ]
    },
    {
     "name": "stdout",
     "output_type": "stream",
     "text": [
      "Carregando: Items\n",
      "Enviando para BigQuery: python-curso-459117.Ecommerce.Items\n"
     ]
    },
    {
     "name": "stderr",
     "output_type": "stream",
     "text": [
      "/var/folders/3r/bw0_ywj11pb_yrqsny5pgw480000gn/T/ipykernel_3679/406121237.py:16: FutureWarning: to_gbq is deprecated and will be removed in a future version. Please use pandas_gbq.to_gbq instead: https://pandas-gbq.readthedocs.io/en/latest/api.html#pandas_gbq.to_gbq\n",
      "  df.to_gbq(destination_table=destino,\n"
     ]
    },
    {
     "name": "stdout",
     "output_type": "stream",
     "text": [
      "Carregando: Categoria\n",
      "Enviando para BigQuery: python-curso-459117.Ecommerce.Categoria\n"
     ]
    },
    {
     "name": "stderr",
     "output_type": "stream",
     "text": [
      "/var/folders/3r/bw0_ywj11pb_yrqsny5pgw480000gn/T/ipykernel_3679/406121237.py:16: FutureWarning: to_gbq is deprecated and will be removed in a future version. Please use pandas_gbq.to_gbq instead: https://pandas-gbq.readthedocs.io/en/latest/api.html#pandas_gbq.to_gbq\n",
      "  df.to_gbq(destination_table=destino,\n"
     ]
    },
    {
     "name": "stdout",
     "output_type": "stream",
     "text": [
      "Carregando: Clientes\n",
      "Enviando para BigQuery: python-curso-459117.Ecommerce.Clientes\n"
     ]
    },
    {
     "name": "stderr",
     "output_type": "stream",
     "text": [
      "/var/folders/3r/bw0_ywj11pb_yrqsny5pgw480000gn/T/ipykernel_3679/406121237.py:16: FutureWarning: to_gbq is deprecated and will be removed in a future version. Please use pandas_gbq.to_gbq instead: https://pandas-gbq.readthedocs.io/en/latest/api.html#pandas_gbq.to_gbq\n",
      "  df.to_gbq(destination_table=destino,\n"
     ]
    }
   ],
   "source": [
    "for tabela, caminho in arquivos.items():\n",
    "    carregar_e_enviar(tabela, caminho, projeto, dataset, credencial)"
   ]
  }
 ],
 "metadata": {
  "kernelspec": {
   "display_name": "venv",
   "language": "python",
   "name": "python3"
  },
  "language_info": {
   "codemirror_mode": {
    "name": "ipython",
    "version": 3
   },
   "file_extension": ".py",
   "mimetype": "text/x-python",
   "name": "python",
   "nbconvert_exporter": "python",
   "pygments_lexer": "ipython3",
   "version": "3.13.3"
  }
 },
 "nbformat": 4,
 "nbformat_minor": 5
}
