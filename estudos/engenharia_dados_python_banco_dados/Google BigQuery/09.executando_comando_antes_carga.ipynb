{
 "cells": [
  {
   "cell_type": "code",
   "execution_count": null,
   "metadata": {},
   "outputs": [],
   "source": [
    "import pandas as pd\n",
    "from google.cloud import bigquery\n",
    "from google.oauth2 import service_account\n",
    "from pandas_gbq import to_gbq\n",
    "from datetime import datetime"
   ]
  },
  {
   "cell_type": "code",
   "execution_count": null,
   "metadata": {},
   "outputs": [],
   "source": [
    "df = pd.read_excel(\"/Users/juniorsilva/develop/data/estudos-engenharia-dados/engenharia-dados-com-python-e-banco-de-dados/Google BigQuery/Arquivos/Ordens.xlsx\")\n",
    "df.head()"
   ]
  },
  {
   "cell_type": "code",
   "execution_count": null,
   "metadata": {},
   "outputs": [],
   "source": [
    "tipos_de_dados = df.dtypes\n",
    "print(tipos_de_dados)\n"
   ]
  },
  {
   "cell_type": "code",
   "execution_count": null,
   "metadata": {},
   "outputs": [],
   "source": [
    "# filto no meu dataflame antes de realizar a carga (apenas o mês e ano atuais)\n",
    "\"\"\"\n",
    "hoje = datetime.now()\n",
    "mes_atual = hoje.month\n",
    "ano_atual = hoje.year\n",
    "\n",
    "df_filtrado = df[(df['created_at'].dt.month == mes_atual) & (df['created_at'].dt.year == ano_atual)]\n",
    "\"\"\""
   ]
  },
  {
   "cell_type": "code",
   "execution_count": null,
   "metadata": {},
   "outputs": [],
   "source": [
    "#hoje = datetime.now().year\n",
    "#print(hoje)"
   ]
  },
  {
   "cell_type": "code",
   "execution_count": null,
   "metadata": {},
   "outputs": [],
   "source": [
    "#df_filtrado.head(5)"
   ]
  },
  {
   "cell_type": "code",
   "execution_count": null,
   "metadata": {},
   "outputs": [],
   "source": [
    "hoje = datetime.now()\n",
    "mes_atual = hoje.month\n",
    "ano_atual = hoje.year\n",
    "\n",
    "df = df[(df['created_at'].dt.month == mes_atual) & (df['created_at'].dt.year == ano_atual)]"
   ]
  },
  {
   "cell_type": "code",
   "execution_count": null,
   "metadata": {},
   "outputs": [],
   "source": [
    "df.head()"
   ]
  },
  {
   "cell_type": "code",
   "execution_count": null,
   "metadata": {},
   "outputs": [],
   "source": [
    "# Especifique o caminho para o arquivo JSON de credenciais\n",
    "credencial = \"/Users/juniorsilva/Downloads/python-curso-459117-fc7b944c47c6.json\"\n",
    "\n",
    "# Crie um cliente BigQuery usando as credenciais\n",
    "clientacao = bigquery.Client.from_service_account_json(credencial)"
   ]
  },
  {
   "cell_type": "code",
   "execution_count": null,
   "metadata": {},
   "outputs": [],
   "source": [
    "comandoapagar = \"\"\" \n",
    "\n",
    "\tDELETE\n",
    "\t\tFROM `python-curso-459117.AulaPython.Ordens`\n",
    "\t\tWHERE FORMAT_TIMESTAMP('%Y', created_at)  = FORMAT_TIMESTAMP('%Y', CURRENT_DATE())\n",
    "\tAND FORMAT_TIMESTAMP('%m', created_at)  = FORMAT_TIMESTAMP('%m', CURRENT_DATE())\n",
    "\n",
    "\"\"\"\n",
    "# Execute a consulta\n",
    "apagardados = clientacao.query(comandoapagar)"
   ]
  },
  {
   "cell_type": "markdown",
   "metadata": {},
   "source": [
    "https://cloud.google.com/bigquery/docs/reference/standard-sql/format-elements"
   ]
  },
  {
   "cell_type": "code",
   "execution_count": null,
   "metadata": {},
   "outputs": [],
   "source": [
    "\n",
    "# credenciais para validar importar dados para o google bigquery\n",
    "credencial = service_account.Credentials.from_service_account_file(\n",
    "    \"/Users/juniorsilva/Downloads/python-curso-459117-fc7b944c47c6.json\", scopes=['https://www.googleapis.com/auth/bigquery'])\n",
    "\n",
    "# Variaveis do projeto \n",
    "projeto = 'python-curso-459117'\n",
    "dataset = 'AulaPython'\n",
    "tabela = 'Ordens'\n",
    "parameretro ='append'      \n",
    "# replace = subistuir a antiga pela original \n",
    "# append = adiciona dados no fim da tabela "
   ]
  },
  {
   "cell_type": "code",
   "execution_count": null,
   "metadata": {},
   "outputs": [],
   "source": [
    "df.to_gbq(destination_table=f'{projeto}.{dataset}.{tabela}',   \n",
    "          project_id=projeto,\n",
    "          if_exists=parameretro,\n",
    "          credentials=credencial)"
   ]
  },
  {
   "cell_type": "code",
   "execution_count": null,
   "metadata": {},
   "outputs": [],
   "source": [
    "\"\"\"  \n",
    "\n",
    "SELECT *\n",
    "\textract(YEAR  FROM created_at) as ano,\n",
    "\textract(month  FROM created_at) as mes,\n",
    "\tFORMAT_TIMESTAMP('%Y', created_at) AS anoFormat,\n",
    "\tFORMAT_TIMESTAMP('%m', created_at) AS mesformat,\n",
    "\tCURRENT_DATE() hoje\n",
    "FROM `python-curso-459117.AulaPython.Ordens` \n",
    "\n",
    "\"\"\""
   ]
  },
  {
   "cell_type": "code",
   "execution_count": null,
   "metadata": {},
   "outputs": [],
   "source": [
    "#Delete\n",
    "\"\"\"\n",
    "\n",
    "\tDELETE FROM `python-curso-459117.AulaPython.Ordens` \n",
    "\tWHERE FORMAT_TIMESTAMP('%Y', created_at) = FORMAT_TIMESTAMP('%Y', CURRENT_DATE())\n",
    "\tAND FORMAT_TIMESTAMP('%m', created_at) = FORMAT_TIMESTAMP('%m', CURRENT_DATE())\n",
    "\n",
    "\"\"\""
   ]
  }
 ],
 "metadata": {
  "kernelspec": {
   "display_name": "Python 3",
   "language": "python",
   "name": "python3"
  },
  "language_info": {
   "codemirror_mode": {
    "name": "ipython",
    "version": 3
   },
   "file_extension": ".py",
   "mimetype": "text/x-python",
   "name": "python",
   "nbconvert_exporter": "python",
   "pygments_lexer": "ipython3",
   "version": "3.11.4"
  },
  "orig_nbformat": 4
 },
 "nbformat": 4,
 "nbformat_minor": 2
}
