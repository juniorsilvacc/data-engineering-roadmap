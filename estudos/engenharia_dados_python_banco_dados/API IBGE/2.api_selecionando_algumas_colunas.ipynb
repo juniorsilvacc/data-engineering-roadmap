{
 "cells": [
  {
   "cell_type": "code",
   "execution_count": 52,
   "id": "41040f5b",
   "metadata": {},
   "outputs": [
    {
     "data": {
      "text/html": [
       "<div>\n",
       "<style scoped>\n",
       "    .dataframe tbody tr th:only-of-type {\n",
       "        vertical-align: middle;\n",
       "    }\n",
       "\n",
       "    .dataframe tbody tr th {\n",
       "        vertical-align: top;\n",
       "    }\n",
       "\n",
       "    .dataframe thead th {\n",
       "        text-align: right;\n",
       "    }\n",
       "</style>\n",
       "<table border=\"1\" class=\"dataframe\">\n",
       "  <thead>\n",
       "    <tr style=\"text-align: right;\">\n",
       "      <th></th>\n",
       "      <th>id</th>\n",
       "      <th>nome</th>\n",
       "      <th>municipio</th>\n",
       "    </tr>\n",
       "  </thead>\n",
       "  <tbody>\n",
       "    <tr>\n",
       "      <th>0</th>\n",
       "      <td>520005005</td>\n",
       "      <td>Abadia de Goiás</td>\n",
       "      <td>{'id': 5200050, 'nome': 'Abadia de Goiás', 'microrregiao': {'id': 52010, 'nome': 'Goiânia', 'mesorregiao': {'id': 5203, 'nome': 'Centro Goiano', 'UF': {'id': 52, 'sigla': 'GO', 'nome': 'Goiás', 'regiao': {'id': 5, 'sigla': 'CO', 'nome': 'Centro-Oeste'}}}}, 'regiao-imediata': {'id': 520001, 'nome': 'Goiânia', 'regiao-intermediaria': {'id': 5201, 'nome': 'Goiânia', 'UF': {'id': 52, 'sigla': 'GO', 'nome': 'Goiás', 'regiao': {'id': 5, 'sigla': 'CO', 'nome': 'Centro-Oeste'}}}}}</td>\n",
       "    </tr>\n",
       "    <tr>\n",
       "      <th>1</th>\n",
       "      <td>310010405</td>\n",
       "      <td>Abadia dos Dourados</td>\n",
       "      <td>{'id': 3100104, 'nome': 'Abadia dos Dourados', 'microrregiao': {'id': 31019, 'nome': 'Patrocínio', 'mesorregiao': {'id': 3105, 'nome': 'Triângulo Mineiro/Alto Paranaíba', 'UF': {'id': 31, 'sigla': 'MG', 'nome': 'Minas Gerais', 'regiao': {'id': 3, 'sigla': 'SE', 'nome': 'Sudeste'}}}}, 'regiao-imediata': {'id': 310061, 'nome': 'Monte Carmelo', 'regiao-intermediaria': {'id': 3111, 'nome': 'Uberlândia', 'UF': {'id': 31, 'sigla': 'MG', 'nome': 'Minas Gerais', 'regiao': {'id': 3, 'sigla': 'SE', 'nome': 'Sudeste'}}}}}</td>\n",
       "    </tr>\n",
       "    <tr>\n",
       "      <th>2</th>\n",
       "      <td>520010005</td>\n",
       "      <td>Abadiânia</td>\n",
       "      <td>{'id': 5200100, 'nome': 'Abadiânia', 'microrregiao': {'id': 52012, 'nome': 'Entorno de Brasília', 'mesorregiao': {'id': 5204, 'nome': 'Leste Goiano', 'UF': {'id': 52, 'sigla': 'GO', 'nome': 'Goiás', 'regiao': {'id': 5, 'sigla': 'CO', 'nome': 'Centro-Oeste'}}}}, 'regiao-imediata': {'id': 520002, 'nome': 'Anápolis', 'regiao-intermediaria': {'id': 5201, 'nome': 'Goiânia', 'UF': {'id': 52, 'sigla': 'GO', 'nome': 'Goiás', 'regiao': {'id': 5, 'sigla': 'CO', 'nome': 'Centro-Oeste'}}}}}</td>\n",
       "    </tr>\n",
       "    <tr>\n",
       "      <th>3</th>\n",
       "      <td>520010010</td>\n",
       "      <td>Posse d'Abadia</td>\n",
       "      <td>{'id': 5200100, 'nome': 'Abadiânia', 'microrregiao': {'id': 52012, 'nome': 'Entorno de Brasília', 'mesorregiao': {'id': 5204, 'nome': 'Leste Goiano', 'UF': {'id': 52, 'sigla': 'GO', 'nome': 'Goiás', 'regiao': {'id': 5, 'sigla': 'CO', 'nome': 'Centro-Oeste'}}}}, 'regiao-imediata': {'id': 520002, 'nome': 'Anápolis', 'regiao-intermediaria': {'id': 5201, 'nome': 'Goiânia', 'UF': {'id': 52, 'sigla': 'GO', 'nome': 'Goiás', 'regiao': {'id': 5, 'sigla': 'CO', 'nome': 'Centro-Oeste'}}}}}</td>\n",
       "    </tr>\n",
       "    <tr>\n",
       "      <th>4</th>\n",
       "      <td>310020305</td>\n",
       "      <td>Abaeté</td>\n",
       "      <td>{'id': 3100203, 'nome': 'Abaeté', 'microrregiao': {'id': 31024, 'nome': 'Três Marias', 'mesorregiao': {'id': 3106, 'nome': 'Central Mineira', 'UF': {'id': 31, 'sigla': 'MG', 'nome': 'Minas Gerais', 'regiao': {'id': 3, 'sigla': 'SE', 'nome': 'Sudeste'}}}}, 'regiao-imediata': {'id': 310070, 'nome': 'Abaeté', 'regiao-intermediaria': {'id': 3113, 'nome': 'Divinópolis', 'UF': {'id': 31, 'sigla': 'MG', 'nome': 'Minas Gerais', 'regiao': {'id': 3, 'sigla': 'SE', 'nome': 'Sudeste'}}}}}</td>\n",
       "    </tr>\n",
       "  </tbody>\n",
       "</table>\n",
       "</div>"
      ],
      "text/plain": [
       "          id                 nome  \\\n",
       "0  520005005      Abadia de Goiás   \n",
       "1  310010405  Abadia dos Dourados   \n",
       "2  520010005            Abadiânia   \n",
       "3  520010010       Posse d'Abadia   \n",
       "4  310020305               Abaeté   \n",
       "\n",
       "                                                                                                                                                                                                                                                                                                                                                                                                                                                                                                                              municipio  \n",
       "0                                         {'id': 5200050, 'nome': 'Abadia de Goiás', 'microrregiao': {'id': 52010, 'nome': 'Goiânia', 'mesorregiao': {'id': 5203, 'nome': 'Centro Goiano', 'UF': {'id': 52, 'sigla': 'GO', 'nome': 'Goiás', 'regiao': {'id': 5, 'sigla': 'CO', 'nome': 'Centro-Oeste'}}}}, 'regiao-imediata': {'id': 520001, 'nome': 'Goiânia', 'regiao-intermediaria': {'id': 5201, 'nome': 'Goiânia', 'UF': {'id': 52, 'sigla': 'GO', 'nome': 'Goiás', 'regiao': {'id': 5, 'sigla': 'CO', 'nome': 'Centro-Oeste'}}}}}  \n",
       "1  {'id': 3100104, 'nome': 'Abadia dos Dourados', 'microrregiao': {'id': 31019, 'nome': 'Patrocínio', 'mesorregiao': {'id': 3105, 'nome': 'Triângulo Mineiro/Alto Paranaíba', 'UF': {'id': 31, 'sigla': 'MG', 'nome': 'Minas Gerais', 'regiao': {'id': 3, 'sigla': 'SE', 'nome': 'Sudeste'}}}}, 'regiao-imediata': {'id': 310061, 'nome': 'Monte Carmelo', 'regiao-intermediaria': {'id': 3111, 'nome': 'Uberlândia', 'UF': {'id': 31, 'sigla': 'MG', 'nome': 'Minas Gerais', 'regiao': {'id': 3, 'sigla': 'SE', 'nome': 'Sudeste'}}}}}  \n",
       "2                                   {'id': 5200100, 'nome': 'Abadiânia', 'microrregiao': {'id': 52012, 'nome': 'Entorno de Brasília', 'mesorregiao': {'id': 5204, 'nome': 'Leste Goiano', 'UF': {'id': 52, 'sigla': 'GO', 'nome': 'Goiás', 'regiao': {'id': 5, 'sigla': 'CO', 'nome': 'Centro-Oeste'}}}}, 'regiao-imediata': {'id': 520002, 'nome': 'Anápolis', 'regiao-intermediaria': {'id': 5201, 'nome': 'Goiânia', 'UF': {'id': 52, 'sigla': 'GO', 'nome': 'Goiás', 'regiao': {'id': 5, 'sigla': 'CO', 'nome': 'Centro-Oeste'}}}}}  \n",
       "3                                   {'id': 5200100, 'nome': 'Abadiânia', 'microrregiao': {'id': 52012, 'nome': 'Entorno de Brasília', 'mesorregiao': {'id': 5204, 'nome': 'Leste Goiano', 'UF': {'id': 52, 'sigla': 'GO', 'nome': 'Goiás', 'regiao': {'id': 5, 'sigla': 'CO', 'nome': 'Centro-Oeste'}}}}, 'regiao-imediata': {'id': 520002, 'nome': 'Anápolis', 'regiao-intermediaria': {'id': 5201, 'nome': 'Goiânia', 'UF': {'id': 52, 'sigla': 'GO', 'nome': 'Goiás', 'regiao': {'id': 5, 'sigla': 'CO', 'nome': 'Centro-Oeste'}}}}}  \n",
       "4                                     {'id': 3100203, 'nome': 'Abaeté', 'microrregiao': {'id': 31024, 'nome': 'Três Marias', 'mesorregiao': {'id': 3106, 'nome': 'Central Mineira', 'UF': {'id': 31, 'sigla': 'MG', 'nome': 'Minas Gerais', 'regiao': {'id': 3, 'sigla': 'SE', 'nome': 'Sudeste'}}}}, 'regiao-imediata': {'id': 310070, 'nome': 'Abaeté', 'regiao-intermediaria': {'id': 3113, 'nome': 'Divinópolis', 'UF': {'id': 31, 'sigla': 'MG', 'nome': 'Minas Gerais', 'regiao': {'id': 3, 'sigla': 'SE', 'nome': 'Sudeste'}}}}}  "
      ]
     },
     "execution_count": 52,
     "metadata": {},
     "output_type": "execute_result"
    }
   ],
   "source": [
    "import requests\n",
    "import pandas as pd\n",
    "\n",
    "# Configurar opções de exibição para mostrar todas as colunas e linhas\n",
    "pd.set_option('display.max_columns', None) # Mostrar todas as colunas\n",
    "pd.set_option('display.max_rows', None) # Mostrar todas as linhas\n",
    "pd.set_option('display.max_colwidth', None) # Não truncar o contéudo das células de texto\n",
    "\n",
    "url = \"https://servicodados.ibge.gov.br/api/v1/localidades/distritos\"\n",
    "response = requests.get(url)\n",
    "\n",
    "data = response.json()\n",
    "\n",
    "df = pd.DataFrame(data) # Transformando em um DataFrame\n",
    "df.head()"
   ]
  },
  {
   "cell_type": "markdown",
   "id": "0de6932e",
   "metadata": {},
   "source": [
    "Abaixando níveis"
   ]
  },
  {
   "cell_type": "code",
   "execution_count": null,
   "id": "1b90ca7d",
   "metadata": {},
   "outputs": [],
   "source": [
    "import requests\n",
    "import pandas as pd\n",
    "\n",
    "# Configurar opções de exibição para mostrar todas as colunas e linhas\n",
    "pd.set_option('display.max_columns', None) # Mostrar todas as colunas\n",
    "pd.set_option('display.max_rows', None) # Mostrar todas as linhas\n",
    "pd.set_option('display.max_colwidth', None) # Não truncar o contéudo das células de texto\n",
    "\n",
    "url = \"https://servicodados.ibge.gov.br/api/v1/localidades/distritos\"\n",
    "response = requests.get(url)\n",
    "\n",
    "data = response.json()\n",
    "\n",
    "df = pd.json_normalize(data) # Transformando em um DataFrame\n",
    "df.head()"
   ]
  },
  {
   "cell_type": "code",
   "execution_count": null,
   "id": "038e8c94",
   "metadata": {},
   "outputs": [],
   "source": [
    "df.columns"
   ]
  },
  {
   "cell_type": "code",
   "execution_count": null,
   "id": "17ed51e4",
   "metadata": {},
   "outputs": [],
   "source": [
    "df[['nome', 'id', 'municipio.microrregiao.mesorregiao.UF.regiao.sigla', 'municipio.regiao-imediata.regiao-intermediaria.UF.nome']].head()"
   ]
  },
  {
   "cell_type": "code",
   "execution_count": null,
   "id": "23f28878",
   "metadata": {},
   "outputs": [],
   "source": [
    "# Renomeando\n",
    "colunas = ['nome', 'id', 'municipio.microrregiao.mesorregiao.UF.regiao.sigla', 'municipio.regiao-imediata.regiao-intermediaria.UF.nome']\n",
    "\n",
    "df_novo = df[colunas].rename(columns={ \n",
    "    'nome': 'distrito',\n",
    "    'municipio.microrregiao.mesorregiao.UF.regiao.sigla': 'uf',\n",
    "    'municipio.regiao-imediata.regiao-intermediaria.UF.nome': 'regiao'\n",
    "    })\n",
    "\n",
    "df_novo.head()"
   ]
  }
 ],
 "metadata": {
  "kernelspec": {
   "display_name": "venv",
   "language": "python",
   "name": "python3"
  },
  "language_info": {
   "codemirror_mode": {
    "name": "ipython",
    "version": 3
   },
   "file_extension": ".py",
   "mimetype": "text/x-python",
   "name": "python",
   "nbconvert_exporter": "python",
   "pygments_lexer": "ipython3",
   "version": "3.13.3"
  }
 },
 "nbformat": 4,
 "nbformat_minor": 5
}
